{
 "cells": [
  {
   "cell_type": "markdown",
   "id": "514c7c4a-72e8-426a-a1e2-2471b0ba1024",
   "metadata": {},
   "source": [
    "# 2.\tData Types\n",
    "## 2.1\tVariables\n",
    "1. In Python, variables don't need explicit declaration to occupy memory space. \n",
    "2. The type of the variable will be decided after assigning the value to it."
   ]
  },
  {
   "cell_type": "code",
   "execution_count": 1,
   "id": "4a1c6d67-7416-4f5c-af0d-69c1fc99f284",
   "metadata": {},
   "outputs": [
    {
     "name": "stdout",
     "output_type": "stream",
     "text": [
      "10.0\n",
      "109\n",
      "Saeed\n"
     ]
    }
   ],
   "source": [
    "counter = 10.00 #float type variable \n",
    "miles = 109 #integer type variable \n",
    "name = \"Saeed\" #string type variable\n",
    "\n",
    "#print all values \n",
    "print (counter) \n",
    "print (miles)\n",
    "print (name)"
   ]
  },
  {
   "cell_type": "markdown",
   "id": "dce24b2c-3593-4c98-8191-122f0a7765d8",
   "metadata": {},
   "source": [
    "## 2.2\tNumbers\n",
    "\n",
    "1. This data type stores numeric values.\n",
    "2. They are immutable data types (Means changing the value of Number data type will results in a newly allocated object). "
   ]
  },
  {
   "cell_type": "code",
   "execution_count": 2,
   "id": "322e4af6-e262-4571-8246-9ed381960cab",
   "metadata": {},
   "outputs": [
    {
     "data": {
      "text/plain": [
       "2"
      ]
     },
     "execution_count": 2,
     "metadata": {},
     "output_type": "execute_result"
    }
   ],
   "source": [
    "2 #integer"
   ]
  },
  {
   "cell_type": "code",
   "execution_count": 3,
   "id": "238f583d-f0a6-4121-8cfc-2468275f5a6f",
   "metadata": {},
   "outputs": [
    {
     "data": {
      "text/plain": [
       "13"
      ]
     },
     "execution_count": 3,
     "metadata": {},
     "output_type": "execute_result"
    }
   ],
   "source": [
    "2+3+8 #integer"
   ]
  },
  {
   "cell_type": "code",
   "execution_count": 4,
   "id": "9b34409d-12ca-4fd6-8633-2fe454ce7982",
   "metadata": {},
   "outputs": [
    {
     "data": {
      "text/plain": [
       "17.7"
      ]
     },
     "execution_count": 4,
     "metadata": {},
     "output_type": "execute_result"
    }
   ],
   "source": [
    "2.3+5.5+9.9 #float"
   ]
  },
  {
   "cell_type": "code",
   "execution_count": 5,
   "id": "2db6a30d-acc7-41f5-89c7-e24e3c96670a",
   "metadata": {},
   "outputs": [
    {
     "data": {
      "text/plain": [
       "64"
      ]
     },
     "execution_count": 5,
     "metadata": {},
     "output_type": "execute_result"
    }
   ],
   "source": [
    "2**6 #exponent"
   ]
  },
  {
   "cell_type": "markdown",
   "id": "914da185-8fbd-4302-b4de-ed70188bf625",
   "metadata": {},
   "source": [
    "## 2.3\tStrings\n",
    "1. String data types are used to store words or combination of words having letters, numbers, special characters etc.\n",
    "2.  It can be stored by enclosing within single qoutes and double qoutes also.\n",
    "3.  Python doesn't support char data type. It will be as String of length one in Python."
   ]
  },
  {
   "cell_type": "code",
   "execution_count": 6,
   "id": "86f7eaa2-cd19-4bd0-a704-ef8b0e65ae8d",
   "metadata": {},
   "outputs": [
    {
     "name": "stdout",
     "output_type": "stream",
     "text": [
      "Saeed\n",
      "UET\n",
      "Saeed UET\n"
     ]
    }
   ],
   "source": [
    "name = 'Saeed' \n",
    "university = \"UET\"\n",
    "\n",
    "print(name)\n",
    "print(university)\n",
    "print(name,university)"
   ]
  },
  {
   "cell_type": "markdown",
   "id": "f1f9cd73-c5b6-4724-b581-55841051093e",
   "metadata": {},
   "source": [
    "#### Acess values in String\n",
    "1. Python doesn't support Character data type. These are treated as Strings of length one.\n",
    "2. Square brackets are used to access substrings.\n",
    "3. We can access a specific character or range of characters from string. "
   ]
  },
  {
   "cell_type": "code",
   "execution_count": 7,
   "id": "0a747b6e-758c-4dde-aee6-7f1da8f6a2e7",
   "metadata": {},
   "outputs": [
    {
     "name": "stdout",
     "output_type": "stream",
     "text": [
      "stringVariable[0]: H\n",
      "stringVariable[1:5]: ello\n",
      "strinVariabale[2:9]: llo Wor\n"
     ]
    }
   ],
   "source": [
    "stringVariable = 'Hello World'\n",
    "print(\"stringVariable[0]:\", stringVariable[0])\n",
    "print(\"stringVariable[1:5]:\", stringVariable[1:5])\n",
    "print(\"strinVariabale[2:9]:\", stringVariable[2:9])"
   ]
  },
  {
   "cell_type": "markdown",
   "id": "f763322c-b4e8-4c6d-b112-19182903ff1f",
   "metadata": {},
   "source": [
    "####  Updating String\n",
    "1. Value of the string can be updated by assigning a new value to it.\n",
    "2. New value will be replaced with older. New value must be related (having same data type) to previous value of the string.\n",
    "3. '+' operator will be used for this purpose like as follows:"
   ]
  },
  {
   "cell_type": "code",
   "execution_count": 8,
   "id": "96273ad7-8168-4f04-966f-43864afe187d",
   "metadata": {},
   "outputs": [
    {
     "name": "stdout",
     "output_type": "stream",
     "text": [
      "Updated string:  Hello Python\n"
     ]
    }
   ],
   "source": [
    "stringVariable = \"Hello World\"\n",
    "stringVariable = stringVariable[:6] + \"Python\"\n",
    "\n",
    "print(\"Updated string: \", stringVariable)\n"
   ]
  },
  {
   "cell_type": "markdown",
   "id": "486d4140-5609-4978-8ce7-25b8029c9279",
   "metadata": {},
   "source": [
    "#### Delete String\n",
    "To delete the value of the string, just delete its object (reference variable). "
   ]
  },
  {
   "cell_type": "code",
   "execution_count": 9,
   "id": "94c7c5e9-69c1-4ae5-9cbb-e9e549f7c8b7",
   "metadata": {},
   "outputs": [
    {
     "name": "stdout",
     "output_type": "stream",
     "text": [
      "Hello World\n"
     ]
    }
   ],
   "source": [
    "stringVariable = \"Hello World\"\n",
    "print (stringVariable)"
   ]
  },
  {
   "cell_type": "code",
   "execution_count": 10,
   "id": "61176f94-efc4-4efb-8e5c-92186dfef2cc",
   "metadata": {},
   "outputs": [
    {
     "ename": "NameError",
     "evalue": "name 'stringVariable' is not defined",
     "output_type": "error",
     "traceback": [
      "\u001b[31m---------------------------------------------------------------------------\u001b[39m",
      "\u001b[31mNameError\u001b[39m                                 Traceback (most recent call last)",
      "\u001b[36mCell\u001b[39m\u001b[36m \u001b[39m\u001b[32mIn[10]\u001b[39m\u001b[32m, line 2\u001b[39m\n\u001b[32m      1\u001b[39m \u001b[38;5;28;01mdel\u001b[39;00m stringVariable\n\u001b[32m----> \u001b[39m\u001b[32m2\u001b[39m \u001b[38;5;28mprint\u001b[39m (stringVariable)\n",
      "\u001b[31mNameError\u001b[39m: name 'stringVariable' is not defined"
     ]
    }
   ],
   "source": [
    "del stringVariable\n",
    "print (stringVariable)"
   ]
  },
  {
   "cell_type": "markdown",
   "id": "1c30b139-0a13-4729-9294-f82722a2e940",
   "metadata": {},
   "source": [
    "#### String special operators\n",
    "Some special operators are used in Python to assist the user. These are given below.\n",
    "1. '+' operator is used for concatenation.\n",
    "2. '*' used of Repetition\n",
    "3. '[]' give the character of string at given index.\n",
    "4. '[:]' is used to get a range of characters from string.\n",
    "5. 'in' returns true if given character exists in string, otherwise false.\n",
    "6. 'in' returns true if given character doesn't exists in string, otherwise false."
   ]
  },
  {
   "cell_type": "markdown",
   "id": "ff150ec8-d739-4c55-9fbf-152ea8ee6ab8",
   "metadata": {},
   "source": [
    "'+' operator is used for concatenation. "
   ]
  },
  {
   "cell_type": "code",
   "execution_count": 11,
   "id": "b5d5ac1b-0969-4dc8-9f40-d33328fa65a5",
   "metadata": {},
   "outputs": [
    {
     "name": "stdout",
     "output_type": "stream",
     "text": [
      "HelloPython\n"
     ]
    }
   ],
   "source": [
    "variable = \"Hello\" \n",
    "print(variable+ \"Python\")"
   ]
  },
  {
   "cell_type": "code",
   "execution_count": 12,
   "id": "673925fd-0f7c-4c97-a919-582862c16263",
   "metadata": {},
   "outputs": [
    {
     "name": "stdout",
     "output_type": "stream",
     "text": [
      "Hello Python\n"
     ]
    }
   ],
   "source": [
    "variable = \"Hello\" \n",
    "print(variable+ \" Python\")"
   ]
  },
  {
   "cell_type": "markdown",
   "id": "8b41852d-1818-45b1-9842-cbda542c125d",
   "metadata": {},
   "source": [
    "'*' used of Repetition"
   ]
  },
  {
   "cell_type": "code",
   "execution_count": 13,
   "id": "b01f3461-341f-4a62-aa63-e3e7d5d7337e",
   "metadata": {},
   "outputs": [
    {
     "name": "stdout",
     "output_type": "stream",
     "text": [
      "HelloHelloHello\n"
     ]
    }
   ],
   "source": [
    "variable = \"Hello\" \n",
    "print(variable*3)"
   ]
  },
  {
   "cell_type": "code",
   "execution_count": 14,
   "id": "30cd6983-3bb2-41dd-aa64-e0f19d079aec",
   "metadata": {},
   "outputs": [
    {
     "name": "stdout",
     "output_type": "stream",
     "text": [
      " Hello Hello Hello\n"
     ]
    }
   ],
   "source": [
    "variable = \" Hello\" \n",
    "print(variable*3)"
   ]
  },
  {
   "cell_type": "markdown",
   "id": "11127e86-402d-4718-ab6f-8b7d5012674c",
   "metadata": {},
   "source": [
    "'[]' give the character of string at given index."
   ]
  },
  {
   "cell_type": "code",
   "execution_count": 15,
   "id": "5e9b42cf-c2c5-4879-9960-6bfc6e202b74",
   "metadata": {},
   "outputs": [
    {
     "name": "stdout",
     "output_type": "stream",
     "text": [
      "e\n"
     ]
    }
   ],
   "source": [
    "variable = \"Hello\" \n",
    "print(variable[1])"
   ]
  },
  {
   "cell_type": "markdown",
   "id": "db46d87e-2629-40ba-96fc-88fcb85266f5",
   "metadata": {},
   "source": [
    "'[:]' is used to get a range of characters from string."
   ]
  },
  {
   "cell_type": "code",
   "execution_count": 16,
   "id": "fd33d595-350a-421b-9499-3020dd5347f6",
   "metadata": {},
   "outputs": [
    {
     "name": "stdout",
     "output_type": "stream",
     "text": [
      "el\n"
     ]
    }
   ],
   "source": [
    "variable = \"Hello\" \n",
    "print(variable[1:3])"
   ]
  },
  {
   "cell_type": "markdown",
   "id": "05714735-a70a-4420-b4ee-3ab6feca7409",
   "metadata": {},
   "source": [
    "'in' returns true if given character exists in string, otherwise false."
   ]
  },
  {
   "cell_type": "code",
   "execution_count": 17,
   "id": "839a1c29-9a46-4110-a47d-4ee63508c395",
   "metadata": {},
   "outputs": [
    {
     "name": "stdout",
     "output_type": "stream",
     "text": [
      "True\n"
     ]
    }
   ],
   "source": [
    "variable = \"Hello\" \n",
    "print('H' in variable)"
   ]
  },
  {
   "cell_type": "markdown",
   "id": "d80714be-5b7d-4ace-97a2-da66f4ff5819",
   "metadata": {},
   "source": [
    "'in' returns true if given character doesn't exists in string, otherwise false."
   ]
  },
  {
   "cell_type": "code",
   "execution_count": 18,
   "id": "bd1c7517-39f9-460e-88dc-0f5a2fa2ae90",
   "metadata": {},
   "outputs": [
    {
     "name": "stdout",
     "output_type": "stream",
     "text": [
      "True\n"
     ]
    }
   ],
   "source": [
    "variable = \"Hello\"\n",
    "print('G' not in variable)"
   ]
  },
  {
   "cell_type": "markdown",
   "id": "7ca236da-7577-40e9-9ebd-ea6d47eab3ac",
   "metadata": {},
   "source": [
    "#### String formatting operator\n",
    "One of the coolest feature is string formatting operator within print statement. \n"
   ]
  },
  {
   "cell_type": "code",
   "execution_count": 19,
   "id": "fc1db129-fd11-49fc-bf97-d4646bb8a38d",
   "metadata": {},
   "outputs": [
    {
     "name": "stdout",
     "output_type": "stream",
     "text": [
      "My name is Saeed and age is 21 Year!\n"
     ]
    }
   ],
   "source": [
    "print (\"My name is %s and age is %d Year!\" % (\"Saeed\",21))"
   ]
  },
  {
   "cell_type": "markdown",
   "id": "caf100ae-70f5-4b9f-9fb5-858d7e05b7b9",
   "metadata": {},
   "source": [
    "# 2.4\tLists\n",
    "1. It can be written as a list of comma-seperated values within square brackets.\n",
    "2.  Multiple types of data can be stored in a List.\n",
    "3.  Individual elements of a list can be changed (it can be read and write). List indices starts from 0 just like arrays."
   ]
  },
  {
   "cell_type": "code",
   "execution_count": 20,
   "id": "d2006869-27ec-4dee-b124-952e5c88cdd9",
   "metadata": {},
   "outputs": [
    {
     "name": "stdout",
     "output_type": "stream",
     "text": [
      "['Saeed', '1880']\n"
     ]
    }
   ],
   "source": [
    "list1 = ['Saeed','1880']\n",
    "print(list1)"
   ]
  },
  {
   "cell_type": "markdown",
   "id": "6271b65a-8614-474c-8eb3-91ae5912a1d5",
   "metadata": {},
   "source": [
    "## Accessing values in Lists\n",
    "1. Square brackets are used to access the values of a list.\n",
    "2. We can access a specific values or range of values from list."
   ]
  },
  {
   "cell_type": "code",
   "execution_count": 21,
   "id": "0c61ffa2-d009-42aa-9f73-ea236e1b18bf",
   "metadata": {},
   "outputs": [
    {
     "name": "stdout",
     "output_type": "stream",
     "text": [
      "list1[0]:  physics\n",
      "list2[1:5]:  [2, 3, 4, 5]\n"
     ]
    }
   ],
   "source": [
    "list1 = ['physics', 'chemistry', 1997, 2000];\n",
    "list2 = [1, 2, 3, 4, 5, 6, 7 ];\n",
    "\n",
    "print (\"list1[0]: \", list1[0])\n",
    "print (\"list2[1:5]: \", list2[1:5])\n"
   ]
  },
  {
   "cell_type": "markdown",
   "id": "d7d40eb6-6be3-4add-bfdd-057ab54771d1",
   "metadata": {},
   "source": [
    "## Updating Lists\n",
    "1. We can update single or mupltiple elements of a list by giving slice on left hand of the assignment operator.\n",
    "2. It can also be updated using append() function."
   ]
  },
  {
   "cell_type": "code",
   "execution_count": 22,
   "id": "6357e10c-69bd-4c7d-a9c0-d739b8953978",
   "metadata": {},
   "outputs": [
    {
     "name": "stdout",
     "output_type": "stream",
     "text": [
      "['physics', 'computer science', 1997, 2000]\n",
      "['physics', 'computer science', 1997, 2000, 'Computer Science']\n"
     ]
    }
   ],
   "source": [
    "list1 = ['physics', 'chemistry', 1997, 2000]\n",
    "list1[1] = \"computer science\"\n",
    "print(list1)\n",
    "\n",
    "list1.append('Computer Science')\n",
    "print(list1)\n"
   ]
  },
  {
   "cell_type": "markdown",
   "id": "fccab294-06d5-45aa-93ce-11032a2870c2",
   "metadata": {},
   "source": [
    "## Delete List element\n",
    "1. del statement is used to remove when you know the position or index of element to be deleted.\n",
    "2. remove() function can be used when you don't know the position of element to be removed."
   ]
  },
  {
   "cell_type": "code",
   "execution_count": 23,
   "id": "697eb03c-4a63-4d19-9c24-319d8b35b69c",
   "metadata": {},
   "outputs": [
    {
     "name": "stdout",
     "output_type": "stream",
     "text": [
      "['physics', 'chemistry', 1997, 2000]\n",
      "After deleting value at index 2 : \n",
      "['physics', 'chemistry', 2000]\n"
     ]
    }
   ],
   "source": [
    "list1 = ['physics', 'chemistry', 1997, 2000]; \n",
    "print (list1)\n",
    "del list1[2];\n",
    "print (\"After deleting value at index 2 : \") \n",
    "print (list1)\n"
   ]
  },
  {
   "cell_type": "code",
   "execution_count": 24,
   "id": "dc018972-21b6-4380-a607-0cb171497723",
   "metadata": {},
   "outputs": [
    {
     "name": "stdout",
     "output_type": "stream",
     "text": [
      "['physics', 'chemistry', 1997, 2000]\n",
      "After deleting value at index 2 : \n",
      "['physics', 1997, 2000]\n"
     ]
    }
   ],
   "source": [
    "list1 = ['physics', 'chemistry', 1997, 2000]\n",
    "print (list1)\n",
    "list1.remove('chemistry')\n",
    "print (\"After deleting value at index 2 : \")\n",
    "print (list1)\n"
   ]
  },
  {
   "cell_type": "markdown",
   "id": "1078afa3-9e18-4540-a7bf-82cf6096c7b1",
   "metadata": {},
   "source": [
    "# 2.5\tDictionaries\n",
    "1. It is same as array of objects having key and values in PHP. Each key is seperated by colon (:) from its value.\n",
    "2. Each item is seperated with comma (,). Empty dictionary can be written as {}.\n",
    "3. Keys are unique in dictionary but values may not. The values of the dictionary can be of any data type.\n",
    "4. The keys must be of an immutable data type such as strings, numbers, or tuples.\n"
   ]
  },
  {
   "cell_type": "markdown",
   "id": "5dd1e5be-1673-4e25-810b-1f6328bccffd",
   "metadata": {},
   "source": [
    "## Accessing value in Dictionary\n",
    "\n",
    "We can use the familiar square brackets along with the key to obtain its value. Following is a simple example\n"
   ]
  },
  {
   "cell_type": "code",
   "execution_count": 25,
   "id": "b2038a23-d3bd-434b-a4ec-74fb6ae4ab9e",
   "metadata": {},
   "outputs": [
    {
     "name": "stdout",
     "output_type": "stream",
     "text": [
      "Saeed\n",
      "Electrical\n"
     ]
    }
   ],
   "source": [
    "dict = {'Name':\"Saeed\", 'Depart': \"Electrical\", 'Batch': 2021}\n",
    "print (dict['Name'])\n",
    "print(dict['Depart'])"
   ]
  },
  {
   "cell_type": "markdown",
   "id": "6fe13797-0ebd-4b51-b6aa-b848cafdbd12",
   "metadata": {},
   "source": [
    "## Updating Dictionary\n",
    "We can update already existing value in dictionary.\n",
    "We can also add a new entry in dictionary.\n"
   ]
  },
  {
   "cell_type": "code",
   "execution_count": 26,
   "id": "aa5d5058-a3a3-4803-a329-432c86ae5d5e",
   "metadata": {},
   "outputs": [
    {
     "name": "stdout",
     "output_type": "stream",
     "text": [
      "{'Name': 'Saeed', 'Depart': 'Electrical', 'Batch': 2021}\n",
      "{'Name': 'Saeed', 'Depart': 'Electrical', 'Batch': 'SP14'}\n",
      "{'Name': 'Saeed', 'Depart': 'Electrical', 'Batch': 'SP14', 'University': 'UET'}\n"
     ]
    }
   ],
   "source": [
    "dict = {'Name':\"Saeed\", 'Depart': \"Electrical\", 'Batch': 2021}\n",
    "print (dict)\n",
    "dict['Batch'] = \"SP14\" \n",
    "print (dict)\n",
    "\n",
    "dict['University'] = \"UET\" \n",
    "print(dict)\n"
   ]
  },
  {
   "cell_type": "markdown",
   "id": "b0cc8404-8a65-441c-b22a-b5656cd86549",
   "metadata": {},
   "source": [
    "## Delete Dictionary Element\n",
    "We can delete individual element of dicitionary and complete content of dictionary.\n",
    "del is used for individual element\n",
    "removal and clear() function is used to remove entire dictionary.\n"
   ]
  },
  {
   "cell_type": "code",
   "execution_count": 27,
   "id": "63e2e355-1893-48b6-b90f-1ab14351923a",
   "metadata": {},
   "outputs": [
    {
     "name": "stdout",
     "output_type": "stream",
     "text": [
      "{'Name': 'Saeed', 'Depart': 'Electrical', 'Batch': 2021}\n",
      "{'Name': 'Saeed', 'Depart': 'Electrical'}\n"
     ]
    }
   ],
   "source": [
    "dict = {'Name':\"Saeed\", 'Depart': \"Electrical\", 'Batch': 2021}\n",
    "print (dict)\n",
    "\n",
    "del dict['Batch'] \n",
    "print (dict)\n"
   ]
  },
  {
   "cell_type": "code",
   "execution_count": 28,
   "id": "24ce3a6f-2627-4e58-94ce-d4dec9f27d1a",
   "metadata": {},
   "outputs": [
    {
     "name": "stdout",
     "output_type": "stream",
     "text": [
      "{}\n"
     ]
    }
   ],
   "source": [
    "dict = {'Name':\"Saeed\", 'Depart': \"Electrical\", 'Batch': 2021}\n",
    "dict.clear()\n",
    "print (dict)\n"
   ]
  },
  {
   "cell_type": "markdown",
   "id": "f42aa26e-14ba-4355-8382-ea703264956d",
   "metadata": {},
   "source": [
    "# 2.6\tTuples\n",
    "\n",
    "1. It is same as list. The differences between tuples and lists are, the tuples cannot be changed.\n",
    "2. Each item is comma (,) seperated.\n",
    "3. Empty Tuple is shown as ().\n",
    "4. To write a tuple containing a single value you have to include a comma (,) even though there is only one value. For Exampe: tup = (40,).\n",
    "5. It can also have multiple data type values.\n",
    "6. Like string indices, tuple indices start at 0, and they can be sliced, concatenated, and so on."
   ]
  },
  {
   "cell_type": "code",
   "execution_count": 29,
   "id": "7f444cca-1c11-441d-946a-481d4698a839",
   "metadata": {},
   "outputs": [
    {
     "name": "stdout",
     "output_type": "stream",
     "text": [
      "(40,)\n",
      "40\n",
      "<class 'tuple'>\n",
      "<class 'int'>\n"
     ]
    }
   ],
   "source": [
    "tup = (40 ,)\n",
    "tup1 = (40)\n",
    "print(tup)\n",
    "print(tup1)\n",
    "\n",
    "print(type(tup))\n",
    "print(type(tup1))"
   ]
  },
  {
   "cell_type": "markdown",
   "id": "044adb78-8b01-4d3d-a834-8459223a7394",
   "metadata": {},
   "source": [
    "## Accessing values in Tuples\n",
    "We can use the familiar square brackets along with the index to obtain its value.\n"
   ]
  },
  {
   "cell_type": "code",
   "execution_count": 30,
   "id": "05c46034-9f54-4b20-a085-a40d92b7a37c",
   "metadata": {},
   "outputs": [
    {
     "name": "stdout",
     "output_type": "stream",
     "text": [
      "('Math', 98, 'C programming', '99')\n",
      "98\n",
      "(98, 'C programming')\n",
      "(98, 'C programming', '99')\n"
     ]
    }
   ],
   "source": [
    "tup = ('Math',98, 'C programming', '99')\n",
    "print (tup)\n",
    "\n",
    "print(tup[1])\n",
    "print(tup[1:3])\n",
    "print(tup[1:4])"
   ]
  },
  {
   "cell_type": "markdown",
   "id": "7c11ffc3-de6d-4d19-9f99-febe1c81ed20",
   "metadata": {},
   "source": [
    "## Updating Tuples\n",
    "1. Tuples are immutable means we can't change it. It is read only.\n",
    "2. We are able to take portions of tuples to make a new tuple."
   ]
  },
  {
   "cell_type": "code",
   "execution_count": 31,
   "id": "775f5166-e383-4236-a772-31f120cdb873",
   "metadata": {},
   "outputs": [
    {
     "name": "stdout",
     "output_type": "stream",
     "text": [
      "(12, 34.56, 'abc', 'xyz')\n",
      "<class 'tuple'>\n"
     ]
    }
   ],
   "source": [
    "tup1 = (12, 34.56);\n",
    "tup2 = ('abc', 'xyz');\n",
    "\n",
    "# So let's create a new tuple as follows\n",
    "tup3 = tup1 + tup2;\n",
    "print (tup3)\n",
    "print(type(tup3))\n"
   ]
  },
  {
   "cell_type": "code",
   "execution_count": 32,
   "id": "864d2504-8dbb-48b0-ba6a-9d2de7137ad2",
   "metadata": {},
   "outputs": [
    {
     "ename": "TypeError",
     "evalue": "'tuple' object does not support item assignment",
     "output_type": "error",
     "traceback": [
      "\u001b[31m---------------------------------------------------------------------------\u001b[39m",
      "\u001b[31mTypeError\u001b[39m                                 Traceback (most recent call last)",
      "\u001b[36mCell\u001b[39m\u001b[36m \u001b[39m\u001b[32mIn[32]\u001b[39m\u001b[32m, line 2\u001b[39m\n\u001b[32m      1\u001b[39m \u001b[38;5;66;03m# Following action is not valid for tuples \u001b[39;00m\n\u001b[32m----> \u001b[39m\u001b[32m2\u001b[39m tup1[\u001b[32m0\u001b[39m] = \u001b[32m100\u001b[39m\n",
      "\u001b[31mTypeError\u001b[39m: 'tuple' object does not support item assignment"
     ]
    }
   ],
   "source": [
    "# Following action is not valid for tuples \n",
    "tup1[0] = 100;"
   ]
  },
  {
   "cell_type": "markdown",
   "id": "840414ca-e912-4f96-9ccb-78f7a61243b4",
   "metadata": {},
   "source": [
    "## Delete Tuple elements\n",
    "1. Removing individual element in Tuple is not possible because they can't be updated.\n",
    "2. del statment is used to remove entire Tuple.\n"
   ]
  },
  {
   "cell_type": "code",
   "execution_count": 33,
   "id": "d7d5a468-0e78-4290-acc7-fe40d4998da4",
   "metadata": {},
   "outputs": [
    {
     "name": "stdout",
     "output_type": "stream",
     "text": [
      "('physics', 'chemistry', 1997, 2000)\n"
     ]
    }
   ],
   "source": [
    "tup = ('physics', 'chemistry', 1997, 2000); \n",
    "print (tup);"
   ]
  },
  {
   "cell_type": "code",
   "execution_count": 34,
   "id": "46342059-9926-4b69-b2ef-859420678496",
   "metadata": {},
   "outputs": [
    {
     "name": "stdout",
     "output_type": "stream",
     "text": [
      "After deleting tup : \n"
     ]
    },
    {
     "ename": "NameError",
     "evalue": "name 'tup' is not defined",
     "output_type": "error",
     "traceback": [
      "\u001b[31m---------------------------------------------------------------------------\u001b[39m",
      "\u001b[31mNameError\u001b[39m                                 Traceback (most recent call last)",
      "\u001b[36mCell\u001b[39m\u001b[36m \u001b[39m\u001b[32mIn[34]\u001b[39m\u001b[32m, line 3\u001b[39m\n\u001b[32m      1\u001b[39m \u001b[38;5;28;01mdel\u001b[39;00m tup;\n\u001b[32m      2\u001b[39m \u001b[38;5;28mprint\u001b[39m (\u001b[33m\"\u001b[39m\u001b[33mAfter deleting tup : \u001b[39m\u001b[33m\"\u001b[39m); \n\u001b[32m----> \u001b[39m\u001b[32m3\u001b[39m \u001b[38;5;28mprint\u001b[39m (tup)\n",
      "\u001b[31mNameError\u001b[39m: name 'tup' is not defined"
     ]
    }
   ],
   "source": [
    "del tup;\n",
    "print (\"After deleting tup : \"); \n",
    "print (tup);"
   ]
  },
  {
   "cell_type": "markdown",
   "id": "f529a137-29d5-48cf-bbdb-7995b874dcec",
   "metadata": {},
   "source": [
    "# 2.7\tSets\n",
    "1. A set is collection of unordered items. Every element is unique (No duplicates).\n",
    "2. Every element is immutable (can't be changed).\n",
    "3. However, the set itself is mutable. We can add or remove items from it.\n",
    "4. Sets can be used to perform mathematical set operations like union, intersection, symmetric difference etc. Empty set will be written as {}.\n",
    "5. Each item in set will be comma (,) seperated.\n",
    "6. We can make a set from a list using set() function. Data type can be found using type() function.\n",
    "7. add() is used to add single value, update() is used for adding multiple values.\n",
    "8. update() function can take tupe, strings, list or other set as argument. In all cases, duplicates will be avoided.\n",
    "9. discard() and remove() are used to to delete particular item from set.\n",
    "10. discard() will not raise an error if item doesn't exists in set.\n",
    "11. remove() will raise an error if item doesn't exists in set.\n"
   ]
  },
  {
   "cell_type": "code",
   "execution_count": 35,
   "id": "deef906f-3f59-439c-bfa2-81f47f1d526e",
   "metadata": {},
   "outputs": [
    {
     "name": "stdout",
     "output_type": "stream",
     "text": [
      "[1, 2, 3, 4, 5]\n",
      "<class 'list'>\n",
      "{1, 2, 3, 4, 5}\n",
      "<class 'set'>\n"
     ]
    }
   ],
   "source": [
    "#list\n",
    "list1 = [1,2,3,4,5]\n",
    "print(list1)\n",
    "print (type(list1))\n",
    "\n",
    "my_set = set(list1)\n",
    "print(my_set)\n",
    "print (type(my_set))"
   ]
  },
  {
   "cell_type": "code",
   "execution_count": 36,
   "id": "5bfb0e8f-90d1-4b61-95a3-4d0a99aca787",
   "metadata": {},
   "outputs": [
    {
     "name": "stdout",
     "output_type": "stream",
     "text": [
      "{1, 2, 3}\n"
     ]
    }
   ],
   "source": [
    "# set of integers\n",
    "my_set = {1,2,3} \n",
    "print (my_set)\n",
    "\n",
    "# set of mixed data types\n",
    "my_set = {1,\"Hello\", 1.2,'C'}"
   ]
  },
  {
   "cell_type": "code",
   "execution_count": 37,
   "id": "7eff972c-fc08-4d3c-b250-978d22cd5c34",
   "metadata": {},
   "outputs": [
    {
     "name": "stdout",
     "output_type": "stream",
     "text": [
      "{1, 1.2, 'D', 'C', 'Hello'}\n"
     ]
    }
   ],
   "source": [
    "# adding a single value \n",
    "my_set.add('D')\n",
    "\n",
    "#adding multiple values my_set.update(list1) \n",
    "print (my_set)"
   ]
  },
  {
   "cell_type": "code",
   "execution_count": 38,
   "id": "cb3ff17e-4cd4-4ba7-8046-1bb67d166e4e",
   "metadata": {},
   "outputs": [
    {
     "name": "stdout",
     "output_type": "stream",
     "text": [
      "None\n"
     ]
    }
   ],
   "source": [
    "my_set.discard('G') # it will not raise an error\n",
    "print(my_set.discard('G'))"
   ]
  },
  {
   "cell_type": "code",
   "execution_count": 39,
   "id": "4fdd2afe-f001-4b47-a56e-d560e3fca200",
   "metadata": {},
   "outputs": [
    {
     "ename": "KeyError",
     "evalue": "'G'",
     "output_type": "error",
     "traceback": [
      "\u001b[31m---------------------------------------------------------------------------\u001b[39m",
      "\u001b[31mKeyError\u001b[39m                                  Traceback (most recent call last)",
      "\u001b[36mCell\u001b[39m\u001b[36m \u001b[39m\u001b[32mIn[39]\u001b[39m\u001b[32m, line 1\u001b[39m\n\u001b[32m----> \u001b[39m\u001b[32m1\u001b[39m \u001b[38;5;28mprint\u001b[39m(my_set.remove(\u001b[33m'\u001b[39m\u001b[33mG\u001b[39m\u001b[33m'\u001b[39m))\n",
      "\u001b[31mKeyError\u001b[39m: 'G'"
     ]
    }
   ],
   "source": [
    "print(my_set.remove('G'))"
   ]
  },
  {
   "cell_type": "markdown",
   "id": "84e67284-b1ba-4f01-97be-da59b6a9d737",
   "metadata": {},
   "source": [
    "# 3.\t Comparison Operators\n",
    "These are used to compare values (string or numbers) and return true/false according to situation."
   ]
  },
  {
   "cell_type": "code",
   "execution_count": 40,
   "id": "4794ee5b-c579-4d5c-bfca-eff025a316b3",
   "metadata": {},
   "outputs": [
    {
     "data": {
      "text/plain": [
       "True"
      ]
     },
     "execution_count": 40,
     "metadata": {},
     "output_type": "execute_result"
    }
   ],
   "source": [
    "1<3"
   ]
  },
  {
   "cell_type": "code",
   "execution_count": 41,
   "id": "59fc8893-c67d-4297-a0ac-741d0f490f1e",
   "metadata": {},
   "outputs": [
    {
     "data": {
      "text/plain": [
       "True"
      ]
     },
     "execution_count": 41,
     "metadata": {},
     "output_type": "execute_result"
    }
   ],
   "source": [
    "15 <= 23"
   ]
  },
  {
   "cell_type": "code",
   "execution_count": 42,
   "id": "4bdc1d8a-e68f-4484-9240-52430e19b44e",
   "metadata": {},
   "outputs": [
    {
     "data": {
      "text/plain": [
       "False"
      ]
     },
     "execution_count": 42,
     "metadata": {},
     "output_type": "execute_result"
    }
   ],
   "source": [
    "'Saeed' == \"Ahmad\""
   ]
  },
  {
   "cell_type": "code",
   "execution_count": 43,
   "id": "e80663a5-c888-46fa-964b-985985dd1ae2",
   "metadata": {},
   "outputs": [
    {
     "data": {
      "text/plain": [
       "True"
      ]
     },
     "execution_count": 43,
     "metadata": {},
     "output_type": "execute_result"
    }
   ],
   "source": [
    "'Saeed' != \"Ahmad\""
   ]
  },
  {
   "cell_type": "code",
   "execution_count": 44,
   "id": "6d71c55a-d341-4ced-b7f1-71e562577afc",
   "metadata": {},
   "outputs": [
    {
     "data": {
      "text/plain": [
       "True"
      ]
     },
     "execution_count": 44,
     "metadata": {},
     "output_type": "execute_result"
    }
   ],
   "source": [
    "(1==1) or (5 > 2)"
   ]
  },
  {
   "cell_type": "code",
   "execution_count": 45,
   "id": "6835e1e3-1816-4a78-b0c3-e2710226958f",
   "metadata": {},
   "outputs": [
    {
     "data": {
      "text/plain": [
       "False"
      ]
     },
     "execution_count": 45,
     "metadata": {},
     "output_type": "execute_result"
    }
   ],
   "source": [
    "(1 < 2) and (2 < 1)"
   ]
  },
  {
   "cell_type": "markdown",
   "id": "5386a86f-4190-4172-9314-405747ac7478",
   "metadata": {},
   "source": [
    "# 4.\tIf-Else Statements\n",
    "If-Else statments are used to execute a block of code depending on conditions. If block if condition is true otherwise else block. "
   ]
  },
  {
   "cell_type": "code",
   "execution_count": 46,
   "id": "d2a6e5e3-25ec-4b42-91d3-3d7a1ef66784",
   "metadata": {},
   "outputs": [
    {
     "name": "stdout",
     "output_type": "stream",
     "text": [
      "Even\n"
     ]
    }
   ],
   "source": [
    "if 25 % 2:\n",
    "    print('Even')\n",
    "else:\n",
    "    print('Odd')\n"
   ]
  },
  {
   "cell_type": "markdown",
   "id": "ebaf8e2c-68e0-408a-9085-fde3d0cd0e2e",
   "metadata": {},
   "source": [
    "# 5.\tFor and While Loop\n",
    "Python has for and while loop for iteration, used when we want to perform a specific a task repeatedly."
   ]
  },
  {
   "cell_type": "code",
   "execution_count": 47,
   "id": "09ff0d30-a701-478f-b133-5fd42689f3d7",
   "metadata": {},
   "outputs": [
    {
     "name": "stdout",
     "output_type": "stream",
     "text": [
      "120\n"
     ]
    }
   ],
   "source": [
    "#example of for loop \n",
    "fact = 1\n",
    "N = 5\n",
    "for i in range (1,N+1):\n",
    "    fact*=i\n",
    "print (fact)"
   ]
  },
  {
   "cell_type": "code",
   "execution_count": 48,
   "id": "86c689f5-b5d4-4830-9f29-d1bec9717b6c",
   "metadata": {},
   "outputs": [
    {
     "name": "stdout",
     "output_type": "stream",
     "text": [
      "1\n",
      "2\n",
      "3\n",
      "4\n",
      "5\n",
      "6\n",
      "7\n",
      "8\n",
      "9\n",
      "10\n",
      "Total sum is: 10\n"
     ]
    }
   ],
   "source": [
    "#example of while loop \n",
    "a = 0\n",
    "while a < 10:\n",
    "    a = a+1 \n",
    "    print(a)\n",
    "    \n",
    "print('Total sum is:',a)"
   ]
  },
  {
   "cell_type": "markdown",
   "id": "1dcf4540-2692-4cdf-b38b-75f47ac56fad",
   "metadata": {},
   "source": [
    "# 6. Functions\n",
    "1. It is a block of organized and reusable code.\n",
    "2. It is used to perform a single, related action.\n",
    "3. It provides high modularity for your application.\n",
    "4. It has a hight degree of code reusing.\n",
    "The syntax is:\n",
    "\n",
    "def functionname( parameters ): \n",
    "\"function_docstring\" \n",
    "function_suite\n",
    "return [expression]\n"
   ]
  },
  {
   "cell_type": "code",
   "execution_count": 50,
   "id": "47dc4234-a645-44af-a7db-e8c45886f4c9",
   "metadata": {},
   "outputs": [
    {
     "name": "stdout",
     "output_type": "stream",
     "text": [
      "I'm first call to user defined function!: Muhammad Saeed\n"
     ]
    }
   ],
   "source": [
    "# Function definition is here \n",
    "def printme( str ):\n",
    "#This prints a passed string into this function\n",
    "    print (str)\n",
    "    return;\n",
    "# Now you can call printme function\n",
    "printme(\"I'm first call to user defined function!: Muhammad Saeed\")\n"
   ]
  },
  {
   "cell_type": "markdown",
   "id": "618f3e53-6f70-4a36-983b-a8a8505eb3ad",
   "metadata": {},
   "source": [
    "# 7.\tLambda Functions\n",
    "1. The creation of anonymous functions at runtime, using a construct called \"lambda\".\n",
    "2. Lambda function doesn't include return statement, it always contains an expression which is returned.\n",
    "3. This piece of code shows the difference between a normal function definition (\"f\") and a lambda function (\"g\"):\n"
   ]
  },
  {
   "cell_type": "code",
   "execution_count": 51,
   "id": "7379e70d-b867-4e42-9db8-86ee5207b1cc",
   "metadata": {},
   "outputs": [
    {
     "name": "stdout",
     "output_type": "stream",
     "text": [
      "64\n"
     ]
    }
   ],
   "source": [
    "#Normal function \n",
    "def f (x):\n",
    "    return x**2 \n",
    "print (f(8))\n"
   ]
  },
  {
   "cell_type": "code",
   "execution_count": 52,
   "id": "08dde265-c428-4cb0-a535-ef58aaa9a0db",
   "metadata": {},
   "outputs": [
    {
     "data": {
      "text/plain": [
       "30"
      ]
     },
     "execution_count": 52,
     "metadata": {},
     "output_type": "execute_result"
    }
   ],
   "source": [
    "#Lambda Function #lambda expressions\n",
    "times3 = lambda var:var*3 \n",
    "times3(10)\n",
    "#lambda expressions: another way to write a function in line\n"
   ]
  },
  {
   "cell_type": "markdown",
   "id": "c5181bbc-ffa1-478d-ad48-6a4bdab1e63b",
   "metadata": {},
   "source": [
    "## 7.1\tMap()\n",
    "1. Map() function is used with two arguments.\n",
    " Just like: seq = [1,2,3]\n",
    "**r = map(func, seq)**\n",
    "3. The first argument func is the name of a function and the second a sequence (e.g. a list).\n",
    "4. seq. map() applies the function func to all the elements of the sequence seq. It returns a new list with the elements changed by func."
   ]
  },
  {
   "cell_type": "code",
   "execution_count": 53,
   "id": "8884557e-09c4-42b7-b5ba-f9e6d669febc",
   "metadata": {},
   "outputs": [
    {
     "name": "stdout",
     "output_type": "stream",
     "text": [
      "['It', 'is', 'raining', 'cats', 'and', 'dogs']\n"
     ]
    },
    {
     "data": {
      "text/plain": [
       "[2, 2, 7, 4, 3, 4]"
      ]
     },
     "execution_count": 53,
     "metadata": {},
     "output_type": "execute_result"
    }
   ],
   "source": [
    "sentence = 'It is raining cats and dogs' \n",
    "words = sentence.split()\n",
    "print (words)\n",
    "\n",
    "lengths = map(lambda word: len(word), words) \n",
    "list(lengths)\n"
   ]
  },
  {
   "cell_type": "markdown",
   "id": "7af5b38b-34d4-4458-aa7e-1d065a84321f",
   "metadata": {},
   "source": [
    "## 7.2\tFilter()\n",
    "1. The function filter(function, list) offers an elegant way to filter out all the elements of a list.\n",
    "2. The function filter(f,l) needs a function f as its first argument. f returns a Boolean value, i.e. either True or False.\n",
    "3. This function will be applied to every element of the list l.\n",
    "4. Only if f returns True will the element of the list be included in the result list."
   ]
  },
  {
   "cell_type": "code",
   "execution_count": 54,
   "id": "2f1b87b9-602c-4c8a-9176-37eee37cb9c4",
   "metadata": {},
   "outputs": [
    {
     "name": "stdout",
     "output_type": "stream",
     "text": [
      "[0, 1, 1, 2, 3, 5, 8, 13, 21, 34, 55]\n",
      "<filter object at 0x0000018A34F360E0>\n"
     ]
    },
    {
     "data": {
      "text/plain": [
       "[1, 1, 3, 5, 13, 21, 55]"
      ]
     },
     "execution_count": 54,
     "metadata": {},
     "output_type": "execute_result"
    }
   ],
   "source": [
    "fib = [0,1,1,2,3,5,8,13,21,34,55]\n",
    "result1 = filter(lambda x: x % 2, fib) \n",
    "print(fib)\n",
    "print(result1)\n",
    "list(result1)"
   ]
  },
  {
   "cell_type": "code",
   "execution_count": 55,
   "id": "1a2cf4a3-ec9a-4d34-9848-c8e7e50641c1",
   "metadata": {},
   "outputs": [
    {
     "data": {
      "text/plain": [
       "[0, 2, 8, 34]"
      ]
     },
     "execution_count": 55,
     "metadata": {},
     "output_type": "execute_result"
    }
   ],
   "source": [
    "fib = [0,1,1,2,3,5,8,13,21,34,55]\n",
    "result2 = filter(lambda x: x % 2 == 0, fib)\n",
    "list (result2)"
   ]
  },
  {
   "cell_type": "markdown",
   "id": "eb13cb3b-c675-4d93-8feb-3541ec1a5aaa",
   "metadata": {},
   "source": [
    "# 8.\tFile I/O\n",
    "In this section, we'll cover all basic I/O function(methods).\n",
    "\n",
    "## Reading input from Keyboard\n",
    "For reading input from keyboard, raw_input() method is used.\n",
    "It reads only one line from standard input and returns it as a string."
   ]
  },
  {
   "cell_type": "code",
   "execution_count": 141,
   "id": "9fab62f8-6c3b-4cf6-b4b6-df7df0da5bb8",
   "metadata": {},
   "outputs": [
    {
     "name": "stdin",
     "output_type": "stream",
     "text": [
      "Enter your name:  Saeed\n"
     ]
    },
    {
     "name": "stdout",
     "output_type": "stream",
     "text": [
      "Saeed\n"
     ]
    }
   ],
   "source": [
    "from six.moves import input\n",
    "string = input(\"Enter your name: \");\n",
    "print(string)"
   ]
  },
  {
   "cell_type": "markdown",
   "id": "5b2041cc-2871-46cd-b526-59f1391c0921",
   "metadata": {},
   "source": [
    "## I/O from or to Text File\n",
    "In this scenario, we'll read and write to a text file.\n",
    "1. r opens a file in read only mode.\n",
    "2. r+ opens a file read and write mode.\n",
    "3. w opens a file in write mode only.\n",
    "4. a opens a file in append mode\n",
    "5. a+ opens a file in append and read mode."
   ]
  },
  {
   "cell_type": "code",
   "execution_count": 151,
   "id": "83548227-e149-4a6a-b52f-286ceb5a0ddd",
   "metadata": {},
   "outputs": [
    {
     "name": "stdout",
     "output_type": "stream",
     "text": [
      "Hello Saeed!\n"
     ]
    }
   ],
   "source": [
    "# Open a file to read\n",
    "fileOpen = open(\"file.txt\", \"r+\")\n",
    "str = fileOpen.read()  # to read specific content from start you can use read(12). It will read 12 characters from the start of file\n",
    "print(str)"
   ]
  },
  {
   "cell_type": "code",
   "execution_count": 152,
   "id": "975b9453-4af5-48b2-9304-ba7727a6e330",
   "metadata": {},
   "outputs": [],
   "source": [
    "# Close opened file \n",
    "fileOpen.close()\n"
   ]
  },
  {
   "cell_type": "code",
   "execution_count": 155,
   "id": "94fed85a-8ae3-463f-b5b5-14c16d835e59",
   "metadata": {},
   "outputs": [],
   "source": [
    "# Open a file to append\n",
    "fileOpen = open(\"file.txt\", \"a+\") \n",
    "fileOpen.write(\" Information Technology Lahore\"); \n",
    "fileOpen.close()"
   ]
  },
  {
   "cell_type": "code",
   "execution_count": 156,
   "id": "e2ae86f6-f238-461f-8367-85278079bf53",
   "metadata": {},
   "outputs": [
    {
     "name": "stdout",
     "output_type": "stream",
     "text": [
      "Hello Saeed! Information Technology Lahore Information Technology Lahore Information Technology Lahore\n"
     ]
    }
   ],
   "source": [
    "# Open a file to read\n",
    "fileOpen = open(\"file.txt\", \"r+\")\n",
    "string = fileOpen.read(); #to read specific content from start you can use read(12). It will read 12 characte rs from the start of file\n",
    "print (string)\n",
    "# Close opend file\n",
    "fileOpen.close()"
   ]
  },
  {
   "cell_type": "markdown",
   "id": "434d2ebf-13d4-4b04-bdc5-5b096b0ccda1",
   "metadata": {},
   "source": [
    "## File Position\n",
    "1. tell() method tells the currenct position within the file.\n",
    "2. seek() method changes the current file location."
   ]
  },
  {
   "cell_type": "code",
   "execution_count": 161,
   "id": "93d2e116-9c13-4d41-bf02-4109f79a7118",
   "metadata": {},
   "outputs": [
    {
     "name": "stdout",
     "output_type": "stream",
     "text": [
      "Read String is : \n",
      " Hello Saee\n",
      "Current file position : \n",
      " 10\n",
      "Again read String is : \n",
      " Hello Saee\n"
     ]
    }
   ],
   "source": [
    "# Open a file\n",
    "fo = open(\"file.txt\", \"r+\") \n",
    "str = fo.read(10);\n",
    "print (\"Read String is : \\n\", str)\n",
    "\n",
    "# Check current position\n",
    "position = fo.tell();\n",
    "print (\"Current file position : \\n\", position)\n",
    "\n",
    "# Reposition pointer at the beginning once again\n",
    "position = fo.seek(0, 0);\n",
    "str = fo.read(10);\n",
    "print (\"Again read String is : \\n\", str) # Close opend file\n",
    "fo.close()\n"
   ]
  },
  {
   "cell_type": "code",
   "execution_count": 162,
   "id": "328e9e5c-4e2c-4a96-8cb6-ad19e425d135",
   "metadata": {},
   "outputs": [],
   "source": [
    "import os\n",
    "# rename a file\n",
    "os.rename(\"file.txt\", \"newfile.txt\")"
   ]
  },
  {
   "cell_type": "code",
   "execution_count": 163,
   "id": "1b73516e-6b59-4973-847f-540e61f9d6a8",
   "metadata": {},
   "outputs": [],
   "source": [
    "#remove file\n",
    "os.remove(\"newfile.txt\")"
   ]
  },
  {
   "cell_type": "markdown",
   "id": "6654e69d-ccd0-4a33-9e08-9e0ad0a8ca05",
   "metadata": {},
   "source": [
    "# 9.\tPandas Introduction\n",
    " Pandas is an open source library built on top of NumPy\n",
    "1. It allows for fast analysis and data cleaning and preparation\n",
    "2. It excels in proformance and productivity\n",
    "3. It also has built-in visualization features\n",
    "4. It can work with data from a wide variety of sources"
   ]
  },
  {
   "cell_type": "markdown",
   "id": "8de1a026-2fbf-42b1-a420-c30de8cfbfd4",
   "metadata": {},
   "source": [
    "# 10.\tSeries\n",
    "1. A series is very similar to NumPy array.\n",
    "2. Series is 1-D array labeled array capable of holding any type of data.\n",
    "3. The difference between the NumPy array from a Series, is that a Series can have axis labels, meaning it can be indexed by a label, instead of just a number location\n",
    "4. The axis labels are collectively referred to as the index.\n",
    "5.  Following function is used to create a series:\n",
    "    s= pd.Series(data,index = index)\n",
    "6. In above function, data can be many different things:\n",
    "      A python dict\n",
    "      An ndarray\n",
    "      A scalar value (For exmple: 5)\n",
    "7. The passed index is a list of axis labels. So, this seperates into a few cases depending on what data is:"
   ]
  },
  {
   "cell_type": "markdown",
   "id": "0f1c284a-5d63-4dd6-b161-325db14d173d",
   "metadata": {},
   "source": [
    "## 10.1\tFrom ndarray\n",
    "  If data is an ndarray, index must be the same length as data.\n",
    "  If no index is passed, one will be created having values [0, ..., len(data) - 1].\n"
   ]
  },
  {
   "cell_type": "code",
   "execution_count": 164,
   "id": "67e5c288-fd97-40de-93b1-ec5e1f1e3334",
   "metadata": {},
   "outputs": [
    {
     "data": {
      "text/plain": [
       "a    0.411296\n",
       "b   -1.126808\n",
       "c   -1.067699\n",
       "d    1.140883\n",
       "e    0.082683\n",
       "dtype: float64"
      ]
     },
     "execution_count": 164,
     "metadata": {},
     "output_type": "execute_result"
    }
   ],
   "source": [
    "import pandas as pd \n",
    "import numpy as np\n",
    "import matplotlib.pyplot as plt\n",
    "\n",
    "\"\"\"following a fucntion is called from panas to create a series. data would be 5 random values and indexes are assigned a-e\"\"\"\n",
    "\n",
    "s = pd.Series(np.random.randn(5), index=['a', 'b', 'c', 'd', 'e']) \n",
    "s"
   ]
  },
  {
   "cell_type": "code",
   "execution_count": 165,
   "id": "dac16ec6-b6c4-44c1-aff7-fb359dec9bff",
   "metadata": {},
   "outputs": [
    {
     "data": {
      "text/plain": [
       "Index(['a', 'b', 'c', 'd', 'e'], dtype='object')"
      ]
     },
     "execution_count": 165,
     "metadata": {},
     "output_type": "execute_result"
    }
   ],
   "source": [
    "\"\"\"Following function will print the index and its datatype\"\"\" \n",
    "s.index"
   ]
  },
  {
   "cell_type": "code",
   "execution_count": 166,
   "id": "47197bf8-1883-4bcc-860b-c537d62ab882",
   "metadata": {},
   "outputs": [
    {
     "data": {
      "text/plain": [
       "0    0.187453\n",
       "1   -2.121390\n",
       "2    1.745138\n",
       "3    0.497651\n",
       "4   -0.824638\n",
       "dtype: float64"
      ]
     },
     "execution_count": 166,
     "metadata": {},
     "output_type": "execute_result"
    }
   ],
   "source": [
    "\"\"\"If we don't assign the index then it will of length having values [0.\tlen(data-1)]\"\"\"\n",
    "pd.Series(np.random.randn(5))"
   ]
  },
  {
   "cell_type": "markdown",
   "id": "6b7fd339-44be-40ed-9e47-326fc15e865e",
   "metadata": {},
   "source": [
    "## 10.2\tFrom dict\n",
    "1. If data is a dict, if index is passed the values in data corresponding to the labels in the index will be pulled out.\n",
    "2. If index is not passed then it will be constructed from the sorted keys of the dict, if possible."
   ]
  },
  {
   "cell_type": "code",
   "execution_count": 167,
   "id": "29c992d4-03e4-4b82-a332-d719d6754d4d",
   "metadata": {},
   "outputs": [
    {
     "data": {
      "text/plain": [
       "a    0.0\n",
       "b    1.0\n",
       "c    2.0\n",
       "dtype: float64"
      ]
     },
     "execution_count": 167,
     "metadata": {},
     "output_type": "execute_result"
    }
   ],
   "source": [
    "\"\"\" In following example, indexes are not given to it is constructed from the sorted keys of the dict\"\"\"\n",
    "d = {'a' : 0., 'b' : 1., 'c' : 2.} # a python dict\n",
    "pd.Series(d)\n"
   ]
  },
  {
   "cell_type": "code",
   "execution_count": 168,
   "id": "49f7ce6a-5e09-40e3-bddc-a7a811c8d450",
   "metadata": {},
   "outputs": [
    {
     "data": {
      "text/plain": [
       "b    1.0\n",
       "c    2.0\n",
       "d    NaN\n",
       "a    0.0\n",
       "dtype: float64"
      ]
     },
     "execution_count": 168,
     "metadata": {},
     "output_type": "execute_result"
    }
   ],
   "source": [
    "\"\"\" In following example, index are given, so the values in data corresponding in the index will be pulled ou t\"\"\"\n",
    "pd.Series(d, index=['b', 'c', 'd', 'a'])\n"
   ]
  },
  {
   "cell_type": "markdown",
   "id": "a9ed1381-249e-43cc-9dc3-eaf1900ac5b6",
   "metadata": {},
   "source": [
    "## 10.3\tFrom a scalar value\n",
    "  If data is a scalar value, an index must be provided. The value will be repeated to match the length of index"
   ]
  },
  {
   "cell_type": "code",
   "execution_count": 170,
   "id": "3c95ecd0-2837-4027-88db-e400f14c466b",
   "metadata": {},
   "outputs": [
    {
     "data": {
      "text/plain": [
       "a    5.0\n",
       "b    5.0\n",
       "c    5.0\n",
       "d    5.0\n",
       "e    5.0\n",
       "dtype: float64"
      ]
     },
     "execution_count": 170,
     "metadata": {},
     "output_type": "execute_result"
    }
   ],
   "source": [
    "\"\"\"In following example, a scalar value is given as data so it will be repeated to match the length of inde x\"\"\"\n",
    "pd.Series(5., index=['a', 'b', 'c', 'd', 'e'])\n"
   ]
  },
  {
   "cell_type": "markdown",
   "id": "3aa3c8a0-024d-41a7-9af9-0c732fbf13fe",
   "metadata": {},
   "source": [
    "## 10.4\tSeries is ndarray-like\n",
    "  It acts very similarly to a ndarray.\n",
    "  It is a valid argument to most NumPy functions. However, things like slicing also slice the index.\n",
    "\n"
   ]
  },
  {
   "cell_type": "code",
   "execution_count": 171,
   "id": "9386943e-190c-482a-881e-8ee26888bdca",
   "metadata": {},
   "outputs": [
    {
     "name": "stderr",
     "output_type": "stream",
     "text": [
      "C:\\Users\\Muhammad Saeed\\AppData\\Local\\Temp\\ipykernel_10612\\706394606.py:4: FutureWarning: Series.__getitem__ treating keys as positions is deprecated. In a future version, integer keys will always be treated as labels (consistent with DataFrame behavior). To access a value by position, use `ser.iloc[pos]`\n",
      "  s[0]\n"
     ]
    },
    {
     "data": {
      "text/plain": [
       "np.float64(0.41129614184111424)"
      ]
     },
     "execution_count": 171,
     "metadata": {},
     "output_type": "execute_result"
    }
   ],
   "source": [
    "#we can access a value just like ndarray\n",
    "\n",
    "#access single value\n",
    "s[0]\n"
   ]
  },
  {
   "cell_type": "code",
   "execution_count": 172,
   "id": "ea341c03-bf1b-4032-84a1-76a38f1c0fbb",
   "metadata": {},
   "outputs": [
    {
     "data": {
      "text/plain": [
       "a    0.411296\n",
       "b   -1.126808\n",
       "c   -1.067699\n",
       "d    1.140883\n",
       "e    0.082683\n",
       "dtype: float64"
      ]
     },
     "execution_count": 172,
     "metadata": {},
     "output_type": "execute_result"
    }
   ],
   "source": [
    "#access range of values \n",
    "s[:5]"
   ]
  },
  {
   "cell_type": "code",
   "execution_count": 173,
   "id": "be590cb2-979f-474e-ac49-8ca176433468",
   "metadata": {},
   "outputs": [
    {
     "data": {
      "text/plain": [
       "a    0.411296\n",
       "d    1.140883\n",
       "dtype: float64"
      ]
     },
     "execution_count": 173,
     "metadata": {},
     "output_type": "execute_result"
    }
   ],
   "source": [
    "\"\"\" Following example will return a range of values in series whose value is greater than the median of serie s\"\"\"\n",
    "s[s > s.median()]\n"
   ]
  },
  {
   "cell_type": "code",
   "execution_count": 174,
   "id": "66b6c6d1-49c6-4943-a92d-c04a2ef088b2",
   "metadata": {},
   "outputs": [
    {
     "name": "stderr",
     "output_type": "stream",
     "text": [
      "C:\\Users\\Muhammad Saeed\\AppData\\Local\\Temp\\ipykernel_10612\\3722420869.py:2: FutureWarning: Series.__getitem__ treating keys as positions is deprecated. In a future version, integer keys will always be treated as labels (consistent with DataFrame behavior). To access a value by position, use `ser.iloc[pos]`\n",
      "  s[[4, 3, 1]]\n"
     ]
    },
    {
     "data": {
      "text/plain": [
       "e    0.082683\n",
       "d    1.140883\n",
       "b   -1.126808\n",
       "dtype: float64"
      ]
     },
     "execution_count": 174,
     "metadata": {},
     "output_type": "execute_result"
    }
   ],
   "source": [
    "\"\"\"Following example is return the values in series with indexes. 4,3,1 are the positions of the indexs For example: the index at 4,3,1 are e,d,b respectively\"\"\"\n",
    "s[[4, 3, 1]]\n"
   ]
  },
  {
   "cell_type": "code",
   "execution_count": 175,
   "id": "cfb6ad46-2543-45ba-94d5-1a3bbeb74929",
   "metadata": {},
   "outputs": [
    {
     "data": {
      "text/plain": [
       "a    1.508772\n",
       "b    0.324066\n",
       "c    0.343799\n",
       "d    3.129531\n",
       "e    1.086198\n",
       "dtype: float64"
      ]
     },
     "execution_count": 175,
     "metadata": {},
     "output_type": "execute_result"
    }
   ],
   "source": [
    "\"\"\" Following example returns the exponent values. just like e^a (here a is index and its respective data is placed here)\"\"\"\n",
    "np.exp(s)\n"
   ]
  },
  {
   "cell_type": "code",
   "execution_count": 176,
   "id": "268896db-8de7-4215-98ff-525e773e3998",
   "metadata": {},
   "outputs": [
    {
     "data": {
      "text/plain": [
       "np.float64(0.41129614184111424)"
      ]
     },
     "execution_count": 176,
     "metadata": {},
     "output_type": "execute_result"
    }
   ],
   "source": [
    "\"\"\"Following example will get the data of given index\"\"\" \n",
    "s['a']"
   ]
  },
  {
   "cell_type": "code",
   "execution_count": 177,
   "id": "21f40143-08af-4f1f-98df-2ba1b2945380",
   "metadata": {},
   "outputs": [
    {
     "data": {
      "text/plain": [
       "a     0.411296\n",
       "b    -1.126808\n",
       "c    -1.067699\n",
       "d     1.140883\n",
       "e    12.000000\n",
       "dtype: float64"
      ]
     },
     "execution_count": 177,
     "metadata": {},
     "output_type": "execute_result"
    }
   ],
   "source": [
    "\"\"\"Following example will update the data of the given index\"\"\"\n",
    "s['e'] = 12.\n",
    "s # before updating e = 1.399281 but after updating e = 12.000000\n"
   ]
  },
  {
   "cell_type": "code",
   "execution_count": 178,
   "id": "b1897bf0-50a3-433f-a568-585a65bf28e4",
   "metadata": {},
   "outputs": [
    {
     "data": {
      "text/plain": [
       "True"
      ]
     },
     "execution_count": 178,
     "metadata": {},
     "output_type": "execute_result"
    }
   ],
   "source": [
    "\"\"\" Following will return true if 'e' is in the values of index otherwise false\"\"\" \n",
    "'e' in s"
   ]
  },
  {
   "cell_type": "code",
   "execution_count": 179,
   "id": "8fff648b-c743-4280-9f38-2ce27ea2f76c",
   "metadata": {},
   "outputs": [
    {
     "ename": "KeyError",
     "evalue": "'f'",
     "output_type": "error",
     "traceback": [
      "\u001b[31m---------------------------------------------------------------------------\u001b[39m",
      "\u001b[31mKeyError\u001b[39m                                  Traceback (most recent call last)",
      "\u001b[36mFile \u001b[39m\u001b[32mF:\\Miniconda\\envs\\ai_env\\Lib\\site-packages\\pandas\\core\\indexes\\base.py:3805\u001b[39m, in \u001b[36mIndex.get_loc\u001b[39m\u001b[34m(self, key)\u001b[39m\n\u001b[32m   3804\u001b[39m \u001b[38;5;28;01mtry\u001b[39;00m:\n\u001b[32m-> \u001b[39m\u001b[32m3805\u001b[39m     \u001b[38;5;28;01mreturn\u001b[39;00m \u001b[38;5;28mself\u001b[39m._engine.get_loc(casted_key)\n\u001b[32m   3806\u001b[39m \u001b[38;5;28;01mexcept\u001b[39;00m \u001b[38;5;167;01mKeyError\u001b[39;00m \u001b[38;5;28;01mas\u001b[39;00m err:\n",
      "\u001b[36mFile \u001b[39m\u001b[32mindex.pyx:167\u001b[39m, in \u001b[36mpandas._libs.index.IndexEngine.get_loc\u001b[39m\u001b[34m()\u001b[39m\n",
      "\u001b[36mFile \u001b[39m\u001b[32mindex.pyx:196\u001b[39m, in \u001b[36mpandas._libs.index.IndexEngine.get_loc\u001b[39m\u001b[34m()\u001b[39m\n",
      "\u001b[36mFile \u001b[39m\u001b[32mpandas\\\\_libs\\\\hashtable_class_helper.pxi:7081\u001b[39m, in \u001b[36mpandas._libs.hashtable.PyObjectHashTable.get_item\u001b[39m\u001b[34m()\u001b[39m\n",
      "\u001b[36mFile \u001b[39m\u001b[32mpandas\\\\_libs\\\\hashtable_class_helper.pxi:7089\u001b[39m, in \u001b[36mpandas._libs.hashtable.PyObjectHashTable.get_item\u001b[39m\u001b[34m()\u001b[39m\n",
      "\u001b[31mKeyError\u001b[39m: 'f'",
      "\nThe above exception was the direct cause of the following exception:\n",
      "\u001b[31mKeyError\u001b[39m                                  Traceback (most recent call last)",
      "\u001b[36mCell\u001b[39m\u001b[36m \u001b[39m\u001b[32mIn[179]\u001b[39m\u001b[32m, line 2\u001b[39m\n\u001b[32m      1\u001b[39m \u001b[33;03m\"\"\"If a label is not contained and you are trying to access its data, an exception is raised: \"\"\"\u001b[39;00m \n\u001b[32m----> \u001b[39m\u001b[32m2\u001b[39m s[\u001b[33m'\u001b[39m\u001b[33mf\u001b[39m\u001b[33m'\u001b[39m]\n",
      "\u001b[36mFile \u001b[39m\u001b[32mF:\\Miniconda\\envs\\ai_env\\Lib\\site-packages\\pandas\\core\\series.py:1121\u001b[39m, in \u001b[36mSeries.__getitem__\u001b[39m\u001b[34m(self, key)\u001b[39m\n\u001b[32m   1118\u001b[39m     \u001b[38;5;28;01mreturn\u001b[39;00m \u001b[38;5;28mself\u001b[39m._values[key]\n\u001b[32m   1120\u001b[39m \u001b[38;5;28;01melif\u001b[39;00m key_is_scalar:\n\u001b[32m-> \u001b[39m\u001b[32m1121\u001b[39m     \u001b[38;5;28;01mreturn\u001b[39;00m \u001b[38;5;28mself\u001b[39m._get_value(key)\n\u001b[32m   1123\u001b[39m \u001b[38;5;66;03m# Convert generator to list before going through hashable part\u001b[39;00m\n\u001b[32m   1124\u001b[39m \u001b[38;5;66;03m# (We will iterate through the generator there to check for slices)\u001b[39;00m\n\u001b[32m   1125\u001b[39m \u001b[38;5;28;01mif\u001b[39;00m is_iterator(key):\n",
      "\u001b[36mFile \u001b[39m\u001b[32mF:\\Miniconda\\envs\\ai_env\\Lib\\site-packages\\pandas\\core\\series.py:1237\u001b[39m, in \u001b[36mSeries._get_value\u001b[39m\u001b[34m(self, label, takeable)\u001b[39m\n\u001b[32m   1234\u001b[39m     \u001b[38;5;28;01mreturn\u001b[39;00m \u001b[38;5;28mself\u001b[39m._values[label]\n\u001b[32m   1236\u001b[39m \u001b[38;5;66;03m# Similar to Index.get_value, but we do not fall back to positional\u001b[39;00m\n\u001b[32m-> \u001b[39m\u001b[32m1237\u001b[39m loc = \u001b[38;5;28mself\u001b[39m.index.get_loc(label)\n\u001b[32m   1239\u001b[39m \u001b[38;5;28;01mif\u001b[39;00m is_integer(loc):\n\u001b[32m   1240\u001b[39m     \u001b[38;5;28;01mreturn\u001b[39;00m \u001b[38;5;28mself\u001b[39m._values[loc]\n",
      "\u001b[36mFile \u001b[39m\u001b[32mF:\\Miniconda\\envs\\ai_env\\Lib\\site-packages\\pandas\\core\\indexes\\base.py:3812\u001b[39m, in \u001b[36mIndex.get_loc\u001b[39m\u001b[34m(self, key)\u001b[39m\n\u001b[32m   3807\u001b[39m     \u001b[38;5;28;01mif\u001b[39;00m \u001b[38;5;28misinstance\u001b[39m(casted_key, \u001b[38;5;28mslice\u001b[39m) \u001b[38;5;129;01mor\u001b[39;00m (\n\u001b[32m   3808\u001b[39m         \u001b[38;5;28misinstance\u001b[39m(casted_key, abc.Iterable)\n\u001b[32m   3809\u001b[39m         \u001b[38;5;129;01mand\u001b[39;00m \u001b[38;5;28many\u001b[39m(\u001b[38;5;28misinstance\u001b[39m(x, \u001b[38;5;28mslice\u001b[39m) \u001b[38;5;28;01mfor\u001b[39;00m x \u001b[38;5;129;01min\u001b[39;00m casted_key)\n\u001b[32m   3810\u001b[39m     ):\n\u001b[32m   3811\u001b[39m         \u001b[38;5;28;01mraise\u001b[39;00m InvalidIndexError(key)\n\u001b[32m-> \u001b[39m\u001b[32m3812\u001b[39m     \u001b[38;5;28;01mraise\u001b[39;00m \u001b[38;5;167;01mKeyError\u001b[39;00m(key) \u001b[38;5;28;01mfrom\u001b[39;00m\u001b[38;5;250m \u001b[39m\u001b[34;01merr\u001b[39;00m\n\u001b[32m   3813\u001b[39m \u001b[38;5;28;01mexcept\u001b[39;00m \u001b[38;5;167;01mTypeError\u001b[39;00m:\n\u001b[32m   3814\u001b[39m     \u001b[38;5;66;03m# If we have a listlike key, _check_indexing_error will raise\u001b[39;00m\n\u001b[32m   3815\u001b[39m     \u001b[38;5;66;03m#  InvalidIndexError. Otherwise we fall through and re-raise\u001b[39;00m\n\u001b[32m   3816\u001b[39m     \u001b[38;5;66;03m#  the TypeError.\u001b[39;00m\n\u001b[32m   3817\u001b[39m     \u001b[38;5;28mself\u001b[39m._check_indexing_error(key)\n",
      "\u001b[31mKeyError\u001b[39m: 'f'"
     ]
    }
   ],
   "source": [
    "\"\"\"If a label is not contained and you are trying to access its data, an exception is raised: \"\"\" \n",
    "s['f']\n",
    "\n",
    "# This will create error\n"
   ]
  },
  {
   "cell_type": "code",
   "execution_count": 181,
   "id": "bdf3e977-8db2-4c6e-bd7f-fa651ecf4078",
   "metadata": {},
   "outputs": [
    {
     "data": {
      "text/plain": [
       "nan"
      ]
     },
     "execution_count": 181,
     "metadata": {},
     "output_type": "execute_result"
    }
   ],
   "source": [
    "\"\"\"Using the get method, a missing label will return None or specified default\"\"\"\n",
    "s.get('f') #it will return none\n",
    "s.get('f', np.nan) #it will return default value\n"
   ]
  },
  {
   "cell_type": "markdown",
   "id": "8137aa61-b1f0-4696-aa6e-0293e5eaee35",
   "metadata": {},
   "source": [
    "## 10.6 Vectorized operations and label alignment with Series\n",
    "  When doing data analysis, as with raw NumPy arrays looping through Series value-by-value is usually not necessary.  \n",
    "  Series can also be passed into most NumPy methods expecting an ndarray.\n"
   ]
  },
  {
   "cell_type": "code",
   "execution_count": 289,
   "id": "1f07ef18-73cf-4ef0-9de6-3210e5272d0c",
   "metadata": {},
   "outputs": [
    {
     "data": {
      "text/plain": [
       "0   -0.358390\n",
       "1   -0.687920\n",
       "2    3.043626\n",
       "3   -0.721479\n",
       "4    0.100238\n",
       "Name: something, dtype: float64"
      ]
     },
     "execution_count": 289,
     "metadata": {},
     "output_type": "execute_result"
    }
   ],
   "source": [
    "\"\"\"following will add the data of respective values of indexes. For example, in given output, it is calculate d as:\n",
    "a = s['a'] + s['a']\n",
    "b = s['b'] + s['b']\n",
    "c = s['c'] + s['c']\n",
    "d = s['d'] + s['d']\n",
    "e = s['e'] + s['e']\n",
    "\n",
    "\"\"\"\n",
    "s + s\n"
   ]
  },
  {
   "cell_type": "code",
   "execution_count": 183,
   "id": "9ebbfca2-7e38-40a2-bda9-ba0fbfdc1ce6",
   "metadata": {},
   "outputs": [
    {
     "data": {
      "text/plain": [
       "a     0.822592\n",
       "b    -2.253615\n",
       "c    -2.135397\n",
       "d     2.281766\n",
       "e    24.000000\n",
       "dtype: float64"
      ]
     },
     "execution_count": 183,
     "metadata": {},
     "output_type": "execute_result"
    }
   ],
   "source": [
    "\"\"\"following will multiply the data of each values of indexes, with 2. For example, in given output, it is ca lculated as:\n",
    "a = s['a'] *2\n",
    "b = s['b'] *2\n",
    "c = s['c'] *2\n",
    "d = s['d'] *2\n",
    "e = s['e'] *2\"\"\"\n",
    "\n",
    "s * 2\n"
   ]
  },
  {
   "cell_type": "code",
   "execution_count": 184,
   "id": "c5f537d5-8b28-4031-bf4a-634b75028c47",
   "metadata": {},
   "outputs": [
    {
     "data": {
      "text/plain": [
       "0   -0.179195\n",
       "1   -0.343960\n",
       "2    1.521813\n",
       "3   -0.360740\n",
       "4    0.050119\n",
       "Name: something, dtype: float64"
      ]
     },
     "execution_count": 184,
     "metadata": {},
     "output_type": "execute_result"
    }
   ],
   "source": [
    "s\t=\tpd.Series(np.random.randn(5),\tname='something')\n",
    "s "
   ]
  },
  {
   "cell_type": "code",
   "execution_count": 185,
   "id": "f5afdc1a-8242-46c2-83fb-f479f717885b",
   "metadata": {},
   "outputs": [
    {
     "data": {
      "text/plain": [
       "'something'"
      ]
     },
     "execution_count": 185,
     "metadata": {},
     "output_type": "execute_result"
    }
   ],
   "source": [
    "s.name #print the name attribute of series"
   ]
  },
  {
   "cell_type": "code",
   "execution_count": 187,
   "id": "f415fa11-54cd-4e59-80b0-9638e122f2b8",
   "metadata": {},
   "outputs": [
    {
     "data": {
      "text/plain": [
       "'different'"
      ]
     },
     "execution_count": 187,
     "metadata": {},
     "output_type": "execute_result"
    }
   ],
   "source": [
    "#rename the series name attribute and assign to s2 object. Note that s and s2 refer to different objects.\n",
    "\n",
    "s2 = s.rename(\"different\") \n",
    "s2.name\n"
   ]
  },
  {
   "cell_type": "markdown",
   "id": "9b2264dd-c4ef-4f06-91f4-687dfcc1a672",
   "metadata": {},
   "source": [
    "#  11.\tData Frames\n",
    "1. DataFrames are the workhorse of pandas and are directly inspired by the R programming language.\n",
    "2. Like Series, DataFrame accepts many different kinds of input:\n",
    "      Dict of 1D ndarrays, lists, dicts, or Series\n",
    "      2-D numpy.ndarray\n",
    "      Structured or record ndarray\n",
    "      A Series\n",
    "      Another DataFrame\n",
    "3. Along with the data, you can optionally pass index (row labels) and columns (column labels) arguments.\n",
    "4. If you pass an index and / or columns, you are guaranteeing the index and / or columns of the resulting DataFrame.\n",
    "5. Thus, a dict of Series plus a specific index will discard all data not matching up to the passed index.\n",
    "6. If axis labels are not passed, they will be constructed from the input data based on common sense rules\n"
   ]
  },
  {
   "cell_type": "markdown",
   "id": "f3c72ab8-f192-4ddb-aacd-a4cc06ddf4c2",
   "metadata": {},
   "source": [
    "## 11.1\tFrom dict of Series or dicts\n",
    "  The result index will be the union of the indexes of the various Series.  \n",
    "  If there are any nested dicts, these will be first converted to Series.\n",
    "  If no columns are passed, the columns will be the sorted list of dict keys.\n"
   ]
  },
  {
   "cell_type": "code",
   "execution_count": 190,
   "id": "fb3b48d9-c6b7-4d3b-8ecb-44d286415761",
   "metadata": {},
   "outputs": [
    {
     "data": {
      "text/html": [
       "<div>\n",
       "<style scoped>\n",
       "    .dataframe tbody tr th:only-of-type {\n",
       "        vertical-align: middle;\n",
       "    }\n",
       "\n",
       "    .dataframe tbody tr th {\n",
       "        vertical-align: top;\n",
       "    }\n",
       "\n",
       "    .dataframe thead th {\n",
       "        text-align: right;\n",
       "    }\n",
       "</style>\n",
       "<table border=\"1\" class=\"dataframe\">\n",
       "  <thead>\n",
       "    <tr style=\"text-align: right;\">\n",
       "      <th></th>\n",
       "      <th>one</th>\n",
       "      <th>two</th>\n",
       "    </tr>\n",
       "  </thead>\n",
       "  <tbody>\n",
       "    <tr>\n",
       "      <th>a</th>\n",
       "      <td>1.0</td>\n",
       "      <td>1.0</td>\n",
       "    </tr>\n",
       "    <tr>\n",
       "      <th>b</th>\n",
       "      <td>2.0</td>\n",
       "      <td>2.0</td>\n",
       "    </tr>\n",
       "    <tr>\n",
       "      <th>c</th>\n",
       "      <td>3.0</td>\n",
       "      <td>3.0</td>\n",
       "    </tr>\n",
       "    <tr>\n",
       "      <th>d</th>\n",
       "      <td>NaN</td>\n",
       "      <td>4.0</td>\n",
       "    </tr>\n",
       "  </tbody>\n",
       "</table>\n",
       "</div>"
      ],
      "text/plain": [
       "   one  two\n",
       "a  1.0  1.0\n",
       "b  2.0  2.0\n",
       "c  3.0  3.0\n",
       "d  NaN  4.0"
      ]
     },
     "execution_count": 190,
     "metadata": {},
     "output_type": "execute_result"
    }
   ],
   "source": [
    "\"\"\" A dict is created \"\"\" \n",
    "d = {\n",
    "'one' : pd.Series([1., 2., 3.], index=['a', 'b', 'c']),\n",
    "'two' : pd.Series([1., 2., 3., 4.], index=['a', 'b', 'c', 'd'])\n",
    "}\n",
    "\n",
    "\"\"\"create a dataframe. row label will be the indes of a series. As coloum labels are not given so it will be sorted list of dict keys\"\"\"\n",
    "\n",
    "df = pd.DataFrame(d)\n",
    "df\n"
   ]
  },
  {
   "cell_type": "code",
   "execution_count": 191,
   "id": "3f1d7646-08a1-4050-b0c4-9369381505f8",
   "metadata": {},
   "outputs": [
    {
     "data": {
      "text/html": [
       "<div>\n",
       "<style scoped>\n",
       "    .dataframe tbody tr th:only-of-type {\n",
       "        vertical-align: middle;\n",
       "    }\n",
       "\n",
       "    .dataframe tbody tr th {\n",
       "        vertical-align: top;\n",
       "    }\n",
       "\n",
       "    .dataframe thead th {\n",
       "        text-align: right;\n",
       "    }\n",
       "</style>\n",
       "<table border=\"1\" class=\"dataframe\">\n",
       "  <thead>\n",
       "    <tr style=\"text-align: right;\">\n",
       "      <th></th>\n",
       "      <th>one</th>\n",
       "      <th>two</th>\n",
       "    </tr>\n",
       "  </thead>\n",
       "  <tbody>\n",
       "    <tr>\n",
       "      <th>d</th>\n",
       "      <td>NaN</td>\n",
       "      <td>4.0</td>\n",
       "    </tr>\n",
       "    <tr>\n",
       "      <th>b</th>\n",
       "      <td>2.0</td>\n",
       "      <td>2.0</td>\n",
       "    </tr>\n",
       "    <tr>\n",
       "      <th>a</th>\n",
       "      <td>1.0</td>\n",
       "      <td>1.0</td>\n",
       "    </tr>\n",
       "  </tbody>\n",
       "</table>\n",
       "</div>"
      ],
      "text/plain": [
       "   one  two\n",
       "d  NaN  4.0\n",
       "b  2.0  2.0\n",
       "a  1.0  1.0"
      ]
     },
     "execution_count": 191,
     "metadata": {},
     "output_type": "execute_result"
    }
   ],
   "source": [
    "\"\"\" a data frame will be constructed for given row labels\"\"\" \n",
    "pd.DataFrame(d, index=['d', 'b', 'a'])"
   ]
  },
  {
   "cell_type": "code",
   "execution_count": 192,
   "id": "0312f8cb-f356-4fa0-b8a7-45d20309670d",
   "metadata": {},
   "outputs": [
    {
     "data": {
      "text/html": [
       "<div>\n",
       "<style scoped>\n",
       "    .dataframe tbody tr th:only-of-type {\n",
       "        vertical-align: middle;\n",
       "    }\n",
       "\n",
       "    .dataframe tbody tr th {\n",
       "        vertical-align: top;\n",
       "    }\n",
       "\n",
       "    .dataframe thead th {\n",
       "        text-align: right;\n",
       "    }\n",
       "</style>\n",
       "<table border=\"1\" class=\"dataframe\">\n",
       "  <thead>\n",
       "    <tr style=\"text-align: right;\">\n",
       "      <th></th>\n",
       "      <th>two</th>\n",
       "      <th>three</th>\n",
       "    </tr>\n",
       "  </thead>\n",
       "  <tbody>\n",
       "    <tr>\n",
       "      <th>d</th>\n",
       "      <td>4.0</td>\n",
       "      <td>NaN</td>\n",
       "    </tr>\n",
       "    <tr>\n",
       "      <th>b</th>\n",
       "      <td>2.0</td>\n",
       "      <td>NaN</td>\n",
       "    </tr>\n",
       "    <tr>\n",
       "      <th>a</th>\n",
       "      <td>1.0</td>\n",
       "      <td>NaN</td>\n",
       "    </tr>\n",
       "  </tbody>\n",
       "</table>\n",
       "</div>"
      ],
      "text/plain": [
       "   two three\n",
       "d  4.0   NaN\n",
       "b  2.0   NaN\n",
       "a  1.0   NaN"
      ]
     },
     "execution_count": 192,
     "metadata": {},
     "output_type": "execute_result"
    }
   ],
   "source": [
    "\"\"\"following example shows a data frame when we give coloumn labels\"\"\" \n",
    "pd.DataFrame(d, index=['d', 'b', 'a'], columns=['two', 'three'])"
   ]
  },
  {
   "cell_type": "code",
   "execution_count": 193,
   "id": "4b7f8b75-9a8a-447a-907a-33b8b9700c01",
   "metadata": {},
   "outputs": [
    {
     "data": {
      "text/plain": [
       "Index(['one', 'two'], dtype='object')"
      ]
     },
     "execution_count": 193,
     "metadata": {},
     "output_type": "execute_result"
    }
   ],
   "source": [
    "df.columns"
   ]
  },
  {
   "cell_type": "markdown",
   "id": "840379a0-c2f5-40d5-b39b-5ca8e894685a",
   "metadata": {},
   "source": [
    "## 11.2\tFrom dict of ndarrays / lists\n",
    "  The ndarrays must all be the same length.\n",
    "  If an index is passed, it must clearly also be the same length as the arrays.  \n",
    "  If no index is passed, the result will be range(n), where n is the array length."
   ]
  },
  {
   "cell_type": "code",
   "execution_count": 197,
   "id": "c64b41aa-5626-42bf-842d-2fd4742dd05f",
   "metadata": {},
   "outputs": [
    {
     "data": {
      "text/html": [
       "<div>\n",
       "<style scoped>\n",
       "    .dataframe tbody tr th:only-of-type {\n",
       "        vertical-align: middle;\n",
       "    }\n",
       "\n",
       "    .dataframe tbody tr th {\n",
       "        vertical-align: top;\n",
       "    }\n",
       "\n",
       "    .dataframe thead th {\n",
       "        text-align: right;\n",
       "    }\n",
       "</style>\n",
       "<table border=\"1\" class=\"dataframe\">\n",
       "  <thead>\n",
       "    <tr style=\"text-align: right;\">\n",
       "      <th></th>\n",
       "      <th>one</th>\n",
       "      <th>two</th>\n",
       "    </tr>\n",
       "  </thead>\n",
       "  <tbody>\n",
       "    <tr>\n",
       "      <th>0</th>\n",
       "      <td>1.0</td>\n",
       "      <td>4.0</td>\n",
       "    </tr>\n",
       "    <tr>\n",
       "      <th>1</th>\n",
       "      <td>2.0</td>\n",
       "      <td>3.0</td>\n",
       "    </tr>\n",
       "    <tr>\n",
       "      <th>2</th>\n",
       "      <td>3.0</td>\n",
       "      <td>2.0</td>\n",
       "    </tr>\n",
       "    <tr>\n",
       "      <th>3</th>\n",
       "      <td>4.0</td>\n",
       "      <td>1.0</td>\n",
       "    </tr>\n",
       "  </tbody>\n",
       "</table>\n",
       "</div>"
      ],
      "text/plain": [
       "   one  two\n",
       "0  1.0  4.0\n",
       "1  2.0  3.0\n",
       "2  3.0  2.0\n",
       "3  4.0  1.0"
      ]
     },
     "execution_count": 197,
     "metadata": {},
     "output_type": "execute_result"
    }
   ],
   "source": [
    "\"\"\"followind examples shows that ndarray has same length\"\"\" \n",
    "d = {\n",
    "'one' : [1., 2., 3., 4.],\n",
    "'two' : [4., 3., 2., 1.]\n",
    "}\n",
    "\n",
    "\"\"\"column labels are not given so\tthe result will be range(n), where n is the array length\"\"\"\n",
    "pd.DataFrame(d)\n"
   ]
  },
  {
   "cell_type": "code",
   "execution_count": 198,
   "id": "295fb268-29c6-4fdc-9817-d45c03c32906",
   "metadata": {},
   "outputs": [
    {
     "data": {
      "text/html": [
       "<div>\n",
       "<style scoped>\n",
       "    .dataframe tbody tr th:only-of-type {\n",
       "        vertical-align: middle;\n",
       "    }\n",
       "\n",
       "    .dataframe tbody tr th {\n",
       "        vertical-align: top;\n",
       "    }\n",
       "\n",
       "    .dataframe thead th {\n",
       "        text-align: right;\n",
       "    }\n",
       "</style>\n",
       "<table border=\"1\" class=\"dataframe\">\n",
       "  <thead>\n",
       "    <tr style=\"text-align: right;\">\n",
       "      <th></th>\n",
       "      <th>one</th>\n",
       "      <th>two</th>\n",
       "    </tr>\n",
       "  </thead>\n",
       "  <tbody>\n",
       "    <tr>\n",
       "      <th>a</th>\n",
       "      <td>1.0</td>\n",
       "      <td>4.0</td>\n",
       "    </tr>\n",
       "    <tr>\n",
       "      <th>b</th>\n",
       "      <td>2.0</td>\n",
       "      <td>3.0</td>\n",
       "    </tr>\n",
       "    <tr>\n",
       "      <th>c</th>\n",
       "      <td>3.0</td>\n",
       "      <td>2.0</td>\n",
       "    </tr>\n",
       "    <tr>\n",
       "      <th>d</th>\n",
       "      <td>4.0</td>\n",
       "      <td>1.0</td>\n",
       "    </tr>\n",
       "  </tbody>\n",
       "</table>\n",
       "</div>"
      ],
      "text/plain": [
       "   one  two\n",
       "a  1.0  4.0\n",
       "b  2.0  3.0\n",
       "c  3.0  2.0\n",
       "d  4.0  1.0"
      ]
     },
     "execution_count": 198,
     "metadata": {},
     "output_type": "execute_result"
    }
   ],
   "source": [
    "\"\"\"If indexs are given then it would be same length as arrays\"\"\" \n",
    "pd.DataFrame(d, index=['a', 'b', 'c', 'd'])"
   ]
  },
  {
   "cell_type": "markdown",
   "id": "0d236f40-d13e-4ceb-98bc-8bbdd6ce69ef",
   "metadata": {},
   "source": [
    "## 11.3\tFrom a list of dicts"
   ]
  },
  {
   "cell_type": "code",
   "execution_count": 199,
   "id": "72ce712a-5f51-40d5-8f56-1ba1019734ec",
   "metadata": {},
   "outputs": [
    {
     "data": {
      "text/html": [
       "<div>\n",
       "<style scoped>\n",
       "    .dataframe tbody tr th:only-of-type {\n",
       "        vertical-align: middle;\n",
       "    }\n",
       "\n",
       "    .dataframe tbody tr th {\n",
       "        vertical-align: top;\n",
       "    }\n",
       "\n",
       "    .dataframe thead th {\n",
       "        text-align: right;\n",
       "    }\n",
       "</style>\n",
       "<table border=\"1\" class=\"dataframe\">\n",
       "  <thead>\n",
       "    <tr style=\"text-align: right;\">\n",
       "      <th></th>\n",
       "      <th>a</th>\n",
       "      <th>b</th>\n",
       "      <th>c</th>\n",
       "    </tr>\n",
       "  </thead>\n",
       "  <tbody>\n",
       "    <tr>\n",
       "      <th>0</th>\n",
       "      <td>1</td>\n",
       "      <td>2</td>\n",
       "      <td>NaN</td>\n",
       "    </tr>\n",
       "    <tr>\n",
       "      <th>1</th>\n",
       "      <td>5</td>\n",
       "      <td>10</td>\n",
       "      <td>20.0</td>\n",
       "    </tr>\n",
       "  </tbody>\n",
       "</table>\n",
       "</div>"
      ],
      "text/plain": [
       "   a   b     c\n",
       "0  1   2   NaN\n",
       "1  5  10  20.0"
      ]
     },
     "execution_count": 199,
     "metadata": {},
     "output_type": "execute_result"
    }
   ],
   "source": [
    "\"\"\"constructing data frame from a list of dicts\"\"\" \n",
    "data2 = [{'a': 1, 'b': 2}, {'a': 5, 'b': 10, 'c': 20}]\n",
    "pd.DataFrame(data2)\n"
   ]
  },
  {
   "cell_type": "code",
   "execution_count": 200,
   "id": "08feb687-4d4a-4c74-aab9-ec634f6f51dc",
   "metadata": {},
   "outputs": [
    {
     "data": {
      "text/html": [
       "<div>\n",
       "<style scoped>\n",
       "    .dataframe tbody tr th:only-of-type {\n",
       "        vertical-align: middle;\n",
       "    }\n",
       "\n",
       "    .dataframe tbody tr th {\n",
       "        vertical-align: top;\n",
       "    }\n",
       "\n",
       "    .dataframe thead th {\n",
       "        text-align: right;\n",
       "    }\n",
       "</style>\n",
       "<table border=\"1\" class=\"dataframe\">\n",
       "  <thead>\n",
       "    <tr style=\"text-align: right;\">\n",
       "      <th></th>\n",
       "      <th>a</th>\n",
       "      <th>b</th>\n",
       "      <th>c</th>\n",
       "    </tr>\n",
       "  </thead>\n",
       "  <tbody>\n",
       "    <tr>\n",
       "      <th>first</th>\n",
       "      <td>1</td>\n",
       "      <td>2</td>\n",
       "      <td>NaN</td>\n",
       "    </tr>\n",
       "    <tr>\n",
       "      <th>second</th>\n",
       "      <td>5</td>\n",
       "      <td>10</td>\n",
       "      <td>20.0</td>\n",
       "    </tr>\n",
       "  </tbody>\n",
       "</table>\n",
       "</div>"
      ],
      "text/plain": [
       "        a   b     c\n",
       "first   1   2   NaN\n",
       "second  5  10  20.0"
      ]
     },
     "execution_count": 200,
     "metadata": {},
     "output_type": "execute_result"
    }
   ],
   "source": [
    "\"\"\"passing list of dicts as data and indexes (row labels)\"\"\"\n",
    "pd.DataFrame(data2, index=['first', 'second'])"
   ]
  },
  {
   "cell_type": "code",
   "execution_count": 201,
   "id": "0fcae455-f1a0-4911-91dc-d839e2acf8ff",
   "metadata": {},
   "outputs": [
    {
     "data": {
      "text/html": [
       "<div>\n",
       "<style scoped>\n",
       "    .dataframe tbody tr th:only-of-type {\n",
       "        vertical-align: middle;\n",
       "    }\n",
       "\n",
       "    .dataframe tbody tr th {\n",
       "        vertical-align: top;\n",
       "    }\n",
       "\n",
       "    .dataframe thead th {\n",
       "        text-align: right;\n",
       "    }\n",
       "</style>\n",
       "<table border=\"1\" class=\"dataframe\">\n",
       "  <thead>\n",
       "    <tr style=\"text-align: right;\">\n",
       "      <th></th>\n",
       "      <th>a</th>\n",
       "      <th>b</th>\n",
       "    </tr>\n",
       "  </thead>\n",
       "  <tbody>\n",
       "    <tr>\n",
       "      <th>0</th>\n",
       "      <td>1</td>\n",
       "      <td>2</td>\n",
       "    </tr>\n",
       "    <tr>\n",
       "      <th>1</th>\n",
       "      <td>5</td>\n",
       "      <td>10</td>\n",
       "    </tr>\n",
       "  </tbody>\n",
       "</table>\n",
       "</div>"
      ],
      "text/plain": [
       "   a   b\n",
       "0  1   2\n",
       "1  5  10"
      ]
     },
     "execution_count": 201,
     "metadata": {},
     "output_type": "execute_result"
    }
   ],
   "source": [
    "\"\"\"passing list of dicts as data and columns (columns labels)\"\"\" \n",
    "pd.DataFrame(data2, columns=['a', 'b'])"
   ]
  },
  {
   "cell_type": "markdown",
   "id": "45ad8d44-da64-4df9-8c68-d35e2dbd6955",
   "metadata": {},
   "source": [
    "## 11.4\tFrom a dict of tuples\n",
    "You can automatically create a multi-indexed frame by passing a tuples dictionary"
   ]
  },
  {
   "cell_type": "code",
   "execution_count": 202,
   "id": "29c0293b-7689-41fb-b74f-61d9da5a568c",
   "metadata": {},
   "outputs": [
    {
     "data": {
      "text/html": [
       "<div>\n",
       "<style scoped>\n",
       "    .dataframe tbody tr th:only-of-type {\n",
       "        vertical-align: middle;\n",
       "    }\n",
       "\n",
       "    .dataframe tbody tr th {\n",
       "        vertical-align: top;\n",
       "    }\n",
       "\n",
       "    .dataframe thead tr th {\n",
       "        text-align: left;\n",
       "    }\n",
       "</style>\n",
       "<table border=\"1\" class=\"dataframe\">\n",
       "  <thead>\n",
       "    <tr>\n",
       "      <th></th>\n",
       "      <th></th>\n",
       "      <th colspan=\"3\" halign=\"left\">a</th>\n",
       "      <th colspan=\"2\" halign=\"left\">b</th>\n",
       "    </tr>\n",
       "    <tr>\n",
       "      <th></th>\n",
       "      <th></th>\n",
       "      <th>b</th>\n",
       "      <th>a</th>\n",
       "      <th>c</th>\n",
       "      <th>a</th>\n",
       "      <th>b</th>\n",
       "    </tr>\n",
       "  </thead>\n",
       "  <tbody>\n",
       "    <tr>\n",
       "      <th rowspan=\"3\" valign=\"top\">A</th>\n",
       "      <th>B</th>\n",
       "      <td>1.0</td>\n",
       "      <td>4.0</td>\n",
       "      <td>5.0</td>\n",
       "      <td>8.0</td>\n",
       "      <td>10.0</td>\n",
       "    </tr>\n",
       "    <tr>\n",
       "      <th>C</th>\n",
       "      <td>2.0</td>\n",
       "      <td>3.0</td>\n",
       "      <td>6.0</td>\n",
       "      <td>7.0</td>\n",
       "      <td>NaN</td>\n",
       "    </tr>\n",
       "    <tr>\n",
       "      <th>D</th>\n",
       "      <td>NaN</td>\n",
       "      <td>NaN</td>\n",
       "      <td>NaN</td>\n",
       "      <td>NaN</td>\n",
       "      <td>9.0</td>\n",
       "    </tr>\n",
       "  </tbody>\n",
       "</table>\n",
       "</div>"
      ],
      "text/plain": [
       "       a              b      \n",
       "       b    a    c    a     b\n",
       "A B  1.0  4.0  5.0  8.0  10.0\n",
       "  C  2.0  3.0  6.0  7.0   NaN\n",
       "  D  NaN  NaN  NaN  NaN   9.0"
      ]
     },
     "execution_count": 202,
     "metadata": {},
     "output_type": "execute_result"
    }
   ],
   "source": [
    "pd.DataFrame({('a', 'b'): {('A', 'B'): 1, ('A', 'C'): 2},\n",
    "('a', 'a'): {('A', 'C'): 3, ('A', 'B'): 4},\n",
    "('a', 'c'): {('A', 'B'): 5, ('A', 'C'): 6},\n",
    "('b', 'a'): {('A', 'C'): 7, ('A', 'B'): 8},\n",
    "('b', 'b'): {('A', 'D'): 9, ('A', 'B'): 10}})\n",
    "\n",
    "#\"NaN shows missing data\n"
   ]
  },
  {
   "cell_type": "markdown",
   "id": "addea442-a901-4e5b-82eb-444ca3c4994e",
   "metadata": {},
   "source": [
    "## 11.5\tAlternate Constructors\n",
    "\n",
    "### DataFrame.from_dict\n",
    "1. DataFrame.from_dict takes a dict of dicts or a dict of array-like sequences and returns a DataFrame.\n",
    "2. It operates like the DataFrame constructor except for the orient parameter which is 'columns' by default, but which can be set to 'index' in order to use the dict keys as row labels.\n",
    "### DataFrame.from_records\n",
    "1. DataFrame.from_records takes a list of tuples or an ndarray with structured dtype.\n",
    "2. Works analogously to the normal DataFrame constructor, except that index maybe be a specific field of the structured dtype to use as the index."
   ]
  },
  {
   "cell_type": "code",
   "execution_count": 204,
   "id": "7f0912fb-388a-44b4-b28a-1d0477b546d2",
   "metadata": {},
   "outputs": [
    {
     "name": "stderr",
     "output_type": "stream",
     "text": [
      "C:\\Users\\Muhammad Saeed\\AppData\\Local\\Temp\\ipykernel_10612\\1682058321.py:1: DeprecationWarning: Data type alias 'a' was deprecated in NumPy 2.0. Use the 'S' alias instead.\n",
      "  data = np.zeros((2,), dtype=[('A', 'i4'),('B', 'f4'),('C', 'a10')])\n"
     ]
    },
    {
     "data": {
      "text/plain": [
       "array([(0, 0., b''), (0, 0., b'')],\n",
       "      dtype=[('A', '<i4'), ('B', '<f4'), ('C', 'S10')])"
      ]
     },
     "execution_count": 204,
     "metadata": {},
     "output_type": "execute_result"
    }
   ],
   "source": [
    "data = np.zeros((2,), dtype=[('A', 'i4'),('B', 'f4'),('C', 'a10')])\n",
    "data"
   ]
  },
  {
   "cell_type": "code",
   "execution_count": 205,
   "id": "9a188692-40ff-48f8-9fa5-cd9e396d0080",
   "metadata": {},
   "outputs": [
    {
     "data": {
      "text/html": [
       "<div>\n",
       "<style scoped>\n",
       "    .dataframe tbody tr th:only-of-type {\n",
       "        vertical-align: middle;\n",
       "    }\n",
       "\n",
       "    .dataframe tbody tr th {\n",
       "        vertical-align: top;\n",
       "    }\n",
       "\n",
       "    .dataframe thead th {\n",
       "        text-align: right;\n",
       "    }\n",
       "</style>\n",
       "<table border=\"1\" class=\"dataframe\">\n",
       "  <thead>\n",
       "    <tr style=\"text-align: right;\">\n",
       "      <th></th>\n",
       "      <th>A</th>\n",
       "      <th>B</th>\n",
       "    </tr>\n",
       "    <tr>\n",
       "      <th>C</th>\n",
       "      <th></th>\n",
       "      <th></th>\n",
       "    </tr>\n",
       "  </thead>\n",
       "  <tbody>\n",
       "    <tr>\n",
       "      <th>b''</th>\n",
       "      <td>0</td>\n",
       "      <td>0.0</td>\n",
       "    </tr>\n",
       "    <tr>\n",
       "      <th>b''</th>\n",
       "      <td>0</td>\n",
       "      <td>0.0</td>\n",
       "    </tr>\n",
       "  </tbody>\n",
       "</table>\n",
       "</div>"
      ],
      "text/plain": [
       "     A    B\n",
       "C          \n",
       "b''  0  0.0\n",
       "b''  0  0.0"
      ]
     },
     "execution_count": 205,
     "metadata": {},
     "output_type": "execute_result"
    }
   ],
   "source": [
    "pd.DataFrame.from_records(data, index='C')"
   ]
  },
  {
   "cell_type": "markdown",
   "id": "f351974d-9d25-4be6-a439-b2d9233084c1",
   "metadata": {},
   "source": [
    "### DataFrame.from_items\n",
    "1. DataFrame.from_items works analogously to the form of the dict constructor that takes a sequence of (key, value) pairs, where the keys are column (or row, in the case of orient='index') names, and the value are the column values (or row values).\n",
    "2. This can be useful for constructing a DataFrame with the columns in a particular order without having to pass an explicit list of columns\n"
   ]
  },
  {
   "cell_type": "code",
   "execution_count": 208,
   "id": "c62d718f-2619-4a0f-b7f9-4106e325a187",
   "metadata": {},
   "outputs": [
    {
     "name": "stdout",
     "output_type": "stream",
     "text": [
      "   A  B\n",
      "0  1  4\n",
      "1  2  5\n",
      "2  3  6\n"
     ]
    }
   ],
   "source": [
    "import pandas as pd\n",
    "df = pd.DataFrame({\n",
    "    'A': [1, 2, 3],\n",
    "    'B': [4, 5, 6]\n",
    "})\n",
    "print(df)\n"
   ]
  },
  {
   "cell_type": "code",
   "execution_count": 211,
   "id": "7c86d885-ed9f-4698-9f3b-ab16e71c992e",
   "metadata": {},
   "outputs": [
    {
     "name": "stdout",
     "output_type": "stream",
     "text": [
      "   one  two  three\n",
      "A    1    2      3\n",
      "B    4    5      6\n"
     ]
    }
   ],
   "source": [
    "import pandas as pd\n",
    "\n",
    "data = {\n",
    "    'A': [1, 2, 3],\n",
    "    'B': [4, 5, 6]\n",
    "}\n",
    "\n",
    "df = pd.DataFrame.from_dict(data, orient='index', columns=['one', 'two', 'three'])\n",
    "print(df)\n"
   ]
  },
  {
   "cell_type": "markdown",
   "id": "d947168b-ddac-4f66-972d-9b9f0f1f6d13",
   "metadata": {},
   "source": [
    "## 11.6\tColumn selection, addition, deletion\n",
    "  DataFrame can be treated semantically like a dict of like-indexed Series objects. Getting, setting, and deleting columns works with the same syntax as the analogous dict operations.\n"
   ]
  },
  {
   "cell_type": "code",
   "execution_count": 212,
   "id": "cbecdf1f-542d-43c0-8b56-d06cb7454683",
   "metadata": {},
   "outputs": [
    {
     "data": {
      "text/plain": [
       "A    1\n",
       "B    4\n",
       "Name: one, dtype: int64"
      ]
     },
     "execution_count": 212,
     "metadata": {},
     "output_type": "execute_result"
    }
   ],
   "source": [
    "df['one'] # it is displaying data under coloumn 'one'"
   ]
  },
  {
   "cell_type": "code",
   "execution_count": 213,
   "id": "2fbb7185-6431-4ec5-95a6-8737687ec301",
   "metadata": {},
   "outputs": [],
   "source": [
    "df['three'] = df['one'] * df['two'] # assigning values to a colomn named 'three' after calculation"
   ]
  },
  {
   "cell_type": "code",
   "execution_count": 214,
   "id": "46f7f2fc-7ae6-4ecb-8ee3-43943b9d18f2",
   "metadata": {},
   "outputs": [],
   "source": [
    "df['flag'] = df['one'] > 2 #check if value at column 'one' is > 2 then assign True otherwise false"
   ]
  },
  {
   "cell_type": "code",
   "execution_count": 215,
   "id": "56b553f9-c3ef-420c-940f-e1bef50a623e",
   "metadata": {},
   "outputs": [
    {
     "data": {
      "text/html": [
       "<div>\n",
       "<style scoped>\n",
       "    .dataframe tbody tr th:only-of-type {\n",
       "        vertical-align: middle;\n",
       "    }\n",
       "\n",
       "    .dataframe tbody tr th {\n",
       "        vertical-align: top;\n",
       "    }\n",
       "\n",
       "    .dataframe thead th {\n",
       "        text-align: right;\n",
       "    }\n",
       "</style>\n",
       "<table border=\"1\" class=\"dataframe\">\n",
       "  <thead>\n",
       "    <tr style=\"text-align: right;\">\n",
       "      <th></th>\n",
       "      <th>one</th>\n",
       "      <th>two</th>\n",
       "      <th>three</th>\n",
       "      <th>flag</th>\n",
       "    </tr>\n",
       "  </thead>\n",
       "  <tbody>\n",
       "    <tr>\n",
       "      <th>A</th>\n",
       "      <td>1</td>\n",
       "      <td>2</td>\n",
       "      <td>2</td>\n",
       "      <td>False</td>\n",
       "    </tr>\n",
       "    <tr>\n",
       "      <th>B</th>\n",
       "      <td>4</td>\n",
       "      <td>5</td>\n",
       "      <td>20</td>\n",
       "      <td>True</td>\n",
       "    </tr>\n",
       "  </tbody>\n",
       "</table>\n",
       "</div>"
      ],
      "text/plain": [
       "   one  two  three   flag\n",
       "A    1    2      2  False\n",
       "B    4    5     20   True"
      ]
     },
     "execution_count": 215,
     "metadata": {},
     "output_type": "execute_result"
    }
   ],
   "source": [
    "df #print a complete data frame"
   ]
  },
  {
   "cell_type": "code",
   "execution_count": 216,
   "id": "9e23427f-3927-4e52-8460-689bf285ccb6",
   "metadata": {},
   "outputs": [],
   "source": [
    "del df['two'] #delete a coloumn 'two' from data frame"
   ]
  },
  {
   "cell_type": "code",
   "execution_count": 217,
   "id": "3c497ee3-c6ea-4104-8e0a-885cabbb6fe4",
   "metadata": {},
   "outputs": [],
   "source": [
    "three = df.pop('three') #pop a complete coloumn 'three' from dataframe"
   ]
  },
  {
   "cell_type": "code",
   "execution_count": 218,
   "id": "76e01b78-33a7-4fbe-88bd-7ccfe7d13dc2",
   "metadata": {},
   "outputs": [
    {
     "data": {
      "text/html": [
       "<div>\n",
       "<style scoped>\n",
       "    .dataframe tbody tr th:only-of-type {\n",
       "        vertical-align: middle;\n",
       "    }\n",
       "\n",
       "    .dataframe tbody tr th {\n",
       "        vertical-align: top;\n",
       "    }\n",
       "\n",
       "    .dataframe thead th {\n",
       "        text-align: right;\n",
       "    }\n",
       "</style>\n",
       "<table border=\"1\" class=\"dataframe\">\n",
       "  <thead>\n",
       "    <tr style=\"text-align: right;\">\n",
       "      <th></th>\n",
       "      <th>one</th>\n",
       "      <th>flag</th>\n",
       "    </tr>\n",
       "  </thead>\n",
       "  <tbody>\n",
       "    <tr>\n",
       "      <th>A</th>\n",
       "      <td>1</td>\n",
       "      <td>False</td>\n",
       "    </tr>\n",
       "    <tr>\n",
       "      <th>B</th>\n",
       "      <td>4</td>\n",
       "      <td>True</td>\n",
       "    </tr>\n",
       "  </tbody>\n",
       "</table>\n",
       "</div>"
      ],
      "text/plain": [
       "   one   flag\n",
       "A    1  False\n",
       "B    4   True"
      ]
     },
     "execution_count": 218,
     "metadata": {},
     "output_type": "execute_result"
    }
   ],
   "source": [
    "df"
   ]
  },
  {
   "cell_type": "code",
   "execution_count": 219,
   "id": "102b722b-fc2d-43c7-8609-8197805d854c",
   "metadata": {},
   "outputs": [],
   "source": [
    "df['foo'] = 'bar' #a coloumn 'foo' will be populated with 'bar'"
   ]
  },
  {
   "cell_type": "code",
   "execution_count": 220,
   "id": "567cb609-5dda-4e52-8cf7-9154cca2af13",
   "metadata": {},
   "outputs": [
    {
     "data": {
      "text/html": [
       "<div>\n",
       "<style scoped>\n",
       "    .dataframe tbody tr th:only-of-type {\n",
       "        vertical-align: middle;\n",
       "    }\n",
       "\n",
       "    .dataframe tbody tr th {\n",
       "        vertical-align: top;\n",
       "    }\n",
       "\n",
       "    .dataframe thead th {\n",
       "        text-align: right;\n",
       "    }\n",
       "</style>\n",
       "<table border=\"1\" class=\"dataframe\">\n",
       "  <thead>\n",
       "    <tr style=\"text-align: right;\">\n",
       "      <th></th>\n",
       "      <th>one</th>\n",
       "      <th>flag</th>\n",
       "      <th>foo</th>\n",
       "    </tr>\n",
       "  </thead>\n",
       "  <tbody>\n",
       "    <tr>\n",
       "      <th>A</th>\n",
       "      <td>1</td>\n",
       "      <td>False</td>\n",
       "      <td>bar</td>\n",
       "    </tr>\n",
       "    <tr>\n",
       "      <th>B</th>\n",
       "      <td>4</td>\n",
       "      <td>True</td>\n",
       "      <td>bar</td>\n",
       "    </tr>\n",
       "  </tbody>\n",
       "</table>\n",
       "</div>"
      ],
      "text/plain": [
       "   one   flag  foo\n",
       "A    1  False  bar\n",
       "B    4   True  bar"
      ]
     },
     "execution_count": 220,
     "metadata": {},
     "output_type": "execute_result"
    }
   ],
   "source": [
    "df"
   ]
  },
  {
   "cell_type": "code",
   "execution_count": 222,
   "id": "92fe9899-9777-41f1-b34d-36b30337fece",
   "metadata": {},
   "outputs": [],
   "source": [
    "\"\"\"following example will take values from coloumn one until give range and will populate the new coloumn\"\"\" \n",
    "df['one_trunc'] = df['one'][:2]"
   ]
  },
  {
   "cell_type": "code",
   "execution_count": 223,
   "id": "05676b59-33fc-45ad-90df-9f94b4033d84",
   "metadata": {},
   "outputs": [
    {
     "data": {
      "text/html": [
       "<div>\n",
       "<style scoped>\n",
       "    .dataframe tbody tr th:only-of-type {\n",
       "        vertical-align: middle;\n",
       "    }\n",
       "\n",
       "    .dataframe tbody tr th {\n",
       "        vertical-align: top;\n",
       "    }\n",
       "\n",
       "    .dataframe thead th {\n",
       "        text-align: right;\n",
       "    }\n",
       "</style>\n",
       "<table border=\"1\" class=\"dataframe\">\n",
       "  <thead>\n",
       "    <tr style=\"text-align: right;\">\n",
       "      <th></th>\n",
       "      <th>one</th>\n",
       "      <th>flag</th>\n",
       "      <th>foo</th>\n",
       "      <th>one_trunc</th>\n",
       "    </tr>\n",
       "  </thead>\n",
       "  <tbody>\n",
       "    <tr>\n",
       "      <th>A</th>\n",
       "      <td>1</td>\n",
       "      <td>False</td>\n",
       "      <td>bar</td>\n",
       "      <td>1</td>\n",
       "    </tr>\n",
       "    <tr>\n",
       "      <th>B</th>\n",
       "      <td>4</td>\n",
       "      <td>True</td>\n",
       "      <td>bar</td>\n",
       "      <td>4</td>\n",
       "    </tr>\n",
       "  </tbody>\n",
       "</table>\n",
       "</div>"
      ],
      "text/plain": [
       "   one   flag  foo  one_trunc\n",
       "A    1  False  bar          1\n",
       "B    4   True  bar          4"
      ]
     },
     "execution_count": 223,
     "metadata": {},
     "output_type": "execute_result"
    }
   ],
   "source": [
    "df"
   ]
  },
  {
   "cell_type": "code",
   "execution_count": 224,
   "id": "8e0c5ec9-cbf7-4279-89fc-89c14a8e8fd2",
   "metadata": {},
   "outputs": [],
   "source": [
    "\"\"\"following function has three arguments.\n",
    "First argument: index where new coloumn will be inserted. Second argument: label or title\tof a new coloumn\n",
    "Third argument: it will create a coloumn at specified position\"\"\"\n",
    "\n",
    "df.insert(1, 'bar2', df['one'])\n"
   ]
  },
  {
   "cell_type": "code",
   "execution_count": 225,
   "id": "58576445-674e-48d9-bf0d-5c4efc4038f3",
   "metadata": {},
   "outputs": [
    {
     "data": {
      "text/html": [
       "<div>\n",
       "<style scoped>\n",
       "    .dataframe tbody tr th:only-of-type {\n",
       "        vertical-align: middle;\n",
       "    }\n",
       "\n",
       "    .dataframe tbody tr th {\n",
       "        vertical-align: top;\n",
       "    }\n",
       "\n",
       "    .dataframe thead th {\n",
       "        text-align: right;\n",
       "    }\n",
       "</style>\n",
       "<table border=\"1\" class=\"dataframe\">\n",
       "  <thead>\n",
       "    <tr style=\"text-align: right;\">\n",
       "      <th></th>\n",
       "      <th>one</th>\n",
       "      <th>bar2</th>\n",
       "      <th>flag</th>\n",
       "      <th>foo</th>\n",
       "      <th>one_trunc</th>\n",
       "    </tr>\n",
       "  </thead>\n",
       "  <tbody>\n",
       "    <tr>\n",
       "      <th>A</th>\n",
       "      <td>1</td>\n",
       "      <td>1</td>\n",
       "      <td>False</td>\n",
       "      <td>bar</td>\n",
       "      <td>1</td>\n",
       "    </tr>\n",
       "    <tr>\n",
       "      <th>B</th>\n",
       "      <td>4</td>\n",
       "      <td>4</td>\n",
       "      <td>True</td>\n",
       "      <td>bar</td>\n",
       "      <td>4</td>\n",
       "    </tr>\n",
       "  </tbody>\n",
       "</table>\n",
       "</div>"
      ],
      "text/plain": [
       "   one  bar2   flag  foo  one_trunc\n",
       "A    1     1  False  bar          1\n",
       "B    4     4   True  bar          4"
      ]
     },
     "execution_count": 225,
     "metadata": {},
     "output_type": "execute_result"
    }
   ],
   "source": [
    "df"
   ]
  },
  {
   "cell_type": "markdown",
   "id": "51254e13-6b18-4176-865d-2f04cc81b591",
   "metadata": {},
   "source": [
    "## 11.7\tIndexing / Selection\n",
    "  Row selection, for example, returns a Series whose index is the columns of the DataFrame:\n"
   ]
  },
  {
   "cell_type": "code",
   "execution_count": 228,
   "id": "5702c4e7-4808-4572-bbc6-90f1bcb85368",
   "metadata": {},
   "outputs": [
    {
     "name": "stdout",
     "output_type": "stream",
     "text": [
      "a    20\n",
      "b    50\n",
      "c    80\n",
      "Name: y, dtype: int64\n"
     ]
    }
   ],
   "source": [
    "import pandas as pd\n",
    "\n",
    "data = {\n",
    "    'a': [10, 20, 30],\n",
    "    'b': [40, 50, 60],\n",
    "    'c': [70, 80, 90]\n",
    "}\n",
    "\n",
    "df = pd.DataFrame(data, index=['x', 'y', 'z'])\n",
    "\n",
    "print(df.loc['y'])  # This selects row with index 'y'\n"
   ]
  },
  {
   "cell_type": "code",
   "execution_count": 229,
   "id": "d39f7abe-66ce-43c3-ac51-e03c0e83dbcd",
   "metadata": {},
   "outputs": [
    {
     "data": {
      "text/plain": [
       "a    30\n",
       "b    60\n",
       "c    90\n",
       "Name: z, dtype: int64"
      ]
     },
     "execution_count": 229,
     "metadata": {},
     "output_type": "execute_result"
    }
   ],
   "source": [
    "df.iloc[2] #it will return the values of those coloumns that is > than 2"
   ]
  },
  {
   "cell_type": "markdown",
   "id": "7f0d3c53-6353-4e4f-90dd-1324dc533674",
   "metadata": {},
   "source": [
    "## 11.8\tData alignment and arithmetic\n",
    "1. Data alignment between DataFrame objects automatically align on both the columns and the index (row labels).\n",
    "2. Again, the resulting object will have the union of the column and row labels.\n"
   ]
  },
  {
   "cell_type": "code",
   "execution_count": 230,
   "id": "bd8c5afb-04db-4511-9e8c-5b08e67b3777",
   "metadata": {},
   "outputs": [],
   "source": [
    "df = pd.DataFrame(np.random.randn(10, 4), columns=['A', 'B', 'C', 'D'])"
   ]
  },
  {
   "cell_type": "code",
   "execution_count": 231,
   "id": "290252e1-6c02-4c52-85ab-b6676eeb79a2",
   "metadata": {},
   "outputs": [],
   "source": [
    "df2 = pd.DataFrame(np.random.randn(7, 3), columns=['A', 'B', 'C'])"
   ]
  },
  {
   "cell_type": "code",
   "execution_count": 232,
   "id": "968bc95c-8647-4118-ac12-2ea91461e7a6",
   "metadata": {},
   "outputs": [
    {
     "data": {
      "text/html": [
       "<div>\n",
       "<style scoped>\n",
       "    .dataframe tbody tr th:only-of-type {\n",
       "        vertical-align: middle;\n",
       "    }\n",
       "\n",
       "    .dataframe tbody tr th {\n",
       "        vertical-align: top;\n",
       "    }\n",
       "\n",
       "    .dataframe thead th {\n",
       "        text-align: right;\n",
       "    }\n",
       "</style>\n",
       "<table border=\"1\" class=\"dataframe\">\n",
       "  <thead>\n",
       "    <tr style=\"text-align: right;\">\n",
       "      <th></th>\n",
       "      <th>A</th>\n",
       "      <th>B</th>\n",
       "      <th>C</th>\n",
       "      <th>D</th>\n",
       "    </tr>\n",
       "  </thead>\n",
       "  <tbody>\n",
       "    <tr>\n",
       "      <th>0</th>\n",
       "      <td>-0.192317</td>\n",
       "      <td>-0.676756</td>\n",
       "      <td>0.115244</td>\n",
       "      <td>NaN</td>\n",
       "    </tr>\n",
       "    <tr>\n",
       "      <th>1</th>\n",
       "      <td>-0.365887</td>\n",
       "      <td>1.347093</td>\n",
       "      <td>0.729602</td>\n",
       "      <td>NaN</td>\n",
       "    </tr>\n",
       "    <tr>\n",
       "      <th>2</th>\n",
       "      <td>0.986572</td>\n",
       "      <td>2.902443</td>\n",
       "      <td>1.338657</td>\n",
       "      <td>NaN</td>\n",
       "    </tr>\n",
       "    <tr>\n",
       "      <th>3</th>\n",
       "      <td>-1.277111</td>\n",
       "      <td>1.296612</td>\n",
       "      <td>-0.913795</td>\n",
       "      <td>NaN</td>\n",
       "    </tr>\n",
       "    <tr>\n",
       "      <th>4</th>\n",
       "      <td>-2.139451</td>\n",
       "      <td>-0.140603</td>\n",
       "      <td>-0.732494</td>\n",
       "      <td>NaN</td>\n",
       "    </tr>\n",
       "    <tr>\n",
       "      <th>5</th>\n",
       "      <td>0.310530</td>\n",
       "      <td>-0.028137</td>\n",
       "      <td>0.175545</td>\n",
       "      <td>NaN</td>\n",
       "    </tr>\n",
       "    <tr>\n",
       "      <th>6</th>\n",
       "      <td>-0.417743</td>\n",
       "      <td>1.724251</td>\n",
       "      <td>-0.133625</td>\n",
       "      <td>NaN</td>\n",
       "    </tr>\n",
       "    <tr>\n",
       "      <th>7</th>\n",
       "      <td>NaN</td>\n",
       "      <td>NaN</td>\n",
       "      <td>NaN</td>\n",
       "      <td>NaN</td>\n",
       "    </tr>\n",
       "    <tr>\n",
       "      <th>8</th>\n",
       "      <td>NaN</td>\n",
       "      <td>NaN</td>\n",
       "      <td>NaN</td>\n",
       "      <td>NaN</td>\n",
       "    </tr>\n",
       "    <tr>\n",
       "      <th>9</th>\n",
       "      <td>NaN</td>\n",
       "      <td>NaN</td>\n",
       "      <td>NaN</td>\n",
       "      <td>NaN</td>\n",
       "    </tr>\n",
       "  </tbody>\n",
       "</table>\n",
       "</div>"
      ],
      "text/plain": [
       "          A         B         C   D\n",
       "0 -0.192317 -0.676756  0.115244 NaN\n",
       "1 -0.365887  1.347093  0.729602 NaN\n",
       "2  0.986572  2.902443  1.338657 NaN\n",
       "3 -1.277111  1.296612 -0.913795 NaN\n",
       "4 -2.139451 -0.140603 -0.732494 NaN\n",
       "5  0.310530 -0.028137  0.175545 NaN\n",
       "6 -0.417743  1.724251 -0.133625 NaN\n",
       "7       NaN       NaN       NaN NaN\n",
       "8       NaN       NaN       NaN NaN\n",
       "9       NaN       NaN       NaN NaN"
      ]
     },
     "execution_count": 232,
     "metadata": {},
     "output_type": "execute_result"
    }
   ],
   "source": [
    "df + df2 # add values of respective coloumn labels"
   ]
  },
  {
   "cell_type": "code",
   "execution_count": 233,
   "id": "43a374b9-09f1-4e39-823c-a80197596449",
   "metadata": {},
   "outputs": [
    {
     "data": {
      "text/html": [
       "<div>\n",
       "<style scoped>\n",
       "    .dataframe tbody tr th:only-of-type {\n",
       "        vertical-align: middle;\n",
       "    }\n",
       "\n",
       "    .dataframe tbody tr th {\n",
       "        vertical-align: top;\n",
       "    }\n",
       "\n",
       "    .dataframe thead th {\n",
       "        text-align: right;\n",
       "    }\n",
       "</style>\n",
       "<table border=\"1\" class=\"dataframe\">\n",
       "  <thead>\n",
       "    <tr style=\"text-align: right;\">\n",
       "      <th></th>\n",
       "      <th>A</th>\n",
       "      <th>B</th>\n",
       "      <th>C</th>\n",
       "      <th>D</th>\n",
       "    </tr>\n",
       "  </thead>\n",
       "  <tbody>\n",
       "    <tr>\n",
       "      <th>0</th>\n",
       "      <td>0.000000</td>\n",
       "      <td>0.000000</td>\n",
       "      <td>0.000000</td>\n",
       "      <td>0.000000</td>\n",
       "    </tr>\n",
       "    <tr>\n",
       "      <th>1</th>\n",
       "      <td>0.607547</td>\n",
       "      <td>1.584931</td>\n",
       "      <td>0.799526</td>\n",
       "      <td>-1.094100</td>\n",
       "    </tr>\n",
       "    <tr>\n",
       "      <th>2</th>\n",
       "      <td>2.452155</td>\n",
       "      <td>3.625173</td>\n",
       "      <td>0.154105</td>\n",
       "      <td>-2.391552</td>\n",
       "    </tr>\n",
       "    <tr>\n",
       "      <th>3</th>\n",
       "      <td>1.702790</td>\n",
       "      <td>1.532527</td>\n",
       "      <td>-1.291162</td>\n",
       "      <td>-0.109866</td>\n",
       "    </tr>\n",
       "    <tr>\n",
       "      <th>4</th>\n",
       "      <td>-1.666527</td>\n",
       "      <td>0.702440</td>\n",
       "      <td>-0.221598</td>\n",
       "      <td>-0.989589</td>\n",
       "    </tr>\n",
       "    <tr>\n",
       "      <th>5</th>\n",
       "      <td>1.207165</td>\n",
       "      <td>0.263769</td>\n",
       "      <td>0.270408</td>\n",
       "      <td>-0.033990</td>\n",
       "    </tr>\n",
       "    <tr>\n",
       "      <th>6</th>\n",
       "      <td>0.463021</td>\n",
       "      <td>0.944345</td>\n",
       "      <td>0.323382</td>\n",
       "      <td>-1.047814</td>\n",
       "    </tr>\n",
       "    <tr>\n",
       "      <th>7</th>\n",
       "      <td>1.775038</td>\n",
       "      <td>-0.896981</td>\n",
       "      <td>-0.824319</td>\n",
       "      <td>-2.310798</td>\n",
       "    </tr>\n",
       "    <tr>\n",
       "      <th>8</th>\n",
       "      <td>0.969899</td>\n",
       "      <td>0.497861</td>\n",
       "      <td>-1.551763</td>\n",
       "      <td>0.437074</td>\n",
       "    </tr>\n",
       "    <tr>\n",
       "      <th>9</th>\n",
       "      <td>2.183755</td>\n",
       "      <td>0.139400</td>\n",
       "      <td>-0.225194</td>\n",
       "      <td>-0.477902</td>\n",
       "    </tr>\n",
       "  </tbody>\n",
       "</table>\n",
       "</div>"
      ],
      "text/plain": [
       "          A         B         C         D\n",
       "0  0.000000  0.000000  0.000000  0.000000\n",
       "1  0.607547  1.584931  0.799526 -1.094100\n",
       "2  2.452155  3.625173  0.154105 -2.391552\n",
       "3  1.702790  1.532527 -1.291162 -0.109866\n",
       "4 -1.666527  0.702440 -0.221598 -0.989589\n",
       "5  1.207165  0.263769  0.270408 -0.033990\n",
       "6  0.463021  0.944345  0.323382 -1.047814\n",
       "7  1.775038 -0.896981 -0.824319 -2.310798\n",
       "8  0.969899  0.497861 -1.551763  0.437074\n",
       "9  2.183755  0.139400 -0.225194 -0.477902"
      ]
     },
     "execution_count": 233,
     "metadata": {},
     "output_type": "execute_result"
    }
   ],
   "source": [
    "In [126]: df - df.iloc[0]"
   ]
  },
  {
   "cell_type": "code",
   "execution_count": 234,
   "id": "c4298abd-0359-4d23-9f00-5f01456cd104",
   "metadata": {},
   "outputs": [
    {
     "data": {
      "text/html": [
       "<div>\n",
       "<style scoped>\n",
       "    .dataframe tbody tr th:only-of-type {\n",
       "        vertical-align: middle;\n",
       "    }\n",
       "\n",
       "    .dataframe tbody tr th {\n",
       "        vertical-align: top;\n",
       "    }\n",
       "\n",
       "    .dataframe thead th {\n",
       "        text-align: right;\n",
       "    }\n",
       "</style>\n",
       "<table border=\"1\" class=\"dataframe\">\n",
       "  <thead>\n",
       "    <tr style=\"text-align: right;\">\n",
       "      <th></th>\n",
       "      <th>A</th>\n",
       "      <th>B</th>\n",
       "      <th>C</th>\n",
       "      <th>D</th>\n",
       "    </tr>\n",
       "  </thead>\n",
       "  <tbody>\n",
       "    <tr>\n",
       "      <th>0</th>\n",
       "      <td>-2.114917</td>\n",
       "      <td>-0.239987</td>\n",
       "      <td>1.684086</td>\n",
       "      <td>7.824462</td>\n",
       "    </tr>\n",
       "    <tr>\n",
       "      <th>1</th>\n",
       "      <td>0.922819</td>\n",
       "      <td>7.684667</td>\n",
       "      <td>5.681715</td>\n",
       "      <td>2.353963</td>\n",
       "    </tr>\n",
       "    <tr>\n",
       "      <th>2</th>\n",
       "      <td>10.145856</td>\n",
       "      <td>17.885877</td>\n",
       "      <td>2.454612</td>\n",
       "      <td>-4.133299</td>\n",
       "    </tr>\n",
       "    <tr>\n",
       "      <th>3</th>\n",
       "      <td>6.399034</td>\n",
       "      <td>7.422648</td>\n",
       "      <td>-4.771726</td>\n",
       "      <td>7.275134</td>\n",
       "    </tr>\n",
       "    <tr>\n",
       "      <th>4</th>\n",
       "      <td>-10.447553</td>\n",
       "      <td>3.272211</td>\n",
       "      <td>0.576098</td>\n",
       "      <td>2.876516</td>\n",
       "    </tr>\n",
       "    <tr>\n",
       "      <th>5</th>\n",
       "      <td>3.920906</td>\n",
       "      <td>1.078860</td>\n",
       "      <td>3.036125</td>\n",
       "      <td>7.654514</td>\n",
       "    </tr>\n",
       "    <tr>\n",
       "      <th>6</th>\n",
       "      <td>0.200190</td>\n",
       "      <td>4.481739</td>\n",
       "      <td>3.300995</td>\n",
       "      <td>2.585391</td>\n",
       "    </tr>\n",
       "    <tr>\n",
       "      <th>7</th>\n",
       "      <td>6.760273</td>\n",
       "      <td>-4.724892</td>\n",
       "      <td>-2.437510</td>\n",
       "      <td>-3.729526</td>\n",
       "    </tr>\n",
       "    <tr>\n",
       "      <th>8</th>\n",
       "      <td>2.734576</td>\n",
       "      <td>2.249318</td>\n",
       "      <td>-6.074727</td>\n",
       "      <td>10.009830</td>\n",
       "    </tr>\n",
       "    <tr>\n",
       "      <th>9</th>\n",
       "      <td>8.803856</td>\n",
       "      <td>0.457013</td>\n",
       "      <td>0.558118</td>\n",
       "      <td>5.434951</td>\n",
       "    </tr>\n",
       "  </tbody>\n",
       "</table>\n",
       "</div>"
      ],
      "text/plain": [
       "           A          B         C          D\n",
       "0  -2.114917  -0.239987  1.684086   7.824462\n",
       "1   0.922819   7.684667  5.681715   2.353963\n",
       "2  10.145856  17.885877  2.454612  -4.133299\n",
       "3   6.399034   7.422648 -4.771726   7.275134\n",
       "4 -10.447553   3.272211  0.576098   2.876516\n",
       "5   3.920906   1.078860  3.036125   7.654514\n",
       "6   0.200190   4.481739  3.300995   2.585391\n",
       "7   6.760273  -4.724892 -2.437510  -3.729526\n",
       "8   2.734576   2.249318 -6.074727  10.009830\n",
       "9   8.803856   0.457013  0.558118   5.434951"
      ]
     },
     "execution_count": 234,
     "metadata": {},
     "output_type": "execute_result"
    }
   ],
   "source": [
    "df * 5 + 2"
   ]
  },
  {
   "cell_type": "code",
   "execution_count": 235,
   "id": "5aa6808f-34fe-4474-9a73-0322fbf64391",
   "metadata": {},
   "outputs": [
    {
     "data": {
      "text/html": [
       "<div>\n",
       "<style scoped>\n",
       "    .dataframe tbody tr th:only-of-type {\n",
       "        vertical-align: middle;\n",
       "    }\n",
       "\n",
       "    .dataframe tbody tr th {\n",
       "        vertical-align: top;\n",
       "    }\n",
       "\n",
       "    .dataframe thead th {\n",
       "        text-align: right;\n",
       "    }\n",
       "</style>\n",
       "<table border=\"1\" class=\"dataframe\">\n",
       "  <thead>\n",
       "    <tr style=\"text-align: right;\">\n",
       "      <th></th>\n",
       "      <th>A</th>\n",
       "      <th>B</th>\n",
       "      <th>C</th>\n",
       "      <th>D</th>\n",
       "    </tr>\n",
       "  </thead>\n",
       "  <tbody>\n",
       "    <tr>\n",
       "      <th>0</th>\n",
       "      <td>-1.215091</td>\n",
       "      <td>-2.232155</td>\n",
       "      <td>-15.827113</td>\n",
       "      <td>0.858448</td>\n",
       "    </tr>\n",
       "    <tr>\n",
       "      <th>1</th>\n",
       "      <td>-4.641747</td>\n",
       "      <td>0.879559</td>\n",
       "      <td>1.358063</td>\n",
       "      <td>14.125784</td>\n",
       "    </tr>\n",
       "    <tr>\n",
       "      <th>2</th>\n",
       "      <td>0.613809</td>\n",
       "      <td>0.314745</td>\n",
       "      <td>10.998395</td>\n",
       "      <td>-0.815222</td>\n",
       "    </tr>\n",
       "    <tr>\n",
       "      <th>3</th>\n",
       "      <td>1.136613</td>\n",
       "      <td>0.922059</td>\n",
       "      <td>-0.738364</td>\n",
       "      <td>0.947843</td>\n",
       "    </tr>\n",
       "    <tr>\n",
       "      <th>4</th>\n",
       "      <td>-0.401685</td>\n",
       "      <td>3.930165</td>\n",
       "      <td>-3.511477</td>\n",
       "      <td>5.704401</td>\n",
       "    </tr>\n",
       "    <tr>\n",
       "      <th>5</th>\n",
       "      <td>2.602938</td>\n",
       "      <td>-5.428057</td>\n",
       "      <td>4.825670</td>\n",
       "      <td>0.884249</td>\n",
       "    </tr>\n",
       "    <tr>\n",
       "      <th>6</th>\n",
       "      <td>-2.778071</td>\n",
       "      <td>2.014716</td>\n",
       "      <td>3.843211</td>\n",
       "      <td>8.541306</td>\n",
       "    </tr>\n",
       "    <tr>\n",
       "      <th>7</th>\n",
       "      <td>1.050360</td>\n",
       "      <td>-0.743506</td>\n",
       "      <td>-1.126758</td>\n",
       "      <td>-0.872673</td>\n",
       "    </tr>\n",
       "    <tr>\n",
       "      <th>8</th>\n",
       "      <td>6.806648</td>\n",
       "      <td>20.054710</td>\n",
       "      <td>-0.619216</td>\n",
       "      <td>0.624233</td>\n",
       "    </tr>\n",
       "    <tr>\n",
       "      <th>9</th>\n",
       "      <td>0.734877</td>\n",
       "      <td>-3.240468</td>\n",
       "      <td>-3.467691</td>\n",
       "      <td>1.455625</td>\n",
       "    </tr>\n",
       "  </tbody>\n",
       "</table>\n",
       "</div>"
      ],
      "text/plain": [
       "          A          B          C          D\n",
       "0 -1.215091  -2.232155 -15.827113   0.858448\n",
       "1 -4.641747   0.879559   1.358063  14.125784\n",
       "2  0.613809   0.314745  10.998395  -0.815222\n",
       "3  1.136613   0.922059  -0.738364   0.947843\n",
       "4 -0.401685   3.930165  -3.511477   5.704401\n",
       "5  2.602938  -5.428057   4.825670   0.884249\n",
       "6 -2.778071   2.014716   3.843211   8.541306\n",
       "7  1.050360  -0.743506  -1.126758  -0.872673\n",
       "8  6.806648  20.054710  -0.619216   0.624233\n",
       "9  0.734877  -3.240468  -3.467691   1.455625"
      ]
     },
     "execution_count": 235,
     "metadata": {},
     "output_type": "execute_result"
    }
   ],
   "source": [
    "1 / df"
   ]
  },
  {
   "cell_type": "code",
   "execution_count": 236,
   "id": "724f2423-f703-4e44-b888-8769d478cf21",
   "metadata": {},
   "outputs": [
    {
     "data": {
      "text/html": [
       "<div>\n",
       "<style scoped>\n",
       "    .dataframe tbody tr th:only-of-type {\n",
       "        vertical-align: middle;\n",
       "    }\n",
       "\n",
       "    .dataframe tbody tr th {\n",
       "        vertical-align: top;\n",
       "    }\n",
       "\n",
       "    .dataframe thead th {\n",
       "        text-align: right;\n",
       "    }\n",
       "</style>\n",
       "<table border=\"1\" class=\"dataframe\">\n",
       "  <thead>\n",
       "    <tr style=\"text-align: right;\">\n",
       "      <th></th>\n",
       "      <th>A</th>\n",
       "      <th>B</th>\n",
       "      <th>C</th>\n",
       "      <th>D</th>\n",
       "    </tr>\n",
       "  </thead>\n",
       "  <tbody>\n",
       "    <tr>\n",
       "      <th>0</th>\n",
       "      <td>0.458738</td>\n",
       "      <td>0.040281</td>\n",
       "      <td>0.000016</td>\n",
       "      <td>1.841380</td>\n",
       "    </tr>\n",
       "    <tr>\n",
       "      <th>1</th>\n",
       "      <td>0.002154</td>\n",
       "      <td>1.670860</td>\n",
       "      <td>0.293982</td>\n",
       "      <td>0.000025</td>\n",
       "    </tr>\n",
       "    <tr>\n",
       "      <th>2</th>\n",
       "      <td>7.044771</td>\n",
       "      <td>101.897787</td>\n",
       "      <td>0.000068</td>\n",
       "      <td>2.264105</td>\n",
       "    </tr>\n",
       "    <tr>\n",
       "      <th>3</th>\n",
       "      <td>0.599169</td>\n",
       "      <td>1.383457</td>\n",
       "      <td>3.364476</td>\n",
       "      <td>1.238951</td>\n",
       "    </tr>\n",
       "    <tr>\n",
       "      <th>4</th>\n",
       "      <td>38.411032</td>\n",
       "      <td>0.004191</td>\n",
       "      <td>0.006577</td>\n",
       "      <td>0.000944</td>\n",
       "    </tr>\n",
       "    <tr>\n",
       "      <th>5</th>\n",
       "      <td>0.021784</td>\n",
       "      <td>0.001152</td>\n",
       "      <td>0.001844</td>\n",
       "      <td>1.635691</td>\n",
       "    </tr>\n",
       "    <tr>\n",
       "      <th>6</th>\n",
       "      <td>0.016789</td>\n",
       "      <td>0.060694</td>\n",
       "      <td>0.004584</td>\n",
       "      <td>0.000188</td>\n",
       "    </tr>\n",
       "    <tr>\n",
       "      <th>7</th>\n",
       "      <td>0.821575</td>\n",
       "      <td>3.272361</td>\n",
       "      <td>0.620408</td>\n",
       "      <td>1.724228</td>\n",
       "    </tr>\n",
       "    <tr>\n",
       "      <th>8</th>\n",
       "      <td>0.000466</td>\n",
       "      <td>0.000006</td>\n",
       "      <td>6.801919</td>\n",
       "      <td>6.585872</td>\n",
       "    </tr>\n",
       "    <tr>\n",
       "      <th>9</th>\n",
       "      <td>3.428786</td>\n",
       "      <td>0.009069</td>\n",
       "      <td>0.006916</td>\n",
       "      <td>0.222742</td>\n",
       "    </tr>\n",
       "  </tbody>\n",
       "</table>\n",
       "</div>"
      ],
      "text/plain": [
       "           A           B         C         D\n",
       "0   0.458738    0.040281  0.000016  1.841380\n",
       "1   0.002154    1.670860  0.293982  0.000025\n",
       "2   7.044771  101.897787  0.000068  2.264105\n",
       "3   0.599169    1.383457  3.364476  1.238951\n",
       "4  38.411032    0.004191  0.006577  0.000944\n",
       "5   0.021784    0.001152  0.001844  1.635691\n",
       "6   0.016789    0.060694  0.004584  0.000188\n",
       "7   0.821575    3.272361  0.620408  1.724228\n",
       "8   0.000466    0.000006  6.801919  6.585872\n",
       "9   3.428786    0.009069  0.006916  0.222742"
      ]
     },
     "execution_count": 236,
     "metadata": {},
     "output_type": "execute_result"
    }
   ],
   "source": [
    "df ** 4"
   ]
  },
  {
   "cell_type": "code",
   "execution_count": 237,
   "id": "9c0e7d11-fc98-4fa1-ac43-433dfa32cfb9",
   "metadata": {},
   "outputs": [],
   "source": [
    "df1 = pd.DataFrame({'a' : [1, 0, 1], 'b' : [0, 1, 1] }, dtype=bool)"
   ]
  },
  {
   "cell_type": "code",
   "execution_count": 238,
   "id": "3b7eef95-f567-4800-8ec5-00efa13e0567",
   "metadata": {},
   "outputs": [],
   "source": [
    "df2 = pd.DataFrame({'a' : [0, 1, 1], 'b' : [1, 1, 0] }, dtype=bool)"
   ]
  },
  {
   "cell_type": "code",
   "execution_count": 239,
   "id": "d0789b36-da02-4b01-b4af-5d93f8d292b4",
   "metadata": {},
   "outputs": [
    {
     "data": {
      "text/html": [
       "<div>\n",
       "<style scoped>\n",
       "    .dataframe tbody tr th:only-of-type {\n",
       "        vertical-align: middle;\n",
       "    }\n",
       "\n",
       "    .dataframe tbody tr th {\n",
       "        vertical-align: top;\n",
       "    }\n",
       "\n",
       "    .dataframe thead th {\n",
       "        text-align: right;\n",
       "    }\n",
       "</style>\n",
       "<table border=\"1\" class=\"dataframe\">\n",
       "  <thead>\n",
       "    <tr style=\"text-align: right;\">\n",
       "      <th></th>\n",
       "      <th>a</th>\n",
       "      <th>b</th>\n",
       "    </tr>\n",
       "  </thead>\n",
       "  <tbody>\n",
       "    <tr>\n",
       "      <th>0</th>\n",
       "      <td>False</td>\n",
       "      <td>True</td>\n",
       "    </tr>\n",
       "    <tr>\n",
       "      <th>1</th>\n",
       "      <td>True</td>\n",
       "      <td>True</td>\n",
       "    </tr>\n",
       "    <tr>\n",
       "      <th>2</th>\n",
       "      <td>True</td>\n",
       "      <td>False</td>\n",
       "    </tr>\n",
       "  </tbody>\n",
       "</table>\n",
       "</div>"
      ],
      "text/plain": [
       "       a      b\n",
       "0  False   True\n",
       "1   True   True\n",
       "2   True  False"
      ]
     },
     "execution_count": 239,
     "metadata": {},
     "output_type": "execute_result"
    }
   ],
   "source": [
    "pd.DataFrame({'a' : [0, 1, 1], 'b' : [1, 1, 0] }, dtype=bool)"
   ]
  },
  {
   "cell_type": "code",
   "execution_count": 240,
   "id": "f9382a8d-ae76-40dd-84c4-c3208b26c5bc",
   "metadata": {},
   "outputs": [
    {
     "data": {
      "text/html": [
       "<div>\n",
       "<style scoped>\n",
       "    .dataframe tbody tr th:only-of-type {\n",
       "        vertical-align: middle;\n",
       "    }\n",
       "\n",
       "    .dataframe tbody tr th {\n",
       "        vertical-align: top;\n",
       "    }\n",
       "\n",
       "    .dataframe thead th {\n",
       "        text-align: right;\n",
       "    }\n",
       "</style>\n",
       "<table border=\"1\" class=\"dataframe\">\n",
       "  <thead>\n",
       "    <tr style=\"text-align: right;\">\n",
       "      <th></th>\n",
       "      <th>a</th>\n",
       "      <th>b</th>\n",
       "    </tr>\n",
       "  </thead>\n",
       "  <tbody>\n",
       "    <tr>\n",
       "      <th>0</th>\n",
       "      <td>False</td>\n",
       "      <td>False</td>\n",
       "    </tr>\n",
       "    <tr>\n",
       "      <th>1</th>\n",
       "      <td>False</td>\n",
       "      <td>True</td>\n",
       "    </tr>\n",
       "    <tr>\n",
       "      <th>2</th>\n",
       "      <td>True</td>\n",
       "      <td>False</td>\n",
       "    </tr>\n",
       "  </tbody>\n",
       "</table>\n",
       "</div>"
      ],
      "text/plain": [
       "       a      b\n",
       "0  False  False\n",
       "1  False   True\n",
       "2   True  False"
      ]
     },
     "execution_count": 240,
     "metadata": {},
     "output_type": "execute_result"
    }
   ],
   "source": [
    "df1 & df2 #and logical operator"
   ]
  },
  {
   "cell_type": "code",
   "execution_count": 241,
   "id": "7c976b52-1854-47c0-8835-969fc512f9b9",
   "metadata": {},
   "outputs": [
    {
     "data": {
      "text/html": [
       "<div>\n",
       "<style scoped>\n",
       "    .dataframe tbody tr th:only-of-type {\n",
       "        vertical-align: middle;\n",
       "    }\n",
       "\n",
       "    .dataframe tbody tr th {\n",
       "        vertical-align: top;\n",
       "    }\n",
       "\n",
       "    .dataframe thead th {\n",
       "        text-align: right;\n",
       "    }\n",
       "</style>\n",
       "<table border=\"1\" class=\"dataframe\">\n",
       "  <thead>\n",
       "    <tr style=\"text-align: right;\">\n",
       "      <th></th>\n",
       "      <th>a</th>\n",
       "      <th>b</th>\n",
       "    </tr>\n",
       "  </thead>\n",
       "  <tbody>\n",
       "    <tr>\n",
       "      <th>0</th>\n",
       "      <td>True</td>\n",
       "      <td>True</td>\n",
       "    </tr>\n",
       "    <tr>\n",
       "      <th>1</th>\n",
       "      <td>True</td>\n",
       "      <td>True</td>\n",
       "    </tr>\n",
       "    <tr>\n",
       "      <th>2</th>\n",
       "      <td>True</td>\n",
       "      <td>True</td>\n",
       "    </tr>\n",
       "  </tbody>\n",
       "</table>\n",
       "</div>"
      ],
      "text/plain": [
       "      a     b\n",
       "0  True  True\n",
       "1  True  True\n",
       "2  True  True"
      ]
     },
     "execution_count": 241,
     "metadata": {},
     "output_type": "execute_result"
    }
   ],
   "source": [
    "df1 | df2 # or operator"
   ]
  },
  {
   "cell_type": "code",
   "execution_count": 242,
   "id": "b43620ae-00f1-42f6-82a2-0715fa97dcdf",
   "metadata": {},
   "outputs": [
    {
     "data": {
      "text/html": [
       "<div>\n",
       "<style scoped>\n",
       "    .dataframe tbody tr th:only-of-type {\n",
       "        vertical-align: middle;\n",
       "    }\n",
       "\n",
       "    .dataframe tbody tr th {\n",
       "        vertical-align: top;\n",
       "    }\n",
       "\n",
       "    .dataframe thead th {\n",
       "        text-align: right;\n",
       "    }\n",
       "</style>\n",
       "<table border=\"1\" class=\"dataframe\">\n",
       "  <thead>\n",
       "    <tr style=\"text-align: right;\">\n",
       "      <th></th>\n",
       "      <th>a</th>\n",
       "      <th>b</th>\n",
       "    </tr>\n",
       "  </thead>\n",
       "  <tbody>\n",
       "    <tr>\n",
       "      <th>0</th>\n",
       "      <td>False</td>\n",
       "      <td>True</td>\n",
       "    </tr>\n",
       "    <tr>\n",
       "      <th>1</th>\n",
       "      <td>True</td>\n",
       "      <td>False</td>\n",
       "    </tr>\n",
       "    <tr>\n",
       "      <th>2</th>\n",
       "      <td>False</td>\n",
       "      <td>False</td>\n",
       "    </tr>\n",
       "  </tbody>\n",
       "</table>\n",
       "</div>"
      ],
      "text/plain": [
       "       a      b\n",
       "0  False   True\n",
       "1   True  False\n",
       "2  False  False"
      ]
     },
     "execution_count": 242,
     "metadata": {},
     "output_type": "execute_result"
    }
   ],
   "source": [
    "-df1"
   ]
  },
  {
   "cell_type": "markdown",
   "id": "56948fb5-9bb6-4fc1-adbd-39d0d1b86e0f",
   "metadata": {},
   "source": [
    "## 11.9\tTransposing\n",
    "  To transpose, access the T attribute (also the transpose function), similar to an ndarray\n"
   ]
  },
  {
   "cell_type": "code",
   "execution_count": 243,
   "id": "0fa96102-2fa9-4fec-b75a-9b1b67d546b6",
   "metadata": {},
   "outputs": [
    {
     "data": {
      "text/html": [
       "<div>\n",
       "<style scoped>\n",
       "    .dataframe tbody tr th:only-of-type {\n",
       "        vertical-align: middle;\n",
       "    }\n",
       "\n",
       "    .dataframe tbody tr th {\n",
       "        vertical-align: top;\n",
       "    }\n",
       "\n",
       "    .dataframe thead th {\n",
       "        text-align: right;\n",
       "    }\n",
       "</style>\n",
       "<table border=\"1\" class=\"dataframe\">\n",
       "  <thead>\n",
       "    <tr style=\"text-align: right;\">\n",
       "      <th></th>\n",
       "      <th>0</th>\n",
       "      <th>1</th>\n",
       "      <th>2</th>\n",
       "      <th>3</th>\n",
       "      <th>4</th>\n",
       "    </tr>\n",
       "  </thead>\n",
       "  <tbody>\n",
       "    <tr>\n",
       "      <th>A</th>\n",
       "      <td>-0.822983</td>\n",
       "      <td>-0.215436</td>\n",
       "      <td>1.629171</td>\n",
       "      <td>0.879807</td>\n",
       "      <td>-2.489511</td>\n",
       "    </tr>\n",
       "    <tr>\n",
       "      <th>B</th>\n",
       "      <td>-0.447997</td>\n",
       "      <td>1.136933</td>\n",
       "      <td>3.177175</td>\n",
       "      <td>1.084530</td>\n",
       "      <td>0.254442</td>\n",
       "    </tr>\n",
       "    <tr>\n",
       "      <th>C</th>\n",
       "      <td>-0.063183</td>\n",
       "      <td>0.736343</td>\n",
       "      <td>0.090922</td>\n",
       "      <td>-1.354345</td>\n",
       "      <td>-0.284780</td>\n",
       "    </tr>\n",
       "    <tr>\n",
       "      <th>D</th>\n",
       "      <td>1.164892</td>\n",
       "      <td>0.070793</td>\n",
       "      <td>-1.226660</td>\n",
       "      <td>1.055027</td>\n",
       "      <td>0.175303</td>\n",
       "    </tr>\n",
       "  </tbody>\n",
       "</table>\n",
       "</div>"
      ],
      "text/plain": [
       "          0         1         2         3         4\n",
       "A -0.822983 -0.215436  1.629171  0.879807 -2.489511\n",
       "B -0.447997  1.136933  3.177175  1.084530  0.254442\n",
       "C -0.063183  0.736343  0.090922 -1.354345 -0.284780\n",
       "D  1.164892  0.070793 -1.226660  1.055027  0.175303"
      ]
     },
     "execution_count": 243,
     "metadata": {},
     "output_type": "execute_result"
    }
   ],
   "source": [
    "# only show the first 5 rows \n",
    "df[:5].T"
   ]
  },
  {
   "cell_type": "code",
   "execution_count": 244,
   "id": "162222b4-6c9d-4cd9-adcf-516ccc0143aa",
   "metadata": {},
   "outputs": [],
   "source": [
    "dates = pd.date_range('20130101', periods=6)"
   ]
  },
  {
   "cell_type": "code",
   "execution_count": 245,
   "id": "f65171e1-69c8-4e4a-b655-d0e58fea884e",
   "metadata": {},
   "outputs": [
    {
     "data": {
      "text/plain": [
       "DatetimeIndex(['2013-01-01', '2013-01-02', '2013-01-03', '2013-01-04',\n",
       "               '2013-01-05', '2013-01-06'],\n",
       "              dtype='datetime64[ns]', freq='D')"
      ]
     },
     "execution_count": 245,
     "metadata": {},
     "output_type": "execute_result"
    }
   ],
   "source": [
    "dates"
   ]
  },
  {
   "cell_type": "code",
   "execution_count": 246,
   "id": "76cb08c1-5077-429e-8cd6-f97c1a136bb0",
   "metadata": {},
   "outputs": [],
   "source": [
    "df = pd.DataFrame(np.random.randn(6,4), index=dates, columns=list('ABCD'))"
   ]
  },
  {
   "cell_type": "code",
   "execution_count": 247,
   "id": "5723b48e-a506-40ef-ac5e-a684213419c3",
   "metadata": {},
   "outputs": [
    {
     "data": {
      "text/html": [
       "<div>\n",
       "<style scoped>\n",
       "    .dataframe tbody tr th:only-of-type {\n",
       "        vertical-align: middle;\n",
       "    }\n",
       "\n",
       "    .dataframe tbody tr th {\n",
       "        vertical-align: top;\n",
       "    }\n",
       "\n",
       "    .dataframe thead th {\n",
       "        text-align: right;\n",
       "    }\n",
       "</style>\n",
       "<table border=\"1\" class=\"dataframe\">\n",
       "  <thead>\n",
       "    <tr style=\"text-align: right;\">\n",
       "      <th></th>\n",
       "      <th>A</th>\n",
       "      <th>B</th>\n",
       "      <th>C</th>\n",
       "      <th>D</th>\n",
       "    </tr>\n",
       "  </thead>\n",
       "  <tbody>\n",
       "    <tr>\n",
       "      <th>2013-01-01</th>\n",
       "      <td>-1.449051</td>\n",
       "      <td>0.878814</td>\n",
       "      <td>0.032972</td>\n",
       "      <td>-0.372187</td>\n",
       "    </tr>\n",
       "    <tr>\n",
       "      <th>2013-01-02</th>\n",
       "      <td>0.608452</td>\n",
       "      <td>-1.683112</td>\n",
       "      <td>-0.749093</td>\n",
       "      <td>1.544493</td>\n",
       "    </tr>\n",
       "    <tr>\n",
       "      <th>2013-01-03</th>\n",
       "      <td>0.139518</td>\n",
       "      <td>-2.121796</td>\n",
       "      <td>-1.172767</td>\n",
       "      <td>-1.459797</td>\n",
       "    </tr>\n",
       "    <tr>\n",
       "      <th>2013-01-04</th>\n",
       "      <td>1.130596</td>\n",
       "      <td>1.224693</td>\n",
       "      <td>0.321386</td>\n",
       "      <td>0.808295</td>\n",
       "    </tr>\n",
       "    <tr>\n",
       "      <th>2013-01-05</th>\n",
       "      <td>-0.561139</td>\n",
       "      <td>-0.424300</td>\n",
       "      <td>-1.498077</td>\n",
       "      <td>0.052844</td>\n",
       "    </tr>\n",
       "    <tr>\n",
       "      <th>2013-01-06</th>\n",
       "      <td>-0.641970</td>\n",
       "      <td>-1.982298</td>\n",
       "      <td>-0.288812</td>\n",
       "      <td>-1.391491</td>\n",
       "    </tr>\n",
       "  </tbody>\n",
       "</table>\n",
       "</div>"
      ],
      "text/plain": [
       "                   A         B         C         D\n",
       "2013-01-01 -1.449051  0.878814  0.032972 -0.372187\n",
       "2013-01-02  0.608452 -1.683112 -0.749093  1.544493\n",
       "2013-01-03  0.139518 -2.121796 -1.172767 -1.459797\n",
       "2013-01-04  1.130596  1.224693  0.321386  0.808295\n",
       "2013-01-05 -0.561139 -0.424300 -1.498077  0.052844\n",
       "2013-01-06 -0.641970 -1.982298 -0.288812 -1.391491"
      ]
     },
     "execution_count": 247,
     "metadata": {},
     "output_type": "execute_result"
    }
   ],
   "source": [
    "df"
   ]
  },
  {
   "cell_type": "code",
   "execution_count": 249,
   "id": "7f8d7857-e347-4f7c-ba2e-b30308e9b3eb",
   "metadata": {},
   "outputs": [],
   "source": [
    "df2 = pd.DataFrame({ 'A' : 1.,\n",
    "    'B' : pd.Timestamp('20130102'),\n",
    "    'C' : pd.Series(1,index=list(range(4)),dtype='float32'), 'D' : np.array([3] * 4,dtype='int32'),\n",
    "    'E' : pd.Categorical([\"test\",\"train\",\"test\",\"train\"]), 'F' : 'foo' })\n"
   ]
  },
  {
   "cell_type": "code",
   "execution_count": 250,
   "id": "f279654f-70ea-4806-ae73-041d8725c294",
   "metadata": {},
   "outputs": [
    {
     "data": {
      "text/html": [
       "<div>\n",
       "<style scoped>\n",
       "    .dataframe tbody tr th:only-of-type {\n",
       "        vertical-align: middle;\n",
       "    }\n",
       "\n",
       "    .dataframe tbody tr th {\n",
       "        vertical-align: top;\n",
       "    }\n",
       "\n",
       "    .dataframe thead th {\n",
       "        text-align: right;\n",
       "    }\n",
       "</style>\n",
       "<table border=\"1\" class=\"dataframe\">\n",
       "  <thead>\n",
       "    <tr style=\"text-align: right;\">\n",
       "      <th></th>\n",
       "      <th>A</th>\n",
       "      <th>B</th>\n",
       "      <th>C</th>\n",
       "      <th>D</th>\n",
       "      <th>E</th>\n",
       "      <th>F</th>\n",
       "    </tr>\n",
       "  </thead>\n",
       "  <tbody>\n",
       "    <tr>\n",
       "      <th>0</th>\n",
       "      <td>1.0</td>\n",
       "      <td>2013-01-02</td>\n",
       "      <td>1.0</td>\n",
       "      <td>3</td>\n",
       "      <td>test</td>\n",
       "      <td>foo</td>\n",
       "    </tr>\n",
       "    <tr>\n",
       "      <th>1</th>\n",
       "      <td>1.0</td>\n",
       "      <td>2013-01-02</td>\n",
       "      <td>1.0</td>\n",
       "      <td>3</td>\n",
       "      <td>train</td>\n",
       "      <td>foo</td>\n",
       "    </tr>\n",
       "    <tr>\n",
       "      <th>2</th>\n",
       "      <td>1.0</td>\n",
       "      <td>2013-01-02</td>\n",
       "      <td>1.0</td>\n",
       "      <td>3</td>\n",
       "      <td>test</td>\n",
       "      <td>foo</td>\n",
       "    </tr>\n",
       "    <tr>\n",
       "      <th>3</th>\n",
       "      <td>1.0</td>\n",
       "      <td>2013-01-02</td>\n",
       "      <td>1.0</td>\n",
       "      <td>3</td>\n",
       "      <td>train</td>\n",
       "      <td>foo</td>\n",
       "    </tr>\n",
       "  </tbody>\n",
       "</table>\n",
       "</div>"
      ],
      "text/plain": [
       "     A          B    C  D      E    F\n",
       "0  1.0 2013-01-02  1.0  3   test  foo\n",
       "1  1.0 2013-01-02  1.0  3  train  foo\n",
       "2  1.0 2013-01-02  1.0  3   test  foo\n",
       "3  1.0 2013-01-02  1.0  3  train  foo"
      ]
     },
     "execution_count": 250,
     "metadata": {},
     "output_type": "execute_result"
    }
   ],
   "source": [
    "df2"
   ]
  },
  {
   "cell_type": "code",
   "execution_count": 252,
   "id": "fdd8c06f-e36b-4b4d-8ba6-7906d52597a3",
   "metadata": {},
   "outputs": [
    {
     "data": {
      "text/plain": [
       "A          float64\n",
       "B    datetime64[s]\n",
       "C          float32\n",
       "D            int32\n",
       "E         category\n",
       "F           object\n",
       "dtype: object"
      ]
     },
     "execution_count": 252,
     "metadata": {},
     "output_type": "execute_result"
    }
   ],
   "source": [
    "#Having specific dtypes \n",
    "df2.dtypes"
   ]
  },
  {
   "cell_type": "markdown",
   "id": "06c0c2aa-8805-4c68-8a37-1597ba45c399",
   "metadata": {},
   "source": [
    "# 12. Viewing Data\n",
    "We can view data / display data in different ways:\n",
    "1. See the top & bottom rows of the frame\n",
    "2. Selecting a single column\n",
    "3. Selecting via [], which slices the rows\n",
    "4. For getting a cross section using a label\n",
    "5. Selecting on a multi-axis by labe\n",
    "6. Showing label slicing, both endpoints are included\n",
    "7. Reduction in the dimensions of the returned object\n",
    "8.  For getting a scalar value\n",
    "9.  For getting fast access to a scalar\n",
    "10.  Select via the position of the passed integers\n",
    "11.  By integer slices, acting similar to numpy/python\n",
    "12.  By lists of integer position locations, similar to the numpy/python style\n",
    "13.   For slicing rows explicitly\n",
    "14.   For slicing columns explicitly\n",
    "15.    For getting a value explicitly\n",
    "16. For getting fast access to a scalar\n",
    "17. Using a single column’s values to select data.\n",
    "18. Selecting values from a DataFrame where a boolean condition is met.\n",
    "19. Using the isin() method for filtering\n"
   ]
  },
  {
   "cell_type": "code",
   "execution_count": 253,
   "id": "b64fb220-f8cf-42cd-8033-40ab03865c67",
   "metadata": {},
   "outputs": [
    {
     "data": {
      "text/html": [
       "<div>\n",
       "<style scoped>\n",
       "    .dataframe tbody tr th:only-of-type {\n",
       "        vertical-align: middle;\n",
       "    }\n",
       "\n",
       "    .dataframe tbody tr th {\n",
       "        vertical-align: top;\n",
       "    }\n",
       "\n",
       "    .dataframe thead th {\n",
       "        text-align: right;\n",
       "    }\n",
       "</style>\n",
       "<table border=\"1\" class=\"dataframe\">\n",
       "  <thead>\n",
       "    <tr style=\"text-align: right;\">\n",
       "      <th></th>\n",
       "      <th>A</th>\n",
       "      <th>B</th>\n",
       "      <th>C</th>\n",
       "      <th>D</th>\n",
       "    </tr>\n",
       "  </thead>\n",
       "  <tbody>\n",
       "    <tr>\n",
       "      <th>2013-01-01</th>\n",
       "      <td>-1.449051</td>\n",
       "      <td>0.878814</td>\n",
       "      <td>0.032972</td>\n",
       "      <td>-0.372187</td>\n",
       "    </tr>\n",
       "    <tr>\n",
       "      <th>2013-01-02</th>\n",
       "      <td>0.608452</td>\n",
       "      <td>-1.683112</td>\n",
       "      <td>-0.749093</td>\n",
       "      <td>1.544493</td>\n",
       "    </tr>\n",
       "    <tr>\n",
       "      <th>2013-01-03</th>\n",
       "      <td>0.139518</td>\n",
       "      <td>-2.121796</td>\n",
       "      <td>-1.172767</td>\n",
       "      <td>-1.459797</td>\n",
       "    </tr>\n",
       "    <tr>\n",
       "      <th>2013-01-04</th>\n",
       "      <td>1.130596</td>\n",
       "      <td>1.224693</td>\n",
       "      <td>0.321386</td>\n",
       "      <td>0.808295</td>\n",
       "    </tr>\n",
       "    <tr>\n",
       "      <th>2013-01-05</th>\n",
       "      <td>-0.561139</td>\n",
       "      <td>-0.424300</td>\n",
       "      <td>-1.498077</td>\n",
       "      <td>0.052844</td>\n",
       "    </tr>\n",
       "  </tbody>\n",
       "</table>\n",
       "</div>"
      ],
      "text/plain": [
       "                   A         B         C         D\n",
       "2013-01-01 -1.449051  0.878814  0.032972 -0.372187\n",
       "2013-01-02  0.608452 -1.683112 -0.749093  1.544493\n",
       "2013-01-03  0.139518 -2.121796 -1.172767 -1.459797\n",
       "2013-01-04  1.130596  1.224693  0.321386  0.808295\n",
       "2013-01-05 -0.561139 -0.424300 -1.498077  0.052844"
      ]
     },
     "execution_count": 253,
     "metadata": {},
     "output_type": "execute_result"
    }
   ],
   "source": [
    "df.head() #display first 5 records"
   ]
  },
  {
   "cell_type": "code",
   "execution_count": 254,
   "id": "2e7ddbda-b2d8-45e6-9243-cf160732b9d3",
   "metadata": {},
   "outputs": [
    {
     "data": {
      "text/html": [
       "<div>\n",
       "<style scoped>\n",
       "    .dataframe tbody tr th:only-of-type {\n",
       "        vertical-align: middle;\n",
       "    }\n",
       "\n",
       "    .dataframe tbody tr th {\n",
       "        vertical-align: top;\n",
       "    }\n",
       "\n",
       "    .dataframe thead th {\n",
       "        text-align: right;\n",
       "    }\n",
       "</style>\n",
       "<table border=\"1\" class=\"dataframe\">\n",
       "  <thead>\n",
       "    <tr style=\"text-align: right;\">\n",
       "      <th></th>\n",
       "      <th>A</th>\n",
       "      <th>B</th>\n",
       "      <th>C</th>\n",
       "      <th>D</th>\n",
       "    </tr>\n",
       "  </thead>\n",
       "  <tbody>\n",
       "    <tr>\n",
       "      <th>2013-01-04</th>\n",
       "      <td>1.130596</td>\n",
       "      <td>1.224693</td>\n",
       "      <td>0.321386</td>\n",
       "      <td>0.808295</td>\n",
       "    </tr>\n",
       "    <tr>\n",
       "      <th>2013-01-05</th>\n",
       "      <td>-0.561139</td>\n",
       "      <td>-0.424300</td>\n",
       "      <td>-1.498077</td>\n",
       "      <td>0.052844</td>\n",
       "    </tr>\n",
       "    <tr>\n",
       "      <th>2013-01-06</th>\n",
       "      <td>-0.641970</td>\n",
       "      <td>-1.982298</td>\n",
       "      <td>-0.288812</td>\n",
       "      <td>-1.391491</td>\n",
       "    </tr>\n",
       "  </tbody>\n",
       "</table>\n",
       "</div>"
      ],
      "text/plain": [
       "                   A         B         C         D\n",
       "2013-01-04  1.130596  1.224693  0.321386  0.808295\n",
       "2013-01-05 -0.561139 -0.424300 -1.498077  0.052844\n",
       "2013-01-06 -0.641970 -1.982298 -0.288812 -1.391491"
      ]
     },
     "execution_count": 254,
     "metadata": {},
     "output_type": "execute_result"
    }
   ],
   "source": [
    "df.tail(3) #display last 3 records"
   ]
  },
  {
   "cell_type": "code",
   "execution_count": 255,
   "id": "c90afef3-a6e8-44d1-9070-740b779bd127",
   "metadata": {},
   "outputs": [
    {
     "data": {
      "text/plain": [
       "DatetimeIndex(['2013-01-01', '2013-01-02', '2013-01-03', '2013-01-04',\n",
       "               '2013-01-05', '2013-01-06'],\n",
       "              dtype='datetime64[ns]', freq='D')"
      ]
     },
     "execution_count": 255,
     "metadata": {},
     "output_type": "execute_result"
    }
   ],
   "source": [
    "df.index #display indexes"
   ]
  },
  {
   "cell_type": "code",
   "execution_count": 256,
   "id": "bdfa6780-9ce6-44f8-8ff3-84dc94280365",
   "metadata": {},
   "outputs": [
    {
     "data": {
      "text/plain": [
       "Index(['A', 'B', 'C', 'D'], dtype='object')"
      ]
     },
     "execution_count": 256,
     "metadata": {},
     "output_type": "execute_result"
    }
   ],
   "source": [
    "df.columns #display coloumns"
   ]
  },
  {
   "cell_type": "code",
   "execution_count": 257,
   "id": "63bb6155-b6bc-4cdb-ab85-1916b07cc3ef",
   "metadata": {},
   "outputs": [
    {
     "data": {
      "text/plain": [
       "array([[-1.4490508 ,  0.87881359,  0.03297216, -0.37218727],\n",
       "       [ 0.60845223, -1.68311187, -0.74909274,  1.54449313],\n",
       "       [ 0.13951822, -2.12179589, -1.1727673 , -1.45979663],\n",
       "       [ 1.13059557,  1.22469329,  0.32138586,  0.80829521],\n",
       "       [-0.56113884, -0.42430038, -1.49807746,  0.05284413],\n",
       "       [-0.64197022, -1.98229776, -0.28881249, -1.39149108]])"
      ]
     },
     "execution_count": 257,
     "metadata": {},
     "output_type": "execute_result"
    }
   ],
   "source": [
    "df.values # print values"
   ]
  },
  {
   "cell_type": "code",
   "execution_count": 259,
   "id": "67d2ace7-158a-4fff-8176-4987cfc8820a",
   "metadata": {},
   "outputs": [
    {
     "data": {
      "text/html": [
       "<div>\n",
       "<style scoped>\n",
       "    .dataframe tbody tr th:only-of-type {\n",
       "        vertical-align: middle;\n",
       "    }\n",
       "\n",
       "    .dataframe tbody tr th {\n",
       "        vertical-align: top;\n",
       "    }\n",
       "\n",
       "    .dataframe thead th {\n",
       "        text-align: right;\n",
       "    }\n",
       "</style>\n",
       "<table border=\"1\" class=\"dataframe\">\n",
       "  <thead>\n",
       "    <tr style=\"text-align: right;\">\n",
       "      <th></th>\n",
       "      <th>2013-01-01</th>\n",
       "      <th>2013-01-02</th>\n",
       "      <th>2013-01-03</th>\n",
       "      <th>2013-01-04</th>\n",
       "      <th>2013-01-05</th>\n",
       "      <th>2013-01-06</th>\n",
       "    </tr>\n",
       "  </thead>\n",
       "  <tbody>\n",
       "    <tr>\n",
       "      <th>A</th>\n",
       "      <td>-1.449051</td>\n",
       "      <td>0.608452</td>\n",
       "      <td>0.139518</td>\n",
       "      <td>1.130596</td>\n",
       "      <td>-0.561139</td>\n",
       "      <td>-0.641970</td>\n",
       "    </tr>\n",
       "    <tr>\n",
       "      <th>B</th>\n",
       "      <td>0.878814</td>\n",
       "      <td>-1.683112</td>\n",
       "      <td>-2.121796</td>\n",
       "      <td>1.224693</td>\n",
       "      <td>-0.424300</td>\n",
       "      <td>-1.982298</td>\n",
       "    </tr>\n",
       "    <tr>\n",
       "      <th>C</th>\n",
       "      <td>0.032972</td>\n",
       "      <td>-0.749093</td>\n",
       "      <td>-1.172767</td>\n",
       "      <td>0.321386</td>\n",
       "      <td>-1.498077</td>\n",
       "      <td>-0.288812</td>\n",
       "    </tr>\n",
       "    <tr>\n",
       "      <th>D</th>\n",
       "      <td>-0.372187</td>\n",
       "      <td>1.544493</td>\n",
       "      <td>-1.459797</td>\n",
       "      <td>0.808295</td>\n",
       "      <td>0.052844</td>\n",
       "      <td>-1.391491</td>\n",
       "    </tr>\n",
       "  </tbody>\n",
       "</table>\n",
       "</div>"
      ],
      "text/plain": [
       "   2013-01-01  2013-01-02  2013-01-03  2013-01-04  2013-01-05  2013-01-06\n",
       "A   -1.449051    0.608452    0.139518    1.130596   -0.561139   -0.641970\n",
       "B    0.878814   -1.683112   -2.121796    1.224693   -0.424300   -1.982298\n",
       "C    0.032972   -0.749093   -1.172767    0.321386   -1.498077   -0.288812\n",
       "D   -0.372187    1.544493   -1.459797    0.808295    0.052844   -1.391491"
      ]
     },
     "execution_count": 259,
     "metadata": {},
     "output_type": "execute_result"
    }
   ],
   "source": [
    "# Transposing your data\n",
    "df.T"
   ]
  },
  {
   "cell_type": "code",
   "execution_count": 261,
   "id": "c7a3b4da-b5ec-4555-ace0-0d2459b980c0",
   "metadata": {},
   "outputs": [
    {
     "data": {
      "text/html": [
       "<div>\n",
       "<style scoped>\n",
       "    .dataframe tbody tr th:only-of-type {\n",
       "        vertical-align: middle;\n",
       "    }\n",
       "\n",
       "    .dataframe tbody tr th {\n",
       "        vertical-align: top;\n",
       "    }\n",
       "\n",
       "    .dataframe thead th {\n",
       "        text-align: right;\n",
       "    }\n",
       "</style>\n",
       "<table border=\"1\" class=\"dataframe\">\n",
       "  <thead>\n",
       "    <tr style=\"text-align: right;\">\n",
       "      <th></th>\n",
       "      <th>D</th>\n",
       "      <th>C</th>\n",
       "      <th>B</th>\n",
       "      <th>A</th>\n",
       "    </tr>\n",
       "  </thead>\n",
       "  <tbody>\n",
       "    <tr>\n",
       "      <th>2013-01-01</th>\n",
       "      <td>-0.372187</td>\n",
       "      <td>0.032972</td>\n",
       "      <td>0.878814</td>\n",
       "      <td>-1.449051</td>\n",
       "    </tr>\n",
       "    <tr>\n",
       "      <th>2013-01-02</th>\n",
       "      <td>1.544493</td>\n",
       "      <td>-0.749093</td>\n",
       "      <td>-1.683112</td>\n",
       "      <td>0.608452</td>\n",
       "    </tr>\n",
       "    <tr>\n",
       "      <th>2013-01-03</th>\n",
       "      <td>-1.459797</td>\n",
       "      <td>-1.172767</td>\n",
       "      <td>-2.121796</td>\n",
       "      <td>0.139518</td>\n",
       "    </tr>\n",
       "    <tr>\n",
       "      <th>2013-01-04</th>\n",
       "      <td>0.808295</td>\n",
       "      <td>0.321386</td>\n",
       "      <td>1.224693</td>\n",
       "      <td>1.130596</td>\n",
       "    </tr>\n",
       "    <tr>\n",
       "      <th>2013-01-05</th>\n",
       "      <td>0.052844</td>\n",
       "      <td>-1.498077</td>\n",
       "      <td>-0.424300</td>\n",
       "      <td>-0.561139</td>\n",
       "    </tr>\n",
       "    <tr>\n",
       "      <th>2013-01-06</th>\n",
       "      <td>-1.391491</td>\n",
       "      <td>-0.288812</td>\n",
       "      <td>-1.982298</td>\n",
       "      <td>-0.641970</td>\n",
       "    </tr>\n",
       "  </tbody>\n",
       "</table>\n",
       "</div>"
      ],
      "text/plain": [
       "                   D         C         B         A\n",
       "2013-01-01 -0.372187  0.032972  0.878814 -1.449051\n",
       "2013-01-02  1.544493 -0.749093 -1.683112  0.608452\n",
       "2013-01-03 -1.459797 -1.172767 -2.121796  0.139518\n",
       "2013-01-04  0.808295  0.321386  1.224693  1.130596\n",
       "2013-01-05  0.052844 -1.498077 -0.424300 -0.561139\n",
       "2013-01-06 -1.391491 -0.288812 -1.982298 -0.641970"
      ]
     },
     "execution_count": 261,
     "metadata": {},
     "output_type": "execute_result"
    }
   ],
   "source": [
    "#Sorting by an axis\n",
    "df.sort_index(axis=1, ascending=False)"
   ]
  },
  {
   "cell_type": "code",
   "execution_count": 263,
   "id": "f7b0609d-933f-4ab6-92f3-7e446fd31477",
   "metadata": {},
   "outputs": [
    {
     "data": {
      "text/html": [
       "<div>\n",
       "<style scoped>\n",
       "    .dataframe tbody tr th:only-of-type {\n",
       "        vertical-align: middle;\n",
       "    }\n",
       "\n",
       "    .dataframe tbody tr th {\n",
       "        vertical-align: top;\n",
       "    }\n",
       "\n",
       "    .dataframe thead th {\n",
       "        text-align: right;\n",
       "    }\n",
       "</style>\n",
       "<table border=\"1\" class=\"dataframe\">\n",
       "  <thead>\n",
       "    <tr style=\"text-align: right;\">\n",
       "      <th></th>\n",
       "      <th>A</th>\n",
       "      <th>B</th>\n",
       "      <th>C</th>\n",
       "      <th>D</th>\n",
       "    </tr>\n",
       "  </thead>\n",
       "  <tbody>\n",
       "    <tr>\n",
       "      <th>2013-01-03</th>\n",
       "      <td>0.139518</td>\n",
       "      <td>-2.121796</td>\n",
       "      <td>-1.172767</td>\n",
       "      <td>-1.459797</td>\n",
       "    </tr>\n",
       "    <tr>\n",
       "      <th>2013-01-06</th>\n",
       "      <td>-0.641970</td>\n",
       "      <td>-1.982298</td>\n",
       "      <td>-0.288812</td>\n",
       "      <td>-1.391491</td>\n",
       "    </tr>\n",
       "    <tr>\n",
       "      <th>2013-01-02</th>\n",
       "      <td>0.608452</td>\n",
       "      <td>-1.683112</td>\n",
       "      <td>-0.749093</td>\n",
       "      <td>1.544493</td>\n",
       "    </tr>\n",
       "    <tr>\n",
       "      <th>2013-01-05</th>\n",
       "      <td>-0.561139</td>\n",
       "      <td>-0.424300</td>\n",
       "      <td>-1.498077</td>\n",
       "      <td>0.052844</td>\n",
       "    </tr>\n",
       "    <tr>\n",
       "      <th>2013-01-01</th>\n",
       "      <td>-1.449051</td>\n",
       "      <td>0.878814</td>\n",
       "      <td>0.032972</td>\n",
       "      <td>-0.372187</td>\n",
       "    </tr>\n",
       "    <tr>\n",
       "      <th>2013-01-04</th>\n",
       "      <td>1.130596</td>\n",
       "      <td>1.224693</td>\n",
       "      <td>0.321386</td>\n",
       "      <td>0.808295</td>\n",
       "    </tr>\n",
       "  </tbody>\n",
       "</table>\n",
       "</div>"
      ],
      "text/plain": [
       "                   A         B         C         D\n",
       "2013-01-03  0.139518 -2.121796 -1.172767 -1.459797\n",
       "2013-01-06 -0.641970 -1.982298 -0.288812 -1.391491\n",
       "2013-01-02  0.608452 -1.683112 -0.749093  1.544493\n",
       "2013-01-05 -0.561139 -0.424300 -1.498077  0.052844\n",
       "2013-01-01 -1.449051  0.878814  0.032972 -0.372187\n",
       "2013-01-04  1.130596  1.224693  0.321386  0.808295"
      ]
     },
     "execution_count": 263,
     "metadata": {},
     "output_type": "execute_result"
    }
   ],
   "source": [
    "#Sorting by values \n",
    "df.sort_values(by='B')"
   ]
  },
  {
   "cell_type": "code",
   "execution_count": 266,
   "id": "16e27e52-7399-4b26-98f8-490bf140964c",
   "metadata": {},
   "outputs": [
    {
     "data": {
      "text/html": [
       "<div>\n",
       "<style scoped>\n",
       "    .dataframe tbody tr th:only-of-type {\n",
       "        vertical-align: middle;\n",
       "    }\n",
       "\n",
       "    .dataframe tbody tr th {\n",
       "        vertical-align: top;\n",
       "    }\n",
       "\n",
       "    .dataframe thead th {\n",
       "        text-align: right;\n",
       "    }\n",
       "</style>\n",
       "<table border=\"1\" class=\"dataframe\">\n",
       "  <thead>\n",
       "    <tr style=\"text-align: right;\">\n",
       "      <th></th>\n",
       "      <th>A</th>\n",
       "      <th>B</th>\n",
       "      <th>C</th>\n",
       "      <th>D</th>\n",
       "    </tr>\n",
       "  </thead>\n",
       "  <tbody>\n",
       "    <tr>\n",
       "      <th>count</th>\n",
       "      <td>6.000000</td>\n",
       "      <td>6.000000</td>\n",
       "      <td>6.000000</td>\n",
       "      <td>6.000000</td>\n",
       "    </tr>\n",
       "    <tr>\n",
       "      <th>mean</th>\n",
       "      <td>-0.128932</td>\n",
       "      <td>-0.684667</td>\n",
       "      <td>-0.559065</td>\n",
       "      <td>-0.136307</td>\n",
       "    </tr>\n",
       "    <tr>\n",
       "      <th>std</th>\n",
       "      <td>0.937543</td>\n",
       "      <td>1.476753</td>\n",
       "      <td>0.706148</td>\n",
       "      <td>1.194646</td>\n",
       "    </tr>\n",
       "    <tr>\n",
       "      <th>min</th>\n",
       "      <td>-1.449051</td>\n",
       "      <td>-2.121796</td>\n",
       "      <td>-1.498077</td>\n",
       "      <td>-1.459797</td>\n",
       "    </tr>\n",
       "    <tr>\n",
       "      <th>25%</th>\n",
       "      <td>-0.621762</td>\n",
       "      <td>-1.907501</td>\n",
       "      <td>-1.066849</td>\n",
       "      <td>-1.136665</td>\n",
       "    </tr>\n",
       "    <tr>\n",
       "      <th>50%</th>\n",
       "      <td>-0.210810</td>\n",
       "      <td>-1.053706</td>\n",
       "      <td>-0.518953</td>\n",
       "      <td>-0.159672</td>\n",
       "    </tr>\n",
       "    <tr>\n",
       "      <th>75%</th>\n",
       "      <td>0.491219</td>\n",
       "      <td>0.553035</td>\n",
       "      <td>-0.047474</td>\n",
       "      <td>0.619432</td>\n",
       "    </tr>\n",
       "    <tr>\n",
       "      <th>max</th>\n",
       "      <td>1.130596</td>\n",
       "      <td>1.224693</td>\n",
       "      <td>0.321386</td>\n",
       "      <td>1.544493</td>\n",
       "    </tr>\n",
       "  </tbody>\n",
       "</table>\n",
       "</div>"
      ],
      "text/plain": [
       "              A         B         C         D\n",
       "count  6.000000  6.000000  6.000000  6.000000\n",
       "mean  -0.128932 -0.684667 -0.559065 -0.136307\n",
       "std    0.937543  1.476753  0.706148  1.194646\n",
       "min   -1.449051 -2.121796 -1.498077 -1.459797\n",
       "25%   -0.621762 -1.907501 -1.066849 -1.136665\n",
       "50%   -0.210810 -1.053706 -0.518953 -0.159672\n",
       "75%    0.491219  0.553035 -0.047474  0.619432\n",
       "max    1.130596  1.224693  0.321386  1.544493"
      ]
     },
     "execution_count": 266,
     "metadata": {},
     "output_type": "execute_result"
    }
   ],
   "source": [
    "# Describe shows a quick statistic summary of your data \n",
    "df.describe()"
   ]
  },
  {
   "cell_type": "code",
   "execution_count": 268,
   "id": "abb11c5a-5093-4b8c-96af-47d830787ecc",
   "metadata": {},
   "outputs": [
    {
     "data": {
      "text/plain": [
       "2013-01-01   -1.449051\n",
       "2013-01-02    0.608452\n",
       "2013-01-03    0.139518\n",
       "2013-01-04    1.130596\n",
       "2013-01-05   -0.561139\n",
       "2013-01-06   -0.641970\n",
       "Freq: D, Name: A, dtype: float64"
      ]
     },
     "execution_count": 268,
     "metadata": {},
     "output_type": "execute_result"
    }
   ],
   "source": [
    "#Selecting a single column, which yields a Series, equivalent todf.A \n",
    "df['A']"
   ]
  },
  {
   "cell_type": "code",
   "execution_count": 271,
   "id": "e4c0808c-2b55-4c2c-ab12-bec11f66e847",
   "metadata": {},
   "outputs": [
    {
     "data": {
      "text/html": [
       "<div>\n",
       "<style scoped>\n",
       "    .dataframe tbody tr th:only-of-type {\n",
       "        vertical-align: middle;\n",
       "    }\n",
       "\n",
       "    .dataframe tbody tr th {\n",
       "        vertical-align: top;\n",
       "    }\n",
       "\n",
       "    .dataframe thead th {\n",
       "        text-align: right;\n",
       "    }\n",
       "</style>\n",
       "<table border=\"1\" class=\"dataframe\">\n",
       "  <thead>\n",
       "    <tr style=\"text-align: right;\">\n",
       "      <th></th>\n",
       "      <th>A</th>\n",
       "      <th>B</th>\n",
       "      <th>C</th>\n",
       "      <th>D</th>\n",
       "    </tr>\n",
       "  </thead>\n",
       "  <tbody>\n",
       "    <tr>\n",
       "      <th>2013-01-01</th>\n",
       "      <td>-1.449051</td>\n",
       "      <td>0.878814</td>\n",
       "      <td>0.032972</td>\n",
       "      <td>-0.372187</td>\n",
       "    </tr>\n",
       "    <tr>\n",
       "      <th>2013-01-02</th>\n",
       "      <td>0.608452</td>\n",
       "      <td>-1.683112</td>\n",
       "      <td>-0.749093</td>\n",
       "      <td>1.544493</td>\n",
       "    </tr>\n",
       "    <tr>\n",
       "      <th>2013-01-03</th>\n",
       "      <td>0.139518</td>\n",
       "      <td>-2.121796</td>\n",
       "      <td>-1.172767</td>\n",
       "      <td>-1.459797</td>\n",
       "    </tr>\n",
       "  </tbody>\n",
       "</table>\n",
       "</div>"
      ],
      "text/plain": [
       "                   A         B         C         D\n",
       "2013-01-01 -1.449051  0.878814  0.032972 -0.372187\n",
       "2013-01-02  0.608452 -1.683112 -0.749093  1.544493\n",
       "2013-01-03  0.139518 -2.121796 -1.172767 -1.459797"
      ]
     },
     "execution_count": 271,
     "metadata": {},
     "output_type": "execute_result"
    }
   ],
   "source": [
    "#Selecting via [], which slices the rows\n",
    "df[0:3]"
   ]
  },
  {
   "cell_type": "code",
   "execution_count": 272,
   "id": "02816148-d688-4125-b578-ead921934082",
   "metadata": {},
   "outputs": [
    {
     "data": {
      "text/html": [
       "<div>\n",
       "<style scoped>\n",
       "    .dataframe tbody tr th:only-of-type {\n",
       "        vertical-align: middle;\n",
       "    }\n",
       "\n",
       "    .dataframe tbody tr th {\n",
       "        vertical-align: top;\n",
       "    }\n",
       "\n",
       "    .dataframe thead th {\n",
       "        text-align: right;\n",
       "    }\n",
       "</style>\n",
       "<table border=\"1\" class=\"dataframe\">\n",
       "  <thead>\n",
       "    <tr style=\"text-align: right;\">\n",
       "      <th></th>\n",
       "      <th>A</th>\n",
       "      <th>B</th>\n",
       "      <th>C</th>\n",
       "      <th>D</th>\n",
       "    </tr>\n",
       "  </thead>\n",
       "  <tbody>\n",
       "    <tr>\n",
       "      <th>2013-01-02</th>\n",
       "      <td>0.608452</td>\n",
       "      <td>-1.683112</td>\n",
       "      <td>-0.749093</td>\n",
       "      <td>1.544493</td>\n",
       "    </tr>\n",
       "    <tr>\n",
       "      <th>2013-01-03</th>\n",
       "      <td>0.139518</td>\n",
       "      <td>-2.121796</td>\n",
       "      <td>-1.172767</td>\n",
       "      <td>-1.459797</td>\n",
       "    </tr>\n",
       "    <tr>\n",
       "      <th>2013-01-04</th>\n",
       "      <td>1.130596</td>\n",
       "      <td>1.224693</td>\n",
       "      <td>0.321386</td>\n",
       "      <td>0.808295</td>\n",
       "    </tr>\n",
       "  </tbody>\n",
       "</table>\n",
       "</div>"
      ],
      "text/plain": [
       "                   A         B         C         D\n",
       "2013-01-02  0.608452 -1.683112 -0.749093  1.544493\n",
       "2013-01-03  0.139518 -2.121796 -1.172767 -1.459797\n",
       "2013-01-04  1.130596  1.224693  0.321386  0.808295"
      ]
     },
     "execution_count": 272,
     "metadata": {},
     "output_type": "execute_result"
    }
   ],
   "source": [
    "df['20130102':'20130104']"
   ]
  },
  {
   "cell_type": "code",
   "execution_count": 273,
   "id": "f2b15a1f-acd3-4786-b5a2-4d0af27780dc",
   "metadata": {},
   "outputs": [
    {
     "data": {
      "text/html": [
       "<div>\n",
       "<style scoped>\n",
       "    .dataframe tbody tr th:only-of-type {\n",
       "        vertical-align: middle;\n",
       "    }\n",
       "\n",
       "    .dataframe tbody tr th {\n",
       "        vertical-align: top;\n",
       "    }\n",
       "\n",
       "    .dataframe thead th {\n",
       "        text-align: right;\n",
       "    }\n",
       "</style>\n",
       "<table border=\"1\" class=\"dataframe\">\n",
       "  <thead>\n",
       "    <tr style=\"text-align: right;\">\n",
       "      <th></th>\n",
       "      <th>A</th>\n",
       "      <th>B</th>\n",
       "    </tr>\n",
       "  </thead>\n",
       "  <tbody>\n",
       "    <tr>\n",
       "      <th>2013-01-01</th>\n",
       "      <td>-1.449051</td>\n",
       "      <td>0.878814</td>\n",
       "    </tr>\n",
       "    <tr>\n",
       "      <th>2013-01-02</th>\n",
       "      <td>0.608452</td>\n",
       "      <td>-1.683112</td>\n",
       "    </tr>\n",
       "    <tr>\n",
       "      <th>2013-01-03</th>\n",
       "      <td>0.139518</td>\n",
       "      <td>-2.121796</td>\n",
       "    </tr>\n",
       "    <tr>\n",
       "      <th>2013-01-04</th>\n",
       "      <td>1.130596</td>\n",
       "      <td>1.224693</td>\n",
       "    </tr>\n",
       "    <tr>\n",
       "      <th>2013-01-05</th>\n",
       "      <td>-0.561139</td>\n",
       "      <td>-0.424300</td>\n",
       "    </tr>\n",
       "    <tr>\n",
       "      <th>2013-01-06</th>\n",
       "      <td>-0.641970</td>\n",
       "      <td>-1.982298</td>\n",
       "    </tr>\n",
       "  </tbody>\n",
       "</table>\n",
       "</div>"
      ],
      "text/plain": [
       "                   A         B\n",
       "2013-01-01 -1.449051  0.878814\n",
       "2013-01-02  0.608452 -1.683112\n",
       "2013-01-03  0.139518 -2.121796\n",
       "2013-01-04  1.130596  1.224693\n",
       "2013-01-05 -0.561139 -0.424300\n",
       "2013-01-06 -0.641970 -1.982298"
      ]
     },
     "execution_count": 273,
     "metadata": {},
     "output_type": "execute_result"
    }
   ],
   "source": [
    "#Selecting on a multi-axis by label \n",
    "df.loc[:,['A','B']]"
   ]
  },
  {
   "cell_type": "code",
   "execution_count": 274,
   "id": "73eb7e77-cb61-4e71-b7c1-d8ab30aac42f",
   "metadata": {},
   "outputs": [
    {
     "data": {
      "text/html": [
       "<div>\n",
       "<style scoped>\n",
       "    .dataframe tbody tr th:only-of-type {\n",
       "        vertical-align: middle;\n",
       "    }\n",
       "\n",
       "    .dataframe tbody tr th {\n",
       "        vertical-align: top;\n",
       "    }\n",
       "\n",
       "    .dataframe thead th {\n",
       "        text-align: right;\n",
       "    }\n",
       "</style>\n",
       "<table border=\"1\" class=\"dataframe\">\n",
       "  <thead>\n",
       "    <tr style=\"text-align: right;\">\n",
       "      <th></th>\n",
       "      <th>A</th>\n",
       "      <th>B</th>\n",
       "    </tr>\n",
       "  </thead>\n",
       "  <tbody>\n",
       "    <tr>\n",
       "      <th>2013-01-02</th>\n",
       "      <td>0.608452</td>\n",
       "      <td>-1.683112</td>\n",
       "    </tr>\n",
       "    <tr>\n",
       "      <th>2013-01-03</th>\n",
       "      <td>0.139518</td>\n",
       "      <td>-2.121796</td>\n",
       "    </tr>\n",
       "    <tr>\n",
       "      <th>2013-01-04</th>\n",
       "      <td>1.130596</td>\n",
       "      <td>1.224693</td>\n",
       "    </tr>\n",
       "  </tbody>\n",
       "</table>\n",
       "</div>"
      ],
      "text/plain": [
       "                   A         B\n",
       "2013-01-02  0.608452 -1.683112\n",
       "2013-01-03  0.139518 -2.121796\n",
       "2013-01-04  1.130596  1.224693"
      ]
     },
     "execution_count": 274,
     "metadata": {},
     "output_type": "execute_result"
    }
   ],
   "source": [
    "#Showing label slicing, both endpoints are included \n",
    "df.loc['20130102':'20130104',['A','B']]"
   ]
  },
  {
   "cell_type": "code",
   "execution_count": 275,
   "id": "2d62f7ed-09cf-44d9-ab31-a8aede863a7b",
   "metadata": {},
   "outputs": [
    {
     "data": {
      "text/plain": [
       "A    0.608452\n",
       "B   -1.683112\n",
       "Name: 2013-01-02 00:00:00, dtype: float64"
      ]
     },
     "execution_count": 275,
     "metadata": {},
     "output_type": "execute_result"
    }
   ],
   "source": [
    "# Reduction in the dimensions of the returned object\n",
    "df.loc['20130102',['A','B']]"
   ]
  },
  {
   "cell_type": "code",
   "execution_count": 276,
   "id": "e599f214-fb40-4370-a599-60ffdb9f64a8",
   "metadata": {},
   "outputs": [
    {
     "data": {
      "text/plain": [
       "np.float64(-1.4490508034901701)"
      ]
     },
     "execution_count": 276,
     "metadata": {},
     "output_type": "execute_result"
    }
   ],
   "source": [
    "# For getting a scalar value \n",
    "df.loc[dates[0],'A']"
   ]
  },
  {
   "cell_type": "code",
   "execution_count": 277,
   "id": "09649c3c-0b87-4c38-8f75-58522b7d17bc",
   "metadata": {},
   "outputs": [
    {
     "data": {
      "text/plain": [
       "np.float64(-1.4490508034901701)"
      ]
     },
     "execution_count": 277,
     "metadata": {},
     "output_type": "execute_result"
    }
   ],
   "source": [
    "# For getting fast access to a scalar \n",
    "df.at[dates[0],'A']"
   ]
  },
  {
   "cell_type": "code",
   "execution_count": 278,
   "id": "35452795-55dd-430b-a9de-fbe69fcff3ab",
   "metadata": {},
   "outputs": [
    {
     "data": {
      "text/plain": [
       "A    1.130596\n",
       "B    1.224693\n",
       "C    0.321386\n",
       "D    0.808295\n",
       "Name: 2013-01-04 00:00:00, dtype: float64"
      ]
     },
     "execution_count": 278,
     "metadata": {},
     "output_type": "execute_result"
    }
   ],
   "source": [
    "# Select via the position of the passed integers\n",
    "df.iloc[3]"
   ]
  },
  {
   "cell_type": "code",
   "execution_count": 279,
   "id": "63751e9b-9b92-4e51-8df1-839d83c2b0a3",
   "metadata": {},
   "outputs": [
    {
     "data": {
      "text/html": [
       "<div>\n",
       "<style scoped>\n",
       "    .dataframe tbody tr th:only-of-type {\n",
       "        vertical-align: middle;\n",
       "    }\n",
       "\n",
       "    .dataframe tbody tr th {\n",
       "        vertical-align: top;\n",
       "    }\n",
       "\n",
       "    .dataframe thead th {\n",
       "        text-align: right;\n",
       "    }\n",
       "</style>\n",
       "<table border=\"1\" class=\"dataframe\">\n",
       "  <thead>\n",
       "    <tr style=\"text-align: right;\">\n",
       "      <th></th>\n",
       "      <th>A</th>\n",
       "      <th>B</th>\n",
       "    </tr>\n",
       "  </thead>\n",
       "  <tbody>\n",
       "    <tr>\n",
       "      <th>2013-01-04</th>\n",
       "      <td>1.130596</td>\n",
       "      <td>1.224693</td>\n",
       "    </tr>\n",
       "    <tr>\n",
       "      <th>2013-01-05</th>\n",
       "      <td>-0.561139</td>\n",
       "      <td>-0.424300</td>\n",
       "    </tr>\n",
       "  </tbody>\n",
       "</table>\n",
       "</div>"
      ],
      "text/plain": [
       "                   A         B\n",
       "2013-01-04  1.130596  1.224693\n",
       "2013-01-05 -0.561139 -0.424300"
      ]
     },
     "execution_count": 279,
     "metadata": {},
     "output_type": "execute_result"
    }
   ],
   "source": [
    "# By integer slices, acting similar to numpy/python \n",
    "df.iloc[3:5,0:2]"
   ]
  },
  {
   "cell_type": "code",
   "execution_count": 280,
   "id": "7691830c-9b60-4576-a09c-4297725d9d65",
   "metadata": {},
   "outputs": [
    {
     "data": {
      "text/html": [
       "<div>\n",
       "<style scoped>\n",
       "    .dataframe tbody tr th:only-of-type {\n",
       "        vertical-align: middle;\n",
       "    }\n",
       "\n",
       "    .dataframe tbody tr th {\n",
       "        vertical-align: top;\n",
       "    }\n",
       "\n",
       "    .dataframe thead th {\n",
       "        text-align: right;\n",
       "    }\n",
       "</style>\n",
       "<table border=\"1\" class=\"dataframe\">\n",
       "  <thead>\n",
       "    <tr style=\"text-align: right;\">\n",
       "      <th></th>\n",
       "      <th>A</th>\n",
       "      <th>C</th>\n",
       "    </tr>\n",
       "  </thead>\n",
       "  <tbody>\n",
       "    <tr>\n",
       "      <th>2013-01-02</th>\n",
       "      <td>0.608452</td>\n",
       "      <td>-0.749093</td>\n",
       "    </tr>\n",
       "    <tr>\n",
       "      <th>2013-01-03</th>\n",
       "      <td>0.139518</td>\n",
       "      <td>-1.172767</td>\n",
       "    </tr>\n",
       "    <tr>\n",
       "      <th>2013-01-05</th>\n",
       "      <td>-0.561139</td>\n",
       "      <td>-1.498077</td>\n",
       "    </tr>\n",
       "  </tbody>\n",
       "</table>\n",
       "</div>"
      ],
      "text/plain": [
       "                   A         C\n",
       "2013-01-02  0.608452 -0.749093\n",
       "2013-01-03  0.139518 -1.172767\n",
       "2013-01-05 -0.561139 -1.498077"
      ]
     },
     "execution_count": 280,
     "metadata": {},
     "output_type": "execute_result"
    }
   ],
   "source": [
    "# By lists of integer position locations, similar to the numpy/python style\n",
    "df.iloc[[1,2,4],[0,2]]"
   ]
  },
  {
   "cell_type": "code",
   "execution_count": 281,
   "id": "53b632e4-ef4a-450a-b089-0f5d6f07cac4",
   "metadata": {},
   "outputs": [
    {
     "data": {
      "text/html": [
       "<div>\n",
       "<style scoped>\n",
       "    .dataframe tbody tr th:only-of-type {\n",
       "        vertical-align: middle;\n",
       "    }\n",
       "\n",
       "    .dataframe tbody tr th {\n",
       "        vertical-align: top;\n",
       "    }\n",
       "\n",
       "    .dataframe thead th {\n",
       "        text-align: right;\n",
       "    }\n",
       "</style>\n",
       "<table border=\"1\" class=\"dataframe\">\n",
       "  <thead>\n",
       "    <tr style=\"text-align: right;\">\n",
       "      <th></th>\n",
       "      <th>B</th>\n",
       "      <th>C</th>\n",
       "    </tr>\n",
       "  </thead>\n",
       "  <tbody>\n",
       "    <tr>\n",
       "      <th>2013-01-01</th>\n",
       "      <td>0.878814</td>\n",
       "      <td>0.032972</td>\n",
       "    </tr>\n",
       "    <tr>\n",
       "      <th>2013-01-02</th>\n",
       "      <td>-1.683112</td>\n",
       "      <td>-0.749093</td>\n",
       "    </tr>\n",
       "    <tr>\n",
       "      <th>2013-01-03</th>\n",
       "      <td>-2.121796</td>\n",
       "      <td>-1.172767</td>\n",
       "    </tr>\n",
       "    <tr>\n",
       "      <th>2013-01-04</th>\n",
       "      <td>1.224693</td>\n",
       "      <td>0.321386</td>\n",
       "    </tr>\n",
       "    <tr>\n",
       "      <th>2013-01-05</th>\n",
       "      <td>-0.424300</td>\n",
       "      <td>-1.498077</td>\n",
       "    </tr>\n",
       "    <tr>\n",
       "      <th>2013-01-06</th>\n",
       "      <td>-1.982298</td>\n",
       "      <td>-0.288812</td>\n",
       "    </tr>\n",
       "  </tbody>\n",
       "</table>\n",
       "</div>"
      ],
      "text/plain": [
       "                   B         C\n",
       "2013-01-01  0.878814  0.032972\n",
       "2013-01-02 -1.683112 -0.749093\n",
       "2013-01-03 -2.121796 -1.172767\n",
       "2013-01-04  1.224693  0.321386\n",
       "2013-01-05 -0.424300 -1.498077\n",
       "2013-01-06 -1.982298 -0.288812"
      ]
     },
     "execution_count": 281,
     "metadata": {},
     "output_type": "execute_result"
    }
   ],
   "source": [
    "# For slicing rows explicitly \n",
    "df.iloc[:,1:3]"
   ]
  },
  {
   "cell_type": "code",
   "execution_count": 282,
   "id": "e49b0099-c533-4049-b13c-b436e76bc4d0",
   "metadata": {},
   "outputs": [
    {
     "data": {
      "text/plain": [
       "np.float64(-1.6831118655029507)"
      ]
     },
     "execution_count": 282,
     "metadata": {},
     "output_type": "execute_result"
    }
   ],
   "source": [
    "# For getting a value explicitly\n",
    "df.iloc[1,1]"
   ]
  },
  {
   "cell_type": "code",
   "execution_count": 283,
   "id": "227a37ad-3a64-4d7f-a0a5-9c6c15ef5c62",
   "metadata": {},
   "outputs": [
    {
     "data": {
      "text/html": [
       "<div>\n",
       "<style scoped>\n",
       "    .dataframe tbody tr th:only-of-type {\n",
       "        vertical-align: middle;\n",
       "    }\n",
       "\n",
       "    .dataframe tbody tr th {\n",
       "        vertical-align: top;\n",
       "    }\n",
       "\n",
       "    .dataframe thead th {\n",
       "        text-align: right;\n",
       "    }\n",
       "</style>\n",
       "<table border=\"1\" class=\"dataframe\">\n",
       "  <thead>\n",
       "    <tr style=\"text-align: right;\">\n",
       "      <th></th>\n",
       "      <th>A</th>\n",
       "      <th>B</th>\n",
       "      <th>C</th>\n",
       "      <th>D</th>\n",
       "    </tr>\n",
       "  </thead>\n",
       "  <tbody>\n",
       "    <tr>\n",
       "      <th>2013-01-02</th>\n",
       "      <td>0.608452</td>\n",
       "      <td>-1.683112</td>\n",
       "      <td>-0.749093</td>\n",
       "      <td>1.544493</td>\n",
       "    </tr>\n",
       "    <tr>\n",
       "      <th>2013-01-03</th>\n",
       "      <td>0.139518</td>\n",
       "      <td>-2.121796</td>\n",
       "      <td>-1.172767</td>\n",
       "      <td>-1.459797</td>\n",
       "    </tr>\n",
       "    <tr>\n",
       "      <th>2013-01-04</th>\n",
       "      <td>1.130596</td>\n",
       "      <td>1.224693</td>\n",
       "      <td>0.321386</td>\n",
       "      <td>0.808295</td>\n",
       "    </tr>\n",
       "  </tbody>\n",
       "</table>\n",
       "</div>"
      ],
      "text/plain": [
       "                   A         B         C         D\n",
       "2013-01-02  0.608452 -1.683112 -0.749093  1.544493\n",
       "2013-01-03  0.139518 -2.121796 -1.172767 -1.459797\n",
       "2013-01-04  1.130596  1.224693  0.321386  0.808295"
      ]
     },
     "execution_count": 283,
     "metadata": {},
     "output_type": "execute_result"
    }
   ],
   "source": [
    "# Using a single column’s values to select data.\n",
    "df[df.A > 0]"
   ]
  },
  {
   "cell_type": "code",
   "execution_count": 284,
   "id": "4686fb63-f8ea-4813-95b1-04db0ac8d52b",
   "metadata": {},
   "outputs": [
    {
     "data": {
      "text/html": [
       "<div>\n",
       "<style scoped>\n",
       "    .dataframe tbody tr th:only-of-type {\n",
       "        vertical-align: middle;\n",
       "    }\n",
       "\n",
       "    .dataframe tbody tr th {\n",
       "        vertical-align: top;\n",
       "    }\n",
       "\n",
       "    .dataframe thead th {\n",
       "        text-align: right;\n",
       "    }\n",
       "</style>\n",
       "<table border=\"1\" class=\"dataframe\">\n",
       "  <thead>\n",
       "    <tr style=\"text-align: right;\">\n",
       "      <th></th>\n",
       "      <th>A</th>\n",
       "      <th>B</th>\n",
       "      <th>C</th>\n",
       "      <th>D</th>\n",
       "    </tr>\n",
       "  </thead>\n",
       "  <tbody>\n",
       "    <tr>\n",
       "      <th>2013-01-01</th>\n",
       "      <td>NaN</td>\n",
       "      <td>0.878814</td>\n",
       "      <td>0.032972</td>\n",
       "      <td>NaN</td>\n",
       "    </tr>\n",
       "    <tr>\n",
       "      <th>2013-01-02</th>\n",
       "      <td>0.608452</td>\n",
       "      <td>NaN</td>\n",
       "      <td>NaN</td>\n",
       "      <td>1.544493</td>\n",
       "    </tr>\n",
       "    <tr>\n",
       "      <th>2013-01-03</th>\n",
       "      <td>0.139518</td>\n",
       "      <td>NaN</td>\n",
       "      <td>NaN</td>\n",
       "      <td>NaN</td>\n",
       "    </tr>\n",
       "    <tr>\n",
       "      <th>2013-01-04</th>\n",
       "      <td>1.130596</td>\n",
       "      <td>1.224693</td>\n",
       "      <td>0.321386</td>\n",
       "      <td>0.808295</td>\n",
       "    </tr>\n",
       "    <tr>\n",
       "      <th>2013-01-05</th>\n",
       "      <td>NaN</td>\n",
       "      <td>NaN</td>\n",
       "      <td>NaN</td>\n",
       "      <td>0.052844</td>\n",
       "    </tr>\n",
       "    <tr>\n",
       "      <th>2013-01-06</th>\n",
       "      <td>NaN</td>\n",
       "      <td>NaN</td>\n",
       "      <td>NaN</td>\n",
       "      <td>NaN</td>\n",
       "    </tr>\n",
       "  </tbody>\n",
       "</table>\n",
       "</div>"
      ],
      "text/plain": [
       "                   A         B         C         D\n",
       "2013-01-01       NaN  0.878814  0.032972       NaN\n",
       "2013-01-02  0.608452       NaN       NaN  1.544493\n",
       "2013-01-03  0.139518       NaN       NaN       NaN\n",
       "2013-01-04  1.130596  1.224693  0.321386  0.808295\n",
       "2013-01-05       NaN       NaN       NaN  0.052844\n",
       "2013-01-06       NaN       NaN       NaN       NaN"
      ]
     },
     "execution_count": 284,
     "metadata": {},
     "output_type": "execute_result"
    }
   ],
   "source": [
    "# Selecting values from a DataFrame where a boolean condition is met.\n",
    "df[df > 0]"
   ]
  },
  {
   "cell_type": "code",
   "execution_count": 285,
   "id": "76e59027-73db-411e-93b6-6d550582263e",
   "metadata": {},
   "outputs": [],
   "source": [
    "# Using the isin() method for filtering: \n",
    "df2 = df.copy()"
   ]
  },
  {
   "cell_type": "code",
   "execution_count": 286,
   "id": "d5300948-11fb-4a5e-8cca-e1cf85eb7479",
   "metadata": {},
   "outputs": [],
   "source": [
    "df2['E'] = ['one', 'one','two','three','four','three']"
   ]
  },
  {
   "cell_type": "code",
   "execution_count": 287,
   "id": "a9c46707-b38b-4334-b0a7-38564051f169",
   "metadata": {},
   "outputs": [
    {
     "data": {
      "text/html": [
       "<div>\n",
       "<style scoped>\n",
       "    .dataframe tbody tr th:only-of-type {\n",
       "        vertical-align: middle;\n",
       "    }\n",
       "\n",
       "    .dataframe tbody tr th {\n",
       "        vertical-align: top;\n",
       "    }\n",
       "\n",
       "    .dataframe thead th {\n",
       "        text-align: right;\n",
       "    }\n",
       "</style>\n",
       "<table border=\"1\" class=\"dataframe\">\n",
       "  <thead>\n",
       "    <tr style=\"text-align: right;\">\n",
       "      <th></th>\n",
       "      <th>A</th>\n",
       "      <th>B</th>\n",
       "      <th>C</th>\n",
       "      <th>D</th>\n",
       "      <th>E</th>\n",
       "    </tr>\n",
       "  </thead>\n",
       "  <tbody>\n",
       "    <tr>\n",
       "      <th>2013-01-01</th>\n",
       "      <td>-1.449051</td>\n",
       "      <td>0.878814</td>\n",
       "      <td>0.032972</td>\n",
       "      <td>-0.372187</td>\n",
       "      <td>one</td>\n",
       "    </tr>\n",
       "    <tr>\n",
       "      <th>2013-01-02</th>\n",
       "      <td>0.608452</td>\n",
       "      <td>-1.683112</td>\n",
       "      <td>-0.749093</td>\n",
       "      <td>1.544493</td>\n",
       "      <td>one</td>\n",
       "    </tr>\n",
       "    <tr>\n",
       "      <th>2013-01-03</th>\n",
       "      <td>0.139518</td>\n",
       "      <td>-2.121796</td>\n",
       "      <td>-1.172767</td>\n",
       "      <td>-1.459797</td>\n",
       "      <td>two</td>\n",
       "    </tr>\n",
       "    <tr>\n",
       "      <th>2013-01-04</th>\n",
       "      <td>1.130596</td>\n",
       "      <td>1.224693</td>\n",
       "      <td>0.321386</td>\n",
       "      <td>0.808295</td>\n",
       "      <td>three</td>\n",
       "    </tr>\n",
       "    <tr>\n",
       "      <th>2013-01-05</th>\n",
       "      <td>-0.561139</td>\n",
       "      <td>-0.424300</td>\n",
       "      <td>-1.498077</td>\n",
       "      <td>0.052844</td>\n",
       "      <td>four</td>\n",
       "    </tr>\n",
       "    <tr>\n",
       "      <th>2013-01-06</th>\n",
       "      <td>-0.641970</td>\n",
       "      <td>-1.982298</td>\n",
       "      <td>-0.288812</td>\n",
       "      <td>-1.391491</td>\n",
       "      <td>three</td>\n",
       "    </tr>\n",
       "  </tbody>\n",
       "</table>\n",
       "</div>"
      ],
      "text/plain": [
       "                   A         B         C         D      E\n",
       "2013-01-01 -1.449051  0.878814  0.032972 -0.372187    one\n",
       "2013-01-02  0.608452 -1.683112 -0.749093  1.544493    one\n",
       "2013-01-03  0.139518 -2.121796 -1.172767 -1.459797    two\n",
       "2013-01-04  1.130596  1.224693  0.321386  0.808295  three\n",
       "2013-01-05 -0.561139 -0.424300 -1.498077  0.052844   four\n",
       "2013-01-06 -0.641970 -1.982298 -0.288812 -1.391491  three"
      ]
     },
     "execution_count": 287,
     "metadata": {},
     "output_type": "execute_result"
    }
   ],
   "source": [
    "df2"
   ]
  },
  {
   "cell_type": "code",
   "execution_count": 288,
   "id": "879f2f1f-65bb-4e7a-b71c-c4cb48e40e71",
   "metadata": {},
   "outputs": [
    {
     "data": {
      "text/html": [
       "<div>\n",
       "<style scoped>\n",
       "    .dataframe tbody tr th:only-of-type {\n",
       "        vertical-align: middle;\n",
       "    }\n",
       "\n",
       "    .dataframe tbody tr th {\n",
       "        vertical-align: top;\n",
       "    }\n",
       "\n",
       "    .dataframe thead th {\n",
       "        text-align: right;\n",
       "    }\n",
       "</style>\n",
       "<table border=\"1\" class=\"dataframe\">\n",
       "  <thead>\n",
       "    <tr style=\"text-align: right;\">\n",
       "      <th></th>\n",
       "      <th>A</th>\n",
       "      <th>B</th>\n",
       "      <th>C</th>\n",
       "      <th>D</th>\n",
       "      <th>E</th>\n",
       "    </tr>\n",
       "  </thead>\n",
       "  <tbody>\n",
       "    <tr>\n",
       "      <th>2013-01-03</th>\n",
       "      <td>0.139518</td>\n",
       "      <td>-2.121796</td>\n",
       "      <td>-1.172767</td>\n",
       "      <td>-1.459797</td>\n",
       "      <td>two</td>\n",
       "    </tr>\n",
       "    <tr>\n",
       "      <th>2013-01-05</th>\n",
       "      <td>-0.561139</td>\n",
       "      <td>-0.424300</td>\n",
       "      <td>-1.498077</td>\n",
       "      <td>0.052844</td>\n",
       "      <td>four</td>\n",
       "    </tr>\n",
       "  </tbody>\n",
       "</table>\n",
       "</div>"
      ],
      "text/plain": [
       "                   A         B         C         D     E\n",
       "2013-01-03  0.139518 -2.121796 -1.172767 -1.459797   two\n",
       "2013-01-05 -0.561139 -0.424300 -1.498077  0.052844  four"
      ]
     },
     "execution_count": 288,
     "metadata": {},
     "output_type": "execute_result"
    }
   ],
   "source": [
    "df2[df2['E'].isin(['two','four'])]"
   ]
  },
  {
   "cell_type": "code",
   "execution_count": null,
   "id": "7f905e2a-69b4-428a-b4e3-f27fc09cc453",
   "metadata": {},
   "outputs": [],
   "source": []
  }
 ],
 "metadata": {
  "kernelspec": {
   "display_name": "Python 3 (ipykernel)",
   "language": "python",
   "name": "python3"
  },
  "language_info": {
   "codemirror_mode": {
    "name": "ipython",
    "version": 3
   },
   "file_extension": ".py",
   "mimetype": "text/x-python",
   "name": "python",
   "nbconvert_exporter": "python",
   "pygments_lexer": "ipython3",
   "version": "3.11.11"
  }
 },
 "nbformat": 4,
 "nbformat_minor": 5
}
