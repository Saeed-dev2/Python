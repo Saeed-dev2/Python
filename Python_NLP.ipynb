{
 "cells": [
  {
   "cell_type": "code",
   "execution_count": 1,
   "id": "dd743c01-f664-4051-945f-597cbcc33449",
   "metadata": {},
   "outputs": [
    {
     "name": "stdout",
     "output_type": "stream",
     "text": [
      "JupyterLab is working!\n"
     ]
    }
   ],
   "source": [
    "print(\"JupyterLab is working!\")\n"
   ]
  },
  {
   "cell_type": "code",
   "execution_count": 2,
   "id": "762ab6f8-8e2f-48f9-86bc-1cf59464a8b4",
   "metadata": {},
   "outputs": [
    {
     "name": "stdout",
     "output_type": "stream",
     "text": [
      "# packages in environment at F:\\Miniconda\\envs\\ai_env:\n",
      "#\n",
      "# Name                    Version                   Build  Channel\n",
      "anyio                     4.7.0           py311haa95532_0  \n",
      "argon2-cffi               21.3.0             pyhd3eb1b0_0  \n",
      "argon2-cffi-bindings      21.2.0          py311h827c3e9_1  \n",
      "asttokens                 3.0.0           py311haa95532_0  \n",
      "async-lru                 2.0.4           py311haa95532_0  \n",
      "attrs                     24.3.0          py311haa95532_0  \n",
      "babel                     2.16.0          py311haa95532_0  \n",
      "beautifulsoup4            4.12.3          py311haa95532_0  \n",
      "blas                      1.0                         mkl  \n",
      "bleach                    6.2.0           py311haa95532_0  \n",
      "bottleneck                1.4.2           py311h57dcf0c_0  \n",
      "brotli-python             1.0.9           py311h5da7b33_9  \n",
      "bzip2                     1.0.8                h2bbff1b_6  \n",
      "ca-certificates           2025.2.25            haa95532_0  \n",
      "certifi                   2025.4.26       py311haa95532_0  \n",
      "cffi                      1.17.1          py311h827c3e9_1  \n",
      "charset-normalizer        3.3.2              pyhd3eb1b0_0  \n",
      "click                     8.2.1                    pypi_0    pypi\n",
      "colorama                  0.4.6           py311haa95532_0  \n",
      "comm                      0.2.1           py311haa95532_0  \n",
      "contourpy                 1.3.1           py311h214f63a_0  \n",
      "cycler                    0.11.0             pyhd3eb1b0_0  \n",
      "debugpy                   1.8.11          py311h5da7b33_0  \n",
      "decorator                 5.1.1              pyhd3eb1b0_0  \n",
      "defusedxml                0.7.1              pyhd3eb1b0_0  \n",
      "executing                 0.8.3              pyhd3eb1b0_0  \n",
      "fonttools                 4.55.3          py311h827c3e9_0  \n",
      "freeglut                  3.4.0                h8a1e904_1  \n",
      "freetype                  2.13.3               h0620614_0  \n",
      "h11                       0.16.0          py311haa95532_0  \n",
      "httpcore                  1.0.9           py311haa95532_0  \n",
      "httpx                     0.28.1          py311haa95532_0  \n",
      "icu                       73.1                 h6c2663c_0  \n",
      "idna                      3.7             py311haa95532_0  \n",
      "intel-openmp              2023.1.0         h59b6b97_46320  \n",
      "ipykernel                 6.29.5          py311haa95532_1  \n",
      "ipython                   9.1.0           py311haa95532_0  \n",
      "ipython_pygments_lexers   1.1.1           py311haa95532_0  \n",
      "ipywidgets                8.1.5           py311haa95532_0  \n",
      "jedi                      0.19.2          py311haa95532_0  \n",
      "jinja2                    3.1.6           py311haa95532_0  \n",
      "joblib                    1.5.1                    pypi_0    pypi\n",
      "jpeg                      9e                   h827c3e9_3  \n",
      "json5                     0.9.25          py311haa95532_0  \n",
      "jsonschema                4.23.0          py311haa95532_0  \n",
      "jsonschema-specifications 2023.7.1        py311haa95532_0  \n",
      "jupyter                   1.1.1           py311haa95532_0  \n",
      "jupyter-lsp               2.2.5           py311haa95532_0  \n",
      "jupyter_client            8.6.3           py311haa95532_0  \n",
      "jupyter_console           6.6.3           py311haa95532_0  \n",
      "jupyter_core              5.7.2           py311haa95532_0  \n",
      "jupyter_events            0.12.0          py311haa95532_0  \n",
      "jupyter_server            2.15.0          py311haa95532_0  \n",
      "jupyter_server_terminals  0.5.3           py311haa95532_0  \n",
      "jupyterlab                4.3.4           py311haa95532_0  \n",
      "jupyterlab_pygments       0.3.0           py311haa95532_0  \n",
      "jupyterlab_server         2.27.3          py311haa95532_0  \n",
      "jupyterlab_widgets        3.0.13          py311haa95532_0  \n",
      "kiwisolver                1.4.8           py311h5da7b33_0  \n",
      "krb5                      1.20.1               h5b6d351_0  \n",
      "lcms2                     2.16                 h62be587_1  \n",
      "lerc                      4.0.0                h5da7b33_0  \n",
      "libdeflate                1.22                 h5bf469e_0  \n",
      "libffi                    3.4.4                hd77b12b_1  \n",
      "libpng                    1.6.39               h8cc25b3_0  \n",
      "libpq                     17.4                 h70ee33d_0  \n",
      "libsodium                 1.0.18               h62dcd97_0  \n",
      "libtiff                   4.7.0                h404307b_0  \n",
      "libwebp-base              1.3.2                h3d04722_1  \n",
      "lz4-c                     1.9.4                h2bbff1b_1  \n",
      "markupsafe                3.0.2           py311h827c3e9_0  \n",
      "matplotlib                3.10.0          py311haa95532_0  \n",
      "matplotlib-base           3.10.0          py311he19b0ae_0  \n",
      "matplotlib-inline         0.1.6           py311haa95532_0  \n",
      "mistune                   3.1.2           py311haa95532_0  \n",
      "mkl                       2023.1.0         h6b88ed4_46358  \n",
      "mkl-service               2.4.0           py311h827c3e9_2  \n",
      "mkl_fft                   1.3.11          py311h827c3e9_0  \n",
      "mkl_random                1.2.8           py311hea22821_0  \n",
      "nbclient                  0.10.2          py311haa95532_0  \n",
      "nbconvert                 7.16.6          py311haa95532_0  \n",
      "nbconvert-core            7.16.6          py311haa95532_0  \n",
      "nbconvert-pandoc          7.16.6          py311haa95532_0  \n",
      "nbformat                  5.10.4          py311haa95532_0  \n",
      "nest-asyncio              1.6.0           py311haa95532_0  \n",
      "nltk                      3.9.1                    pypi_0    pypi\n",
      "notebook                  7.3.2           py311haa95532_0  \n",
      "notebook-shim             0.2.4           py311haa95532_0  \n",
      "numexpr                   2.10.1          py311h4cd664f_0  \n",
      "numpy                     2.0.1           py311hdab7c0b_1  \n",
      "numpy-base                2.0.1           py311hd01c5d8_1  \n",
      "openjpeg                  2.5.2                h9b5d1b5_1  \n",
      "openssl                   3.0.16               h3f729d1_0  \n",
      "overrides                 7.4.0           py311haa95532_0  \n",
      "packaging                 24.2            py311haa95532_0  \n",
      "pandas                    2.2.3           py311h5da7b33_0  \n",
      "pandoc                    2.12                 haa95532_3  \n",
      "pandocfilters             1.5.0              pyhd3eb1b0_0  \n",
      "parso                     0.8.4           py311haa95532_0  \n",
      "pillow                    11.1.0          py311hea0d53e_1  \n",
      "pip                       25.1               pyhc872135_2  \n",
      "platformdirs              4.3.7           py311haa95532_0  \n",
      "prometheus_client         0.21.1          py311haa95532_0  \n",
      "prompt-toolkit            3.0.43          py311haa95532_0  \n",
      "prompt_toolkit            3.0.43               hd3eb1b0_0  \n",
      "psutil                    5.9.0           py311h827c3e9_1  \n",
      "pure_eval                 0.2.2              pyhd3eb1b0_0  \n",
      "pycparser                 2.21               pyhd3eb1b0_0  \n",
      "pygments                  2.19.1          py311haa95532_0  \n",
      "pyparsing                 3.2.0           py311haa95532_0  \n",
      "pyqt                      6.7.1           py311h5da7b33_1  \n",
      "pyqt6-sip                 13.9.1          py311h827c3e9_1  \n",
      "pysocks                   1.7.1           py311haa95532_0  \n",
      "python                    3.11.11              h4607a30_0  \n",
      "python-dateutil           2.9.0post0      py311haa95532_2  \n",
      "python-fastjsonschema     2.20.0          py311haa95532_0  \n",
      "python-json-logger        3.2.1           py311haa95532_0  \n",
      "python-tzdata             2025.2             pyhd3eb1b0_0  \n",
      "pytz                      2024.1          py311haa95532_0  \n",
      "pywin32                   308             py311h5da7b33_0  \n",
      "pywinpty                  2.0.15          py311h72d21ff_0  \n",
      "pyyaml                    6.0.2           py311h827c3e9_0  \n",
      "pyzmq                     26.2.0          py311h5da7b33_0  \n",
      "qtbase                    6.7.3                h0804d20_0  \n",
      "qtconsole                 5.6.1           py311haa95532_1  \n",
      "qtdeclarative             6.7.3                h5da7b33_0  \n",
      "qtpy                      2.4.1           py311haa95532_0  \n",
      "qtsvg                     6.7.3                hf2fb9eb_0  \n",
      "qttools                   6.7.3                h0de5f00_0  \n",
      "qtwebchannel              6.7.3                h5da7b33_0  \n",
      "qtwebsockets              6.7.3                h5da7b33_0  \n",
      "referencing               0.30.2          py311haa95532_0  \n",
      "regex                     2024.11.6                pypi_0    pypi\n",
      "requests                  2.32.3          py311haa95532_1  \n",
      "rfc3339-validator         0.1.4           py311haa95532_0  \n",
      "rfc3986-validator         0.1.1           py311haa95532_0  \n",
      "rpds-py                   0.22.3          py311h636fa0f_0  \n",
      "send2trash                1.8.2           py311haa95532_1  \n",
      "setuptools                78.1.1          py311haa95532_0  \n",
      "sip                       6.10.0          py311h5da7b33_0  \n",
      "six                       1.17.0          py311haa95532_0  \n",
      "sniffio                   1.3.0           py311haa95532_0  \n",
      "soupsieve                 2.5             py311haa95532_0  \n",
      "sqlite                    3.45.3               h2bbff1b_0  \n",
      "stack_data                0.2.0              pyhd3eb1b0_0  \n",
      "tbb                       2021.8.0             h59b6b97_0  \n",
      "terminado                 0.17.1          py311haa95532_0  \n",
      "tinycss2                  1.4.0           py311haa95532_0  \n",
      "tk                        8.6.14               h5e9d12e_1  \n",
      "tornado                   6.5.1           py311h827c3e9_0  \n",
      "tqdm                      4.67.1                   pypi_0    pypi\n",
      "traitlets                 5.14.3          py311haa95532_0  \n",
      "typing-extensions         4.12.2          py311haa95532_0  \n",
      "typing_extensions         4.12.2          py311haa95532_0  \n",
      "tzdata                    2025b                h04d1e81_0  \n",
      "unicodedata2              15.1.0          py311h827c3e9_1  \n",
      "urllib3                   2.3.0           py311haa95532_0  \n",
      "vc                        14.42                haa95532_5  \n",
      "vs2015_runtime            14.42.34433          hbfb602d_5  \n",
      "wcwidth                   0.2.5              pyhd3eb1b0_0  \n",
      "webencodings              0.5.1           py311haa95532_1  \n",
      "websocket-client          1.8.0           py311haa95532_0  \n",
      "wheel                     0.45.1          py311haa95532_0  \n",
      "widgetsnbextension        4.0.13          py311haa95532_0  \n",
      "win_inet_pton             1.1.0           py311haa95532_0  \n",
      "winpty                    0.4.3                         4  \n",
      "xz                        5.6.4                h4754444_1  \n",
      "yaml                      0.2.5                he774522_0  \n",
      "zeromq                    4.3.5                hd77b12b_0  \n",
      "zlib                      1.2.13               h8cc25b3_1  \n",
      "zstd                      1.5.6                h8880b57_0  \n"
     ]
    }
   ],
   "source": [
    "!conda list\n"
   ]
  },
  {
   "cell_type": "code",
   "execution_count": 3,
   "id": "9f0006fb-3a22-4163-8964-d2a249305b2f",
   "metadata": {},
   "outputs": [
    {
     "name": "stdout",
     "output_type": "stream",
     "text": [
      "NLTK is installed!\n",
      "NLTK version: 3.9.1\n"
     ]
    }
   ],
   "source": [
    "import nltk\n",
    "print(\"NLTK is installed!\")\n",
    "print(\"NLTK version:\", nltk.__version__)\n"
   ]
  },
  {
   "cell_type": "code",
   "execution_count": 5,
   "id": "ec59d4f7-d057-4e34-bab2-c681860f4796",
   "metadata": {},
   "outputs": [
    {
     "name": "stderr",
     "output_type": "stream",
     "text": [
      "[nltk_data] Downloading package punkt_tab to C:\\Users\\Muhammad\n",
      "[nltk_data]     Saeed\\AppData\\Roaming\\nltk_data...\n",
      "[nltk_data]   Unzipping tokenizers\\punkt_tab.zip.\n"
     ]
    },
    {
     "data": {
      "text/plain": [
       "True"
      ]
     },
     "execution_count": 5,
     "metadata": {},
     "output_type": "execute_result"
    }
   ],
   "source": [
    "import nltk\n",
    "nltk.download('punkt_tab')"
   ]
  },
  {
   "cell_type": "code",
   "execution_count": 6,
   "id": "6b60a1f8-8eb5-4a38-b430-4226ba42e138",
   "metadata": {},
   "outputs": [
    {
     "name": "stdout",
     "output_type": "stream",
     "text": [
      "['All the great players and great people have one thing in common.', 'They work even harder when no one is watching them.']\n"
     ]
    }
   ],
   "source": [
    "__author__     = \"Mr. Muhammad Awais\"\n",
    "__copyright__  = \"Copyright (C) 2020 Mr. Muhammad Awais\"\n",
    "__license__    = \"Public Domain\"\n",
    "__version__    = \"1.0\"\n",
    "\n",
    "# The main aim of this program is to split a Text into Sentences using NLTK library\n",
    "\n",
    "# Import NLTK library \n",
    "import nltk\n",
    "\n",
    "# Import sentence tokenizer from the NLTK library\n",
    "from nltk.tokenize import sent_tokenize\n",
    "\n",
    "# Store text in a variable \n",
    "text = \"All the great players and great people have one thing in common. They work even harder when no one is watching them.\"\n",
    "\n",
    "# Call the sent_tokenize function to split text into sentences\n",
    "sentences = sent_tokenize(text)\n",
    "\n",
    "# Print the list of sentences\n",
    "print(sentences)\n"
   ]
  },
  {
   "cell_type": "code",
   "execution_count": 1,
   "id": "ce76261c-bd7e-4e6b-bb69-11a7d83f7436",
   "metadata": {},
   "outputs": [
    {
     "name": "stdout",
     "output_type": "stream",
     "text": [
      "['All the great players and great people have one thing in common.', 'They work even harder when no one is watching them.', 'Consistency beats motivation.', 'Discipline drives greatness when the lights are off and the crowd is gone.']\n"
     ]
    }
   ],
   "source": [
    "# Import NLTK library \n",
    "import nltk\n",
    "\n",
    "# Import sentence tokenizer from the NLTK library\n",
    "from nltk.tokenize import sent_tokenize\n",
    "\n",
    "# Store text in a variable \n",
    "text = \"All the great players and great people have one thing in common. They work even harder when no one is watching them.\"\n",
    "\n",
    "# Add more text\n",
    "text += \" Consistency beats motivation. Discipline drives greatness when the lights are off and the crowd is gone.\"\n",
    "\n",
    "# Call the sent_tokenize function to split text into sentences\n",
    "sentences = sent_tokenize(text)\n",
    "\n",
    "# Print the list of sentences\n",
    "print(sentences)\n"
   ]
  },
  {
   "cell_type": "code",
   "execution_count": 5,
   "id": "3cd717cd-6170-4a57-af2e-f7e234f1e686",
   "metadata": {},
   "outputs": [
    {
     "name": "stdout",
     "output_type": "stream",
     "text": [
      "Tokenized Sentences:\n",
      "1. All the great players and great people have one thing in common.\n",
      "2. They work even harder when no one is watching them.\n",
      "3. Consistency beats motivation.\n",
      "4. Discipline drives greatness when the lights are off and the crowd is gone.\n"
     ]
    }
   ],
   "source": [
    "# sentence_tokenizer.py\n",
    "\n",
    "import nltk\n",
    "from nltk.tokenize import sent_tokenize\n",
    "\n",
    "# Function to tokenize text into sentences\n",
    "def tokenize_sentences(text):\n",
    "    return sent_tokenize(text)\n",
    "\n",
    "# Main execution logic\n",
    "def main():\n",
    "\n",
    "    # Original and additional text\n",
    "    text = (\n",
    "        \"All the great players and great people have one thing in common. \"\n",
    "        \"They work even harder when no one is watching them. \"\n",
    "        \"Consistency beats motivation. \"\n",
    "        \"Discipline drives greatness when the lights are off and the crowd is gone.\"\n",
    "    )\n",
    "\n",
    "    # Tokenize the text\n",
    "    sentences = tokenize_sentences(text)\n",
    "\n",
    "    # Display the results\n",
    "    print(\"Tokenized Sentences:\")\n",
    "    for idx, sentence in enumerate(sentences, start=1):\n",
    "        print(f\"{idx}. {sentence}\")\n",
    "\n",
    "# Entry point\n",
    "if __name__ == \"__main__\":\n",
    "    main()\n"
   ]
  },
  {
   "cell_type": "code",
   "execution_count": null,
   "id": "79e90fe7-e174-4e32-851e-ca607e4d3899",
   "metadata": {},
   "outputs": [],
   "source": []
  }
 ],
 "metadata": {
  "kernelspec": {
   "display_name": "Python 3 (ipykernel)",
   "language": "python",
   "name": "python3"
  },
  "language_info": {
   "codemirror_mode": {
    "name": "ipython",
    "version": 3
   },
   "file_extension": ".py",
   "mimetype": "text/x-python",
   "name": "python",
   "nbconvert_exporter": "python",
   "pygments_lexer": "ipython3",
   "version": "3.11.11"
  }
 },
 "nbformat": 4,
 "nbformat_minor": 5
}
